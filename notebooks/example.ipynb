{
 "cells": [
  {
   "cell_type": "markdown",
   "metadata": {},
   "source": [
    "# Example code to apply the modular splicing model"
   ]
  },
  {
   "cell_type": "markdown",
   "metadata": {},
   "source": [
    "Example test variants come from ClinVar BRCA1 variants"
   ]
  },
  {
   "cell_type": "markdown",
   "metadata": {},
   "source": [
    "## Splicing delta PSI prediction"
   ]
  },
  {
   "cell_type": "code",
   "execution_count": 1,
   "metadata": {},
   "outputs": [
    {
     "name": "stderr",
     "output_type": "stream",
     "text": [
      "Using TensorFlow backend.\n"
     ]
    }
   ],
   "source": [
    "from mmsplice.vcf_dataloader import SplicingVCFDataloader\n",
    "from mmsplice import MMSplice, predict_all_table\n",
    "\n",
    "from mmsplice.utils import max_varEff"
   ]
  },
  {
   "cell_type": "code",
   "execution_count": 2,
   "metadata": {},
   "outputs": [],
   "source": [
    "gtf = '../tests/data/test.gtf'\n",
    "vcf = '../tests/data/test.vcf.gz'\n",
    "fasta = '../tests/data/hg19.nochr.chr17.fa'\n",
    "gtfIntervalTree = '../tests/data/test.pkl' # pickle exon interval Tree"
   ]
  },
  {
   "cell_type": "code",
   "execution_count": 3,
   "metadata": {},
   "outputs": [],
   "source": [
    "dl = SplicingVCFDataloader(gtfIntervalTree, \n",
    "                          fasta,\n",
    "                          vcf,\n",
    "                          out_file=gtfIntervalTree,\n",
    "                          split_seq=False, overhang=(100,100))"
   ]
  },
  {
   "cell_type": "code",
   "execution_count": 4,
   "metadata": {},
   "outputs": [
    {
     "data": {
      "text/plain": [
       "{'inputs': {'seq': 'CCTAAGAACTCATACAACCAGGACCCTGGAGTCGATTGATTAGAGCCTAGTCCAGGAGAATGAATTGACACTAATCTCTGCTTGTGTTCTCTGTCTCCAGCAATTGGGCAGATGTGTGAGGCACCTGTGGTGACCCGAGAGTGGGTGTTGGACAGTGTAGCACTCTACCAGTGCCAGGAGCTGGACACCTACCTGATACCCCAGATCCCCCACAGCCACTACTGACTGCAGCCAGCCACAGGTACAGAGCCACAGGACCCCAAGAATGAGCTTACAAAGTGGCCTTTCCAGGCCCTGGGAGCTCCTCTCACTCTTCAGTCCTTCT',\n",
       "  'intronl_len': 100,\n",
       "  'intronr_len': 100},\n",
       " 'inputs_mut': {'seq': 'CCTAAGAACTCATACAACCAGGACCCTGGAGTCGATTGATTAGAGCCTAGTCCAGGAGAATGAATTGACACTAATCTCTGCTTGTGTTCTCTGTCTCCAGCAATTGTGTGAGGCACCTGTGGTGACCCGAGAGTGGGTGTTGGACAGTGTAGCACTCTACCAGTGCCAGGAGCTGGACACCTACCTGATACCCCAGATCCCCCACAGCCACTACTGACTGCAGCCAGCCACAGGTACAGAGCCACAGGACCCCAAGAATGAGCTTACAAAGTGGCCTTTCCAGGCCCTGGGAGCTCCTCTCACTCTTCAGTCCTTCT',\n",
       "  'intronl_len': 100,\n",
       "  'intronr_len': 100},\n",
       " 'metadata': {'ranges': GenomicRanges(chr='17', start=41197595, end=41197919, id='ENST00000461221', strand='-'),\n",
       "  'variant': {'CHROM': '17',\n",
       "   'POS': 41197805,\n",
       "   'ID': '182075',\n",
       "   'REF': 'ACATCTGCC',\n",
       "   'ALT': 'A',\n",
       "   'STR': \"17:41197805:ACATCTGCC:['A']\"},\n",
       "  'ExonInterval': {'isLast': False,\n",
       "   'isFirst': False,\n",
       "   'order': 23,\n",
       "   'name': 'ENSE00003513816',\n",
       "   'gene_id': 'ENSG00000012048',\n",
       "   'Exon_Start': 41197695,\n",
       "   'Exon_End': 41197819,\n",
       "   'intronl_len': 100,\n",
       "   'intronr_len': 100,\n",
       "   'seqid': '17',\n",
       "   'strand': '-',\n",
       "   'start': 41197595,\n",
       "   'end': 41197919},\n",
       "  'annotation': '17_41197695_41197819:-'}}"
      ]
     },
     "execution_count": 4,
     "metadata": {},
     "output_type": "execute_result"
    }
   ],
   "source": [
    "next(dl)"
   ]
  },
  {
   "cell_type": "code",
   "execution_count": 5,
   "metadata": {},
   "outputs": [
    {
     "name": "stderr",
     "output_type": "stream",
     "text": [
      "/opt/modules/i12g/anaconda/3-5.0.1/envs/splicing/lib/python3.6/site-packages/keras/engine/saving.py:270: UserWarning: No training configuration found in save file: the model was *not* compiled. Compile it manually.\n",
      "  warnings.warn('No training configuration found in save file: '\n"
     ]
    }
   ],
   "source": [
    "model = MMSplice(\n",
    "    exon_cut_l=0,\n",
    "    exon_cut_r=0,\n",
    "    acceptor_intron_cut=6,\n",
    "    donor_intron_cut=6,\n",
    "    acceptor_intron_len=50,\n",
    "    acceptor_exon_len=3,\n",
    "    donor_exon_len=5,\n",
    "    donor_intron_len=13)"
   ]
  },
  {
   "cell_type": "code",
   "execution_count": 6,
   "metadata": {},
   "outputs": [
    {
     "name": "stderr",
     "output_type": "stream",
     "text": [
      "0it [00:00, ?it/s]/opt/modules/i12g/anaconda/3-5.0.1/envs/splicing/lib/python3.6/site-packages/mmsplice-0.2.2-py3.6.egg/mmsplice/mmsplice.py:159: UserWarning: None GT donor\n",
      "  warnings.warn(\"None GT donor\", UserWarning)\n",
      "/opt/modules/i12g/anaconda/3-5.0.1/envs/splicing/lib/python3.6/site-packages/mmsplice-0.2.2-py3.6.egg/mmsplice/mmsplice.py:161: UserWarning: None AG donor\n",
      "  warnings.warn(\"None AG donor\", UserWarning)\n",
      "3it [00:35, 11.78s/it]\n"
     ]
    }
   ],
   "source": [
    "predictions = predict_all_table(model, dl, batch_size=1024, split_seq=False, assembly=True)"
   ]
  },
  {
   "cell_type": "code",
   "execution_count": 7,
   "metadata": {},
   "outputs": [],
   "source": [
    "predictionsMax = max_varEff(predictions)"
   ]
  },
  {
   "cell_type": "code",
   "execution_count": 9,
   "metadata": {},
   "outputs": [
    {
     "data": {
      "text/html": [
       "<div>\n",
       "<style scoped>\n",
       "    .dataframe tbody tr th:only-of-type {\n",
       "        vertical-align: middle;\n",
       "    }\n",
       "\n",
       "    .dataframe tbody tr th {\n",
       "        vertical-align: top;\n",
       "    }\n",
       "\n",
       "    .dataframe thead th {\n",
       "        text-align: right;\n",
       "    }\n",
       "</style>\n",
       "<table border=\"1\" class=\"dataframe\">\n",
       "  <thead>\n",
       "    <tr style=\"text-align: right;\">\n",
       "      <th></th>\n",
       "      <th>ID</th>\n",
       "      <th>mmsplice_dlogitPsi</th>\n",
       "      <th>exons</th>\n",
       "    </tr>\n",
       "  </thead>\n",
       "  <tbody>\n",
       "    <tr>\n",
       "      <th>632</th>\n",
       "      <td>17:41242891:GTGGGATACATACTACTGAATGCAAAGGACACCA...</td>\n",
       "      <td>-13.616748</td>\n",
       "      <td>17_41242961_41243049:-</td>\n",
       "    </tr>\n",
       "    <tr>\n",
       "      <th>957</th>\n",
       "      <td>17:41251814:CTTTTGAGGTTGTATCCGCTGCTTTGTCCTCAGA...</td>\n",
       "      <td>-10.040847</td>\n",
       "      <td>17_41251848_41251897:-</td>\n",
       "    </tr>\n",
       "    <tr>\n",
       "      <th>699</th>\n",
       "      <td>17:41245766:CATATTGCTTATACTGCTGCTTATAGGTTCAGCT...</td>\n",
       "      <td>-9.789052</td>\n",
       "      <td>17_41245603_41246877:-</td>\n",
       "    </tr>\n",
       "    <tr>\n",
       "      <th>147</th>\n",
       "      <td>17:41203074:TCTTACCT:['ATGTTG']</td>\n",
       "      <td>-8.181610</td>\n",
       "      <td>17_41203080_41203134:-</td>\n",
       "    </tr>\n",
       "    <tr>\n",
       "      <th>946</th>\n",
       "      <td>17:41251791:C:['CCCAATTCAATGTAGACAGACGTCTTTTGA...</td>\n",
       "      <td>-7.988797</td>\n",
       "      <td>17_41251792_41251894:-</td>\n",
       "    </tr>\n",
       "  </tbody>\n",
       "</table>\n",
       "</div>"
      ],
      "text/plain": [
       "                                                    ID  mmsplice_dlogitPsi  \\\n",
       "632  17:41242891:GTGGGATACATACTACTGAATGCAAAGGACACCA...          -13.616748   \n",
       "957  17:41251814:CTTTTGAGGTTGTATCCGCTGCTTTGTCCTCAGA...          -10.040847   \n",
       "699  17:41245766:CATATTGCTTATACTGCTGCTTATAGGTTCAGCT...           -9.789052   \n",
       "147                    17:41203074:TCTTACCT:['ATGTTG']           -8.181610   \n",
       "946  17:41251791:C:['CCCAATTCAATGTAGACAGACGTCTTTTGA...           -7.988797   \n",
       "\n",
       "                      exons  \n",
       "632  17_41242961_41243049:-  \n",
       "957  17_41251848_41251897:-  \n",
       "699  17_41245603_41246877:-  \n",
       "147  17_41203080_41203134:-  \n",
       "946  17_41251792_41251894:-  "
      ]
     },
     "execution_count": 9,
     "metadata": {},
     "output_type": "execute_result"
    }
   ],
   "source": [
    "predictionsMax.sort_values(['mmsplice_dlogitPsi']).head()"
   ]
  },
  {
   "cell_type": "markdown",
   "metadata": {},
   "source": [
    "## Predict pathogenicity"
   ]
  },
  {
   "cell_type": "code",
   "execution_count": 9,
   "metadata": {},
   "outputs": [],
   "source": [
    "dl = SplicingVCFDataloader(gtfIntervalTree, \n",
    "                          fasta,\n",
    "                          vcf,\n",
    "                          out_file=gtfIntervalTree,\n",
    "                          split_seq=False, overhang=(50,10))"
   ]
  },
  {
   "cell_type": "code",
   "execution_count": 10,
   "metadata": {},
   "outputs": [
    {
     "name": "stderr",
     "output_type": "stream",
     "text": [
      "2it [00:10,  5.25s/it]\n"
     ]
    }
   ],
   "source": [
    "predictions = predict_all_table(model, dl, batch_size=1024, split_seq=False, assembly=True, pathogenicity=True)"
   ]
  },
  {
   "cell_type": "code",
   "execution_count": 11,
   "metadata": {},
   "outputs": [],
   "source": [
    "predictionsMax = max_varEff(predictions)"
   ]
  },
  {
   "cell_type": "code",
   "execution_count": 12,
   "metadata": {},
   "outputs": [
    {
     "data": {
      "text/html": [
       "<div>\n",
       "<style scoped>\n",
       "    .dataframe tbody tr th:only-of-type {\n",
       "        vertical-align: middle;\n",
       "    }\n",
       "\n",
       "    .dataframe tbody tr th {\n",
       "        vertical-align: top;\n",
       "    }\n",
       "\n",
       "    .dataframe thead th {\n",
       "        text-align: right;\n",
       "    }\n",
       "</style>\n",
       "<table border=\"1\" class=\"dataframe\">\n",
       "  <thead>\n",
       "    <tr style=\"text-align: right;\">\n",
       "      <th></th>\n",
       "      <th>ID</th>\n",
       "      <th>mmsplice_diff</th>\n",
       "      <th>exons</th>\n",
       "    </tr>\n",
       "  </thead>\n",
       "  <tbody>\n",
       "    <tr>\n",
       "      <th>577</th>\n",
       "      <td>17:41245766:CATATTGCTTATACTGCTGCTTATAGGTTCAGCT...</td>\n",
       "      <td>1.0</td>\n",
       "      <td>17_41245601_41246877:-</td>\n",
       "    </tr>\n",
       "    <tr>\n",
       "      <th>230</th>\n",
       "      <td>17:41215387:ACCCCTAAAGAGATCATAGA:['TATT']</td>\n",
       "      <td>1.0</td>\n",
       "      <td>17_41215377_41215390:-</td>\n",
       "    </tr>\n",
       "    <tr>\n",
       "      <th>712</th>\n",
       "      <td>17:41251814:CTTTTGAGGTTGTATCCGCTGCTTTGTCCTCAGA...</td>\n",
       "      <td>1.0</td>\n",
       "      <td>17_41251792_41251894:-</td>\n",
       "    </tr>\n",
       "    <tr>\n",
       "      <th>771</th>\n",
       "      <td>17:41256281:G:['C']</td>\n",
       "      <td>1.0</td>\n",
       "      <td>17_41256206_41256278:-</td>\n",
       "    </tr>\n",
       "    <tr>\n",
       "      <th>203</th>\n",
       "      <td>17:41215348:AC:['A']</td>\n",
       "      <td>1.0</td>\n",
       "      <td>17_41215350_41215390:-</td>\n",
       "    </tr>\n",
       "  </tbody>\n",
       "</table>\n",
       "</div>"
      ],
      "text/plain": [
       "                                                    ID  mmsplice_diff  \\\n",
       "577  17:41245766:CATATTGCTTATACTGCTGCTTATAGGTTCAGCT...            1.0   \n",
       "230          17:41215387:ACCCCTAAAGAGATCATAGA:['TATT']            1.0   \n",
       "712  17:41251814:CTTTTGAGGTTGTATCCGCTGCTTTGTCCTCAGA...            1.0   \n",
       "771                                17:41256281:G:['C']            1.0   \n",
       "203                               17:41215348:AC:['A']            1.0   \n",
       "\n",
       "                      exons  \n",
       "577  17_41245601_41246877:-  \n",
       "230  17_41215377_41215390:-  \n",
       "712  17_41251792_41251894:-  \n",
       "771  17_41256206_41256278:-  \n",
       "203  17_41215350_41215390:-  "
      ]
     },
     "execution_count": 12,
     "metadata": {},
     "output_type": "execute_result"
    }
   ],
   "source": [
    "predictionsMax.sort_values('mmsplice_diff', ascending=False).head()"
   ]
  }
 ],
 "metadata": {
  "kernelspec": {
   "display_name": "Python [conda env:splicing]",
   "language": "python",
   "name": "conda-env-splicing-py"
  },
  "language_info": {
   "codemirror_mode": {
    "name": "ipython",
    "version": 3
   },
   "file_extension": ".py",
   "mimetype": "text/x-python",
   "name": "python",
   "nbconvert_exporter": "python",
   "pygments_lexer": "ipython3",
   "version": "3.6.0"
  }
 },
 "nbformat": 4,
 "nbformat_minor": 2
}
