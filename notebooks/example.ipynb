{
 "cells": [
  {
   "cell_type": "markdown",
   "metadata": {},
   "source": [
    "# Example code to apply the modular splicing model"
   ]
  },
  {
   "cell_type": "markdown",
   "metadata": {},
   "source": [
    "Example test variants come from ClinVar BRCA1 variants"
   ]
  },
  {
   "cell_type": "markdown",
   "metadata": {},
   "source": [
    "## Splicing delta PSI prediction"
   ]
  },
  {
   "cell_type": "code",
   "execution_count": 1,
   "metadata": {},
   "outputs": [
    {
     "name": "stderr",
     "output_type": "stream",
     "text": [
      "Using TensorFlow backend.\n",
      "/home/muhammedhasan/Projects/EIS/venv/lib/python3.5/site-packages/sklearn/base.py:251: UserWarning: Trying to unpickle estimator HuberRegressor from version 0.19.2 when using version 0.20.0. This might lead to breaking code or invalid results. Use at your own risk.\n",
      "  UserWarning)\n",
      "/home/muhammedhasan/Projects/EIS/venv/lib/python3.5/site-packages/sklearn/base.py:251: UserWarning: Trying to unpickle estimator StandardScaler from version 0.19.2 when using version 0.20.0. This might lead to breaking code or invalid results. Use at your own risk.\n",
      "  UserWarning)\n",
      "/home/muhammedhasan/Projects/EIS/venv/lib/python3.5/site-packages/sklearn/base.py:251: UserWarning: Trying to unpickle estimator LogisticRegression from version 0.19.2 when using version 0.20.0. This might lead to breaking code or invalid results. Use at your own risk.\n",
      "  UserWarning)\n",
      "/home/muhammedhasan/Projects/EIS/venv/lib/python3.5/site-packages/sklearn/base.py:251: UserWarning: Trying to unpickle estimator Pipeline from version 0.19.2 when using version 0.20.0. This might lead to breaking code or invalid results. Use at your own risk.\n",
      "  UserWarning)\n"
     ]
    }
   ],
   "source": [
    "from mmsplice.vcf_dataloader import SplicingVCFDataloader\n",
    "from mmsplice import MMSplice, predict_all_table\n",
    "\n",
    "from mmsplice.utils import max_varEff"
   ]
  },
  {
   "cell_type": "code",
   "execution_count": 2,
   "metadata": {},
   "outputs": [],
   "source": [
    "gtf = '../tests/data/test.gtf'\n",
    "vcf = '../tests/data/test.vcf.gz'\n",
    "fasta = '../tests/data/hg19.nochr.chr17.fa'\n",
    "gtfIntervalTree = '../tests/data/test.pkl' # pickle exon interval Tree"
   ]
  },
  {
   "cell_type": "code",
   "execution_count": 3,
   "metadata": {},
   "outputs": [],
   "source": [
    "dl = SplicingVCFDataloader(gtfIntervalTree, \n",
    "                          fasta,\n",
    "                          vcf,\n",
    "                          out_file=gtfIntervalTree,\n",
    "                          split_seq=False, overhang=(100,100))"
   ]
  },
  {
   "cell_type": "code",
   "execution_count": 4,
   "metadata": {},
   "outputs": [
    {
     "data": {
      "text/plain": [
       "{'inputs': {'intronl_len': 100,\n",
       "  'intronr_len': 100,\n",
       "  'seq': 'CCTAAGAACTCATACAACCAGGACCCTGGAGTCGATTGATTAGAGCCTAGTCCAGGAGAATGAATTGACACTAATCTCTGCTTGTGTTCTCTGTCTCCAGCAATTGGGCAGATGTGTGAGGCACCTGTGGTGACCCGAGAGTGGGTGTTGGACAGTGTAGCACTCTACCAGTGCCAGGAGCTGGACACCTACCTGATACCCCAGATCCCCCACAGCCACTACTGACTGCAGCCAGCCACAGGTACAGAGCCACAGGACCCCAAGAATGAGCTTACAAAGTGGCCTTTCCAGGCCCTGGGAGCTCCTCTCACTCTTCAGTCCTTCT'},\n",
       " 'inputs_mut': {'intronl_len': 100,\n",
       "  'intronr_len': 100,\n",
       "  'seq': 'CCTAAGAACTCATACAACCAGGACCCTGGAGTCGATTGATTAGAGCCTAGTCCAGGAGAATGAATTGACACTAATCTCTGCTTGTGTTCTCTGTCTCCAGCAATTGTGTGAGGCACCTGTGGTGACCCGAGAGTGGGTGTTGGACAGTGTAGCACTCTACCAGTGCCAGGAGCTGGACACCTACCTGATACCCCAGATCCCCCACAGCCACTACTGACTGCAGCCAGCCACAGGTACAGAGCCACAGGACCCCAAGAATGAGCTTACAAAGTGGCCTTTCCAGGCCCTGGGAGCTCCTCTCACTCTTCAGTCCTTCT'},\n",
       " 'metadata': {'ExonInterval': {'Exon_End': 41197819,\n",
       "   'Exon_Start': 41197695,\n",
       "   'end': 41197919,\n",
       "   'gene_id': 'ENSG00000012048',\n",
       "   'intronl_len': 100,\n",
       "   'intronr_len': 100,\n",
       "   'isFirst': False,\n",
       "   'isLast': False,\n",
       "   'name': 'ENSE00003513816',\n",
       "   'order': 23,\n",
       "   'seqid': '17',\n",
       "   'start': 41197595,\n",
       "   'strand': '-'},\n",
       "  'annotation': '17_41197695_41197819:-',\n",
       "  'ranges': GenomicRanges(chr='17', start=41197595, end=41197919, id='ENST00000461221', strand='-'),\n",
       "  'variant': {'ALT': 'A',\n",
       "   'CHROM': '17',\n",
       "   'ID': '182075',\n",
       "   'POS': 41197805,\n",
       "   'REF': 'ACATCTGCC',\n",
       "   'STR': \"17:41197805:ACATCTGCC:['A']\"}}}"
      ]
     },
     "execution_count": 4,
     "metadata": {},
     "output_type": "execute_result"
    }
   ],
   "source": [
    "next(dl)"
   ]
  },
  {
   "cell_type": "code",
   "execution_count": 5,
   "metadata": {},
   "outputs": [
    {
     "name": "stderr",
     "output_type": "stream",
     "text": [
      "/home/muhammedhasan/Projects/EIS/venv/lib/python3.5/site-packages/keras/engine/saving.py:292: UserWarning: No training configuration found in save file: the model was *not* compiled. Compile it manually.\n",
      "  warnings.warn('No training configuration found in save file: '\n"
     ]
    }
   ],
   "source": [
    "model = MMSplice(\n",
    "    exon_cut_l=0,\n",
    "    exon_cut_r=0,\n",
    "    acceptor_intron_cut=6,\n",
    "    donor_intron_cut=6,\n",
    "    acceptor_intron_len=50,\n",
    "    acceptor_exon_len=3,\n",
    "    donor_exon_len=5,\n",
    "    donor_intron_len=13)"
   ]
  },
  {
   "cell_type": "code",
   "execution_count": 6,
   "metadata": {},
   "outputs": [
    {
     "name": "stderr",
     "output_type": "stream",
     "text": [
      "0it [00:00, ?it/s]/home/muhammedhasan/Projects/EIS/mmsplice/mmsplice.py:159: UserWarning: None GT donor\n",
      "  warnings.warn(\"None GT donor\", UserWarning)\n",
      "/home/muhammedhasan/Projects/EIS/mmsplice/mmsplice.py:161: UserWarning: None AG donor\n",
      "  warnings.warn(\"None AG donor\", UserWarning)\n",
      "3it [00:24,  8.79s/it]\n"
     ]
    }
   ],
   "source": [
    "predictions = predict_all_table(model, dl, batch_size=1024, split_seq=False, assembly=True, pathogenicity=True, splicing_efficiency=True)"
   ]
  },
  {
   "cell_type": "code",
   "execution_count": 7,
   "metadata": {},
   "outputs": [],
   "source": [
    "predictionsMax = max_varEff(predictions)"
   ]
  },
  {
   "cell_type": "code",
   "execution_count": 8,
   "metadata": {},
   "outputs": [
    {
     "data": {
      "text/html": [
       "<div>\n",
       "<style scoped>\n",
       "    .dataframe tbody tr th:only-of-type {\n",
       "        vertical-align: middle;\n",
       "    }\n",
       "\n",
       "    .dataframe tbody tr th {\n",
       "        vertical-align: top;\n",
       "    }\n",
       "\n",
       "    .dataframe thead th {\n",
       "        text-align: right;\n",
       "    }\n",
       "</style>\n",
       "<table border=\"1\" class=\"dataframe\">\n",
       "  <thead>\n",
       "    <tr style=\"text-align: right;\">\n",
       "      <th></th>\n",
       "      <th>ID</th>\n",
       "      <th>mmsplice_dlogitPsi</th>\n",
       "      <th>exons</th>\n",
       "      <th>mmsplice_pathogenicity</th>\n",
       "      <th>mmsplice_dse</th>\n",
       "    </tr>\n",
       "  </thead>\n",
       "  <tbody>\n",
       "    <tr>\n",
       "      <th>632</th>\n",
       "      <td>17:41242891:GTGGGATACATACTACTGAATGCAAAGGACACCA...</td>\n",
       "      <td>-13.616748</td>\n",
       "      <td>17_41242961_41243049:-</td>\n",
       "      <td>1.0</td>\n",
       "      <td>-15.242260</td>\n",
       "    </tr>\n",
       "    <tr>\n",
       "      <th>957</th>\n",
       "      <td>17:41251814:CTTTTGAGGTTGTATCCGCTGCTTTGTCCTCAGA...</td>\n",
       "      <td>-10.040847</td>\n",
       "      <td>17_41251848_41251897:-</td>\n",
       "      <td>1.0</td>\n",
       "      <td>-8.338600</td>\n",
       "    </tr>\n",
       "    <tr>\n",
       "      <th>699</th>\n",
       "      <td>17:41245766:CATATTGCTTATACTGCTGCTTATAGGTTCAGCT...</td>\n",
       "      <td>-9.789052</td>\n",
       "      <td>17_41245603_41246877:-</td>\n",
       "      <td>1.0</td>\n",
       "      <td>-6.664236</td>\n",
       "    </tr>\n",
       "    <tr>\n",
       "      <th>147</th>\n",
       "      <td>17:41203074:TCTTACCT:['ATGTTG']</td>\n",
       "      <td>-8.181610</td>\n",
       "      <td>17_41203080_41203134:-</td>\n",
       "      <td>1.0</td>\n",
       "      <td>-12.337522</td>\n",
       "    </tr>\n",
       "    <tr>\n",
       "      <th>946</th>\n",
       "      <td>17:41251791:C:['CCCAATTCAATGTAGACAGACGTCTTTTGA...</td>\n",
       "      <td>-7.988797</td>\n",
       "      <td>17_41251792_41251894:-</td>\n",
       "      <td>1.0</td>\n",
       "      <td>-6.596324</td>\n",
       "    </tr>\n",
       "  </tbody>\n",
       "</table>\n",
       "</div>"
      ],
      "text/plain": [
       "                                                    ID  mmsplice_dlogitPsi  \\\n",
       "632  17:41242891:GTGGGATACATACTACTGAATGCAAAGGACACCA...          -13.616748   \n",
       "957  17:41251814:CTTTTGAGGTTGTATCCGCTGCTTTGTCCTCAGA...          -10.040847   \n",
       "699  17:41245766:CATATTGCTTATACTGCTGCTTATAGGTTCAGCT...           -9.789052   \n",
       "147                    17:41203074:TCTTACCT:['ATGTTG']           -8.181610   \n",
       "946  17:41251791:C:['CCCAATTCAATGTAGACAGACGTCTTTTGA...           -7.988797   \n",
       "\n",
       "                      exons  mmsplice_pathogenicity  mmsplice_dse  \n",
       "632  17_41242961_41243049:-                     1.0    -15.242260  \n",
       "957  17_41251848_41251897:-                     1.0     -8.338600  \n",
       "699  17_41245603_41246877:-                     1.0     -6.664236  \n",
       "147  17_41203080_41203134:-                     1.0    -12.337522  \n",
       "946  17_41251792_41251894:-                     1.0     -6.596324  "
      ]
     },
     "execution_count": 8,
     "metadata": {},
     "output_type": "execute_result"
    }
   ],
   "source": [
    "predictionsMax.sort_values(['mmsplice_dlogitPsi']).head()"
   ]
  }
 ],
 "metadata": {
  "kernelspec": {
   "display_name": "mmsplice",
   "language": "python",
   "name": "mmsplice"
  },
  "language_info": {
   "codemirror_mode": {
    "name": "ipython",
    "version": 3
   },
   "file_extension": ".py",
   "mimetype": "text/x-python",
   "name": "python",
   "nbconvert_exporter": "python",
   "pygments_lexer": "ipython3",
   "version": "3.5.2"
  }
 },
 "nbformat": 4,
 "nbformat_minor": 2
}
