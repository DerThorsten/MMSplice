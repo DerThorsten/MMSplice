{
 "cells": [
  {
   "cell_type": "code",
   "execution_count": 1,
   "metadata": {},
   "outputs": [
    {
     "name": "stderr",
     "output_type": "stream",
     "text": [
      "Using TensorFlow backend.\n"
     ]
    }
   ],
   "source": [
    "from eis.vcf_dataloader import SplicingVCFDataloader\n",
    "from eis import Eis, predict_all_table"
   ]
  },
  {
   "cell_type": "code",
   "execution_count": 2,
   "metadata": {},
   "outputs": [],
   "source": [
    "from eis.utils import max_varEff"
   ]
  },
  {
   "cell_type": "code",
   "execution_count": 3,
   "metadata": {},
   "outputs": [],
   "source": [
    "gtf = '../tests/data/test.gtf'\n",
    "vcf = '../tests/data/test.vcf.gz'\n",
    "fasta = '../tests/data/hg19.nochr.chr17.fa'\n",
    "gtfIntervalTree = '../tests/data/test.pkl' # pickle exon interval Tree"
   ]
  },
  {
   "cell_type": "code",
   "execution_count": 4,
   "metadata": {},
   "outputs": [],
   "source": [
    "dl = SplicingVCFDataloader(gtf, \n",
    "                          fasta,\n",
    "                          vcf,\n",
    "                          out_file=gtfIntervalTree,\n",
    "                          split_seq=False)"
   ]
  },
  {
   "cell_type": "code",
   "execution_count": 5,
   "metadata": {},
   "outputs": [
    {
     "name": "stderr",
     "output_type": "stream",
     "text": [
      "/opt/modules/i12g/anaconda/3-5.0.1/envs/splicing/lib/python3.6/site-packages/keras/engine/saving.py:270: UserWarning: No training configuration found in save file: the model was *not* compiled. Compile it manually.\n",
      "  warnings.warn('No training configuration found in save file: '\n"
     ]
    }
   ],
   "source": [
    "model = Eis(\n",
    "    exon_cut_l=0,\n",
    "    exon_cut_r=0,\n",
    "    acceptor_intron_cut=6,\n",
    "    donor_intron_cut=6,\n",
    "    acceptor_intron_len=50,\n",
    "    acceptor_exon_len=3,\n",
    "    donor_exon_len=5,\n",
    "    donor_intron_len=13)"
   ]
  },
  {
   "cell_type": "code",
   "execution_count": 6,
   "metadata": {},
   "outputs": [
    {
     "name": "stderr",
     "output_type": "stream",
     "text": [
      "\r",
      "0it [00:00, ?it/s]/opt/modules/i12g/anaconda/3-5.0.1/envs/splicing/lib/python3.6/site-packages/eis/eis.py:137: UserWarning: None GT donor\n",
      "  warnings.warn(\"None GT donor\", UserWarning)\n",
      "/opt/modules/i12g/anaconda/3-5.0.1/envs/splicing/lib/python3.6/site-packages/eis/eis.py:139: UserWarning: None AG donor\n",
      "  warnings.warn(\"None AG donor\", UserWarning)\n",
      "/opt/modules/i12g/anaconda/3-5.0.1/envs/splicing/lib/python3.6/site-packages/eis/eis.py:98: FutureWarning: Method .as_matrix will be removed in a future version. Use .values instead.\n",
      "  pred = dt.apply(self.predict, axis=1).as_matrix()\n",
      "\r",
      "1it [00:15, 15.92s/it]\r",
      "2it [00:31, 15.69s/it]\r",
      "3it [00:32, 10.95s/it]\n"
     ]
    }
   ],
   "source": [
    "predictions = predict_all_table(model, dl, batch_size=1024, split_seq=False, assembly=False)"
   ]
  },
  {
   "cell_type": "code",
   "execution_count": 7,
   "metadata": {},
   "outputs": [
    {
     "data": {
      "text/html": [
       "<div>\n",
       "<style scoped>\n",
       "    .dataframe tbody tr th:only-of-type {\n",
       "        vertical-align: middle;\n",
       "    }\n",
       "\n",
       "    .dataframe tbody tr th {\n",
       "        vertical-align: top;\n",
       "    }\n",
       "\n",
       "    .dataframe thead th {\n",
       "        text-align: right;\n",
       "    }\n",
       "</style>\n",
       "<table border=\"1\" class=\"dataframe\">\n",
       "  <thead>\n",
       "    <tr style=\"text-align: right;\">\n",
       "      <th></th>\n",
       "      <th>ID</th>\n",
       "      <th>exons</th>\n",
       "      <th>EIS_ref_acceptorIntron</th>\n",
       "      <th>EIS_ref_acceptor</th>\n",
       "      <th>EIS_ref_exon</th>\n",
       "      <th>EIS_ref_donor</th>\n",
       "      <th>EIS_ref_donorIntron</th>\n",
       "      <th>EIS_alt_acceptorIntron</th>\n",
       "      <th>EIS_alt_acceptor</th>\n",
       "      <th>EIS_alt_exon</th>\n",
       "      <th>EIS_alt_donor</th>\n",
       "      <th>EIS_alt_donorIntron</th>\n",
       "    </tr>\n",
       "  </thead>\n",
       "  <tbody>\n",
       "    <tr>\n",
       "      <th>0</th>\n",
       "      <td>17:41197805:ACATCTGCC:['A']</td>\n",
       "      <td>17_41197646_41197819:-</td>\n",
       "      <td>-2.924059</td>\n",
       "      <td>5.068929</td>\n",
       "      <td>-3.694287</td>\n",
       "      <td>-5.260707</td>\n",
       "      <td>-0.068444</td>\n",
       "      <td>-2.924059</td>\n",
       "      <td>5.068929</td>\n",
       "      <td>-3.663338</td>\n",
       "      <td>-5.260707</td>\n",
       "      <td>-0.068444</td>\n",
       "    </tr>\n",
       "    <tr>\n",
       "      <th>1</th>\n",
       "      <td>17:41197805:ACATCTGCC:['A']</td>\n",
       "      <td>17_41197580_41197819:-</td>\n",
       "      <td>-2.924059</td>\n",
       "      <td>5.068929</td>\n",
       "      <td>-3.507481</td>\n",
       "      <td>-7.093473</td>\n",
       "      <td>0.198751</td>\n",
       "      <td>-2.924059</td>\n",
       "      <td>5.068929</td>\n",
       "      <td>-3.478895</td>\n",
       "      <td>-7.093473</td>\n",
       "      <td>0.198751</td>\n",
       "    </tr>\n",
       "    <tr>\n",
       "      <th>2</th>\n",
       "      <td>17:41197805:ACATCTGCC:['A']</td>\n",
       "      <td>17_41196312_41197819:-</td>\n",
       "      <td>-2.924059</td>\n",
       "      <td>5.068929</td>\n",
       "      <td>-4.191132</td>\n",
       "      <td>-1.795508</td>\n",
       "      <td>0.105083</td>\n",
       "      <td>-2.924059</td>\n",
       "      <td>5.068929</td>\n",
       "      <td>-4.190357</td>\n",
       "      <td>-1.795508</td>\n",
       "      <td>0.105083</td>\n",
       "    </tr>\n",
       "    <tr>\n",
       "      <th>3</th>\n",
       "      <td>17:41197805:ACATCTGCC:['A']</td>\n",
       "      <td>17_41196313_41197819:-</td>\n",
       "      <td>-2.924059</td>\n",
       "      <td>5.068929</td>\n",
       "      <td>-4.190762</td>\n",
       "      <td>-5.453620</td>\n",
       "      <td>0.485866</td>\n",
       "      <td>-2.924059</td>\n",
       "      <td>5.068929</td>\n",
       "      <td>-4.189984</td>\n",
       "      <td>-5.453620</td>\n",
       "      <td>0.485866</td>\n",
       "    </tr>\n",
       "    <tr>\n",
       "      <th>4</th>\n",
       "      <td>17:41197805:ACATCTGCC:['A']</td>\n",
       "      <td>17_41196822_41197819:-</td>\n",
       "      <td>-2.924059</td>\n",
       "      <td>5.068929</td>\n",
       "      <td>-3.869307</td>\n",
       "      <td>-4.149584</td>\n",
       "      <td>0.272653</td>\n",
       "      <td>-2.924059</td>\n",
       "      <td>5.068929</td>\n",
       "      <td>-3.865532</td>\n",
       "      <td>-4.149584</td>\n",
       "      <td>0.272653</td>\n",
       "    </tr>\n",
       "  </tbody>\n",
       "</table>\n",
       "</div>"
      ],
      "text/plain": [
       "                            ID                   exons  \\\n",
       "0  17:41197805:ACATCTGCC:['A']  17_41197646_41197819:-   \n",
       "1  17:41197805:ACATCTGCC:['A']  17_41197580_41197819:-   \n",
       "2  17:41197805:ACATCTGCC:['A']  17_41196312_41197819:-   \n",
       "3  17:41197805:ACATCTGCC:['A']  17_41196313_41197819:-   \n",
       "4  17:41197805:ACATCTGCC:['A']  17_41196822_41197819:-   \n",
       "\n",
       "   EIS_ref_acceptorIntron  EIS_ref_acceptor  EIS_ref_exon  EIS_ref_donor  \\\n",
       "0               -2.924059          5.068929     -3.694287      -5.260707   \n",
       "1               -2.924059          5.068929     -3.507481      -7.093473   \n",
       "2               -2.924059          5.068929     -4.191132      -1.795508   \n",
       "3               -2.924059          5.068929     -4.190762      -5.453620   \n",
       "4               -2.924059          5.068929     -3.869307      -4.149584   \n",
       "\n",
       "   EIS_ref_donorIntron  EIS_alt_acceptorIntron  EIS_alt_acceptor  \\\n",
       "0            -0.068444               -2.924059          5.068929   \n",
       "1             0.198751               -2.924059          5.068929   \n",
       "2             0.105083               -2.924059          5.068929   \n",
       "3             0.485866               -2.924059          5.068929   \n",
       "4             0.272653               -2.924059          5.068929   \n",
       "\n",
       "   EIS_alt_exon  EIS_alt_donor  EIS_alt_donorIntron  \n",
       "0     -3.663338      -5.260707            -0.068444  \n",
       "1     -3.478895      -7.093473             0.198751  \n",
       "2     -4.190357      -1.795508             0.105083  \n",
       "3     -4.189984      -5.453620             0.485866  \n",
       "4     -3.865532      -4.149584             0.272653  "
      ]
     },
     "execution_count": 7,
     "metadata": {},
     "output_type": "execute_result"
    }
   ],
   "source": [
    "predictions.head()"
   ]
  },
  {
   "cell_type": "code",
   "execution_count": 8,
   "metadata": {},
   "outputs": [
    {
     "name": "stderr",
     "output_type": "stream",
     "text": [
      "/opt/modules/i12g/anaconda/3-5.0.1/envs/splicing/lib/python3.6/site-packages/eis/utils/postproc.py:13: FutureWarning: Method .as_matrix will be removed in a future version. Use .values instead.\n",
      "  EIS_diff = df[alt_list].as_matrix() - df[ref_list].as_matrix()\n"
     ]
    }
   ],
   "source": [
    "predictionsMax = max_varEff(predictions)"
   ]
  },
  {
   "cell_type": "code",
   "execution_count": 9,
   "metadata": {},
   "outputs": [
    {
     "data": {
      "text/html": [
       "<div>\n",
       "<style scoped>\n",
       "    .dataframe tbody tr th:only-of-type {\n",
       "        vertical-align: middle;\n",
       "    }\n",
       "\n",
       "    .dataframe tbody tr th {\n",
       "        vertical-align: top;\n",
       "    }\n",
       "\n",
       "    .dataframe thead th {\n",
       "        text-align: right;\n",
       "    }\n",
       "</style>\n",
       "<table border=\"1\" class=\"dataframe\">\n",
       "  <thead>\n",
       "    <tr style=\"text-align: right;\">\n",
       "      <th></th>\n",
       "      <th>ID</th>\n",
       "      <th>EIS_diff</th>\n",
       "      <th>exons</th>\n",
       "      <th>EIS_ref_acceptorIntron</th>\n",
       "      <th>EIS_ref_acceptor</th>\n",
       "      <th>EIS_ref_exon</th>\n",
       "      <th>EIS_ref_donor</th>\n",
       "      <th>EIS_ref_donorIntron</th>\n",
       "      <th>EIS_alt_acceptorIntron</th>\n",
       "      <th>EIS_alt_acceptor</th>\n",
       "      <th>EIS_alt_exon</th>\n",
       "      <th>EIS_alt_donor</th>\n",
       "      <th>EIS_alt_donorIntron</th>\n",
       "    </tr>\n",
       "  </thead>\n",
       "  <tbody>\n",
       "    <tr>\n",
       "      <th>0</th>\n",
       "      <td>17:41197805:ACATCTGCC:['A']</td>\n",
       "      <td>0.030949</td>\n",
       "      <td>17_41197646_41197819:-</td>\n",
       "      <td>-2.924059</td>\n",
       "      <td>5.068929</td>\n",
       "      <td>-3.694287</td>\n",
       "      <td>-5.260707</td>\n",
       "      <td>-0.068444</td>\n",
       "      <td>-2.924059</td>\n",
       "      <td>5.068929</td>\n",
       "      <td>-3.663338</td>\n",
       "      <td>-5.260707</td>\n",
       "      <td>-0.068444</td>\n",
       "    </tr>\n",
       "    <tr>\n",
       "      <th>1</th>\n",
       "      <td>17:41197809:CTGCCCAAT:['C']</td>\n",
       "      <td>-0.291768</td>\n",
       "      <td>17_41196312_41197819:-</td>\n",
       "      <td>-2.924059</td>\n",
       "      <td>5.068929</td>\n",
       "      <td>-4.191132</td>\n",
       "      <td>-1.795508</td>\n",
       "      <td>0.105083</td>\n",
       "      <td>-2.924059</td>\n",
       "      <td>4.766502</td>\n",
       "      <td>-4.180473</td>\n",
       "      <td>-1.795508</td>\n",
       "      <td>0.105083</td>\n",
       "    </tr>\n",
       "    <tr>\n",
       "      <th>2</th>\n",
       "      <td>17:41197810:T:['A']</td>\n",
       "      <td>0.063456</td>\n",
       "      <td>17_41197695_41197819:-</td>\n",
       "      <td>-2.924059</td>\n",
       "      <td>5.068929</td>\n",
       "      <td>-3.961106</td>\n",
       "      <td>-4.049767</td>\n",
       "      <td>-0.261311</td>\n",
       "      <td>-2.924059</td>\n",
       "      <td>5.068929</td>\n",
       "      <td>-3.897650</td>\n",
       "      <td>-4.049767</td>\n",
       "      <td>-0.261311</td>\n",
       "    </tr>\n",
       "    <tr>\n",
       "      <th>3</th>\n",
       "      <td>17:41197811:G:['T']</td>\n",
       "      <td>0.209766</td>\n",
       "      <td>17_41197695_41197819:-</td>\n",
       "      <td>-2.924059</td>\n",
       "      <td>5.068929</td>\n",
       "      <td>-3.961106</td>\n",
       "      <td>-4.049767</td>\n",
       "      <td>-0.261311</td>\n",
       "      <td>-2.924059</td>\n",
       "      <td>5.068929</td>\n",
       "      <td>-3.751340</td>\n",
       "      <td>-4.049767</td>\n",
       "      <td>-0.261311</td>\n",
       "    </tr>\n",
       "    <tr>\n",
       "      <th>4</th>\n",
       "      <td>17:41197812:C:['A']</td>\n",
       "      <td>0.031922</td>\n",
       "      <td>17_41197695_41197819:-</td>\n",
       "      <td>-2.924059</td>\n",
       "      <td>5.068929</td>\n",
       "      <td>-3.961106</td>\n",
       "      <td>-4.049767</td>\n",
       "      <td>-0.261311</td>\n",
       "      <td>-2.924059</td>\n",
       "      <td>5.068929</td>\n",
       "      <td>-3.929184</td>\n",
       "      <td>-4.049767</td>\n",
       "      <td>-0.261311</td>\n",
       "    </tr>\n",
       "  </tbody>\n",
       "</table>\n",
       "</div>"
      ],
      "text/plain": [
       "                            ID  EIS_diff                   exons  \\\n",
       "0  17:41197805:ACATCTGCC:['A']  0.030949  17_41197646_41197819:-   \n",
       "1  17:41197809:CTGCCCAAT:['C'] -0.291768  17_41196312_41197819:-   \n",
       "2          17:41197810:T:['A']  0.063456  17_41197695_41197819:-   \n",
       "3          17:41197811:G:['T']  0.209766  17_41197695_41197819:-   \n",
       "4          17:41197812:C:['A']  0.031922  17_41197695_41197819:-   \n",
       "\n",
       "   EIS_ref_acceptorIntron  EIS_ref_acceptor  EIS_ref_exon  EIS_ref_donor  \\\n",
       "0               -2.924059          5.068929     -3.694287      -5.260707   \n",
       "1               -2.924059          5.068929     -4.191132      -1.795508   \n",
       "2               -2.924059          5.068929     -3.961106      -4.049767   \n",
       "3               -2.924059          5.068929     -3.961106      -4.049767   \n",
       "4               -2.924059          5.068929     -3.961106      -4.049767   \n",
       "\n",
       "   EIS_ref_donorIntron  EIS_alt_acceptorIntron  EIS_alt_acceptor  \\\n",
       "0            -0.068444               -2.924059          5.068929   \n",
       "1             0.105083               -2.924059          4.766502   \n",
       "2            -0.261311               -2.924059          5.068929   \n",
       "3            -0.261311               -2.924059          5.068929   \n",
       "4            -0.261311               -2.924059          5.068929   \n",
       "\n",
       "   EIS_alt_exon  EIS_alt_donor  EIS_alt_donorIntron  \n",
       "0     -3.663338      -5.260707            -0.068444  \n",
       "1     -4.180473      -1.795508             0.105083  \n",
       "2     -3.897650      -4.049767            -0.261311  \n",
       "3     -3.751340      -4.049767            -0.261311  \n",
       "4     -3.929184      -4.049767            -0.261311  "
      ]
     },
     "execution_count": 9,
     "metadata": {},
     "output_type": "execute_result"
    }
   ],
   "source": [
    "predictionsMax.head()"
   ]
  },
  {
   "cell_type": "code",
   "execution_count": null,
   "metadata": {},
   "outputs": [],
   "source": []
  }
 ],
 "metadata": {
  "kernelspec": {
   "display_name": "Python [conda env:splicing]",
   "language": "python",
   "name": "conda-env-splicing-py"
  },
  "language_info": {
   "codemirror_mode": {
    "name": "ipython",
    "version": 3
   },
   "file_extension": ".py",
   "mimetype": "text/x-python",
   "name": "python",
   "nbconvert_exporter": "python",
   "pygments_lexer": "ipython3",
   "version": "3.6.0"
  }
 },
 "nbformat": 4,
 "nbformat_minor": 2
}
