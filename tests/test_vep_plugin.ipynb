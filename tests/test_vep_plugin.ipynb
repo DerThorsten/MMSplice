{
 "cells": [
  {
   "cell_type": "markdown",
   "metadata": {},
   "source": [
    "# Comparison between plugin and python results"
   ]
  },
  {
   "cell_type": "code",
   "execution_count": 1,
   "metadata": {},
   "outputs": [
    {
     "name": "stderr",
     "output_type": "stream",
     "text": [
      "Using TensorFlow backend.\n",
      "/home/muhammedhasan/Projects/EIS/venv/lib/python3.5/site-packages/sklearn/base.py:251: UserWarning: Trying to unpickle estimator HuberRegressor from version 0.19.2 when using version 0.20.0. This might lead to breaking code or invalid results. Use at your own risk.\n",
      "  UserWarning)\n",
      "/home/muhammedhasan/Projects/EIS/venv/lib/python3.5/site-packages/sklearn/base.py:251: UserWarning: Trying to unpickle estimator StandardScaler from version 0.19.2 when using version 0.20.0. This might lead to breaking code or invalid results. Use at your own risk.\n",
      "  UserWarning)\n",
      "/home/muhammedhasan/Projects/EIS/venv/lib/python3.5/site-packages/sklearn/base.py:251: UserWarning: Trying to unpickle estimator LogisticRegression from version 0.19.2 when using version 0.20.0. This might lead to breaking code or invalid results. Use at your own risk.\n",
      "  UserWarning)\n",
      "/home/muhammedhasan/Projects/EIS/venv/lib/python3.5/site-packages/sklearn/base.py:251: UserWarning: Trying to unpickle estimator Pipeline from version 0.19.2 when using version 0.20.0. This might lead to breaking code or invalid results. Use at your own risk.\n",
      "  UserWarning)\n"
     ]
    }
   ],
   "source": [
    "from mmsplice.vcf_dataloader import SplicingVCFDataloader\n",
    "from mmsplice import MMSplice, predict_all_table\n",
    "\n",
    "from mmsplice.utils import max_varEff"
   ]
  },
  {
   "cell_type": "markdown",
   "metadata": {},
   "source": [
    "## mmsplice perl plugin results"
   ]
  },
  {
   "cell_type": "markdown",
   "metadata": {},
   "source": [
    "Run MMSplice and obtain `variant_effect_output.txt` file check VEP_plugin/README.md for more details. "
   ]
  },
  {
   "cell_type": "markdown",
   "metadata": {},
   "source": [
    "Parses `variant_effect_output.txt` file as dataframe"
   ]
  },
  {
   "cell_type": "code",
   "execution_count": 2,
   "metadata": {
    "scrolled": false
   },
   "outputs": [],
   "source": [
    "from cyvcf2 import VCF\n",
    "import pandas as pd\n",
    "\n",
    "score_pred = []\n",
    "\n",
    "keys = [\n",
    "    'ref_seq',\n",
    "    'alt_seq',\n",
    "    'mmsplice_alt_acceptor',\n",
    "    'mmsplice_alt_acceptorIntron',\n",
    "    'mmsplice_alt_donor',\n",
    "    'mmsplice_alt_donorIntron',\n",
    "    'mmsplice_alt_exon',\n",
    "    'mmsplice_delta_logit_psi',\n",
    "    'mmsplice_pathogenicity',\n",
    "    'mmsplice_ref_acceptor',\n",
    "    'mmsplice_ref_acceptorIntron',\n",
    "    'mmsplice_ref_donor',\n",
    "    'mmsplice_ref_donorIntron',\n",
    "    'mmsplice_ref_exon'\n",
    "]\n",
    "\n",
    "alt_seqs = list()\n",
    "ref_seqs = list()\n",
    "\n",
    "for l in VCF('../variant_effect_output.txt'):\n",
    "    csq = l.INFO['CSQ'].split(',')\n",
    "    predictions = map(lambda x: tuple(x.split('|')[-len(keys):]), csq)\n",
    "    \n",
    "    for pred in predictions:\n",
    "        if pred != ('',) * len(keys):\n",
    "            x = dict(zip(keys[2:], map(float, pred[2:])))\n",
    "            x['ID'] = \"%s:%d:%s:%s\" % (l.CHROM, int(l.start) + 1, l.REF, l.ALT)\n",
    "            alt_seqs.append(pred[0])\n",
    "            ref_seqs.append(pred[1])\n",
    "\n",
    "            score_pred.append(x)\n",
    "            \n",
    "df_plugin = pd.DataFrame(score_pred)"
   ]
  },
  {
   "cell_type": "code",
   "execution_count": 3,
   "metadata": {},
   "outputs": [],
   "source": [
    "df_plugin_predictionsMax = max_varEff(df_plugin).set_index('ID')"
   ]
  },
  {
   "cell_type": "code",
   "execution_count": 4,
   "metadata": {},
   "outputs": [
    {
     "data": {
      "text/html": [
       "<div>\n",
       "<style scoped>\n",
       "    .dataframe tbody tr th:only-of-type {\n",
       "        vertical-align: middle;\n",
       "    }\n",
       "\n",
       "    .dataframe tbody tr th {\n",
       "        vertical-align: top;\n",
       "    }\n",
       "\n",
       "    .dataframe thead th {\n",
       "        text-align: right;\n",
       "    }\n",
       "</style>\n",
       "<table border=\"1\" class=\"dataframe\">\n",
       "  <thead>\n",
       "    <tr style=\"text-align: right;\">\n",
       "      <th></th>\n",
       "      <th>ID</th>\n",
       "      <th>mmsplice_alt_acceptor</th>\n",
       "      <th>mmsplice_alt_acceptorIntron</th>\n",
       "      <th>mmsplice_alt_donor</th>\n",
       "      <th>mmsplice_alt_donorIntron</th>\n",
       "      <th>mmsplice_alt_exon</th>\n",
       "      <th>mmsplice_delta_logit_psi</th>\n",
       "      <th>mmsplice_pathogenicity</th>\n",
       "      <th>mmsplice_ref_acceptor</th>\n",
       "      <th>mmsplice_ref_acceptorIntron</th>\n",
       "      <th>mmsplice_ref_donor</th>\n",
       "      <th>mmsplice_ref_donorIntron</th>\n",
       "      <th>mmsplice_ref_exon</th>\n",
       "      <th>mmsplice_dlogitPsi</th>\n",
       "    </tr>\n",
       "  </thead>\n",
       "  <tbody>\n",
       "    <tr>\n",
       "      <th>0</th>\n",
       "      <td>17:41197805:ACATCTGCC:['A']</td>\n",
       "      <td>5.068929</td>\n",
       "      <td>-2.924059</td>\n",
       "      <td>-4.324348</td>\n",
       "      <td>0.485866</td>\n",
       "      <td>-4.189984</td>\n",
       "      <td>0.001852</td>\n",
       "      <td>0.949493</td>\n",
       "      <td>5.068929</td>\n",
       "      <td>-2.924059</td>\n",
       "      <td>-4.324348</td>\n",
       "      <td>0.485866</td>\n",
       "      <td>-4.190762</td>\n",
       "      <td>0.001852</td>\n",
       "    </tr>\n",
       "    <tr>\n",
       "      <th>1</th>\n",
       "      <td>17:41197805:ACATCTGCC:['A']</td>\n",
       "      <td>5.068929</td>\n",
       "      <td>-2.924059</td>\n",
       "      <td>-4.324348</td>\n",
       "      <td>0.485866</td>\n",
       "      <td>-4.189984</td>\n",
       "      <td>0.001852</td>\n",
       "      <td>0.949493</td>\n",
       "      <td>5.068929</td>\n",
       "      <td>-2.924059</td>\n",
       "      <td>-4.324348</td>\n",
       "      <td>0.485866</td>\n",
       "      <td>-4.190762</td>\n",
       "      <td>0.001852</td>\n",
       "    </tr>\n",
       "    <tr>\n",
       "      <th>2</th>\n",
       "      <td>17:41197805:ACATCTGCC:['A']</td>\n",
       "      <td>5.068929</td>\n",
       "      <td>-2.924059</td>\n",
       "      <td>-4.324348</td>\n",
       "      <td>0.485866</td>\n",
       "      <td>-4.189984</td>\n",
       "      <td>0.001852</td>\n",
       "      <td>0.949493</td>\n",
       "      <td>5.068929</td>\n",
       "      <td>-2.924059</td>\n",
       "      <td>-4.324348</td>\n",
       "      <td>0.485866</td>\n",
       "      <td>-4.190762</td>\n",
       "      <td>0.001852</td>\n",
       "    </tr>\n",
       "    <tr>\n",
       "      <th>3</th>\n",
       "      <td>17:41197805:ACATCTGCC:['A']</td>\n",
       "      <td>5.068929</td>\n",
       "      <td>-2.924059</td>\n",
       "      <td>-4.324348</td>\n",
       "      <td>0.485866</td>\n",
       "      <td>-4.189984</td>\n",
       "      <td>0.001852</td>\n",
       "      <td>0.949493</td>\n",
       "      <td>5.068929</td>\n",
       "      <td>-2.924059</td>\n",
       "      <td>-4.324348</td>\n",
       "      <td>0.485866</td>\n",
       "      <td>-4.190762</td>\n",
       "      <td>0.001852</td>\n",
       "    </tr>\n",
       "    <tr>\n",
       "      <th>4</th>\n",
       "      <td>17:41197805:ACATCTGCC:['A']</td>\n",
       "      <td>5.068929</td>\n",
       "      <td>-2.924059</td>\n",
       "      <td>-4.324348</td>\n",
       "      <td>0.485866</td>\n",
       "      <td>-4.189984</td>\n",
       "      <td>0.001852</td>\n",
       "      <td>0.949493</td>\n",
       "      <td>5.068929</td>\n",
       "      <td>-2.924059</td>\n",
       "      <td>-4.324348</td>\n",
       "      <td>0.485866</td>\n",
       "      <td>-4.190762</td>\n",
       "      <td>0.001852</td>\n",
       "    </tr>\n",
       "  </tbody>\n",
       "</table>\n",
       "</div>"
      ],
      "text/plain": [
       "                            ID  mmsplice_alt_acceptor  \\\n",
       "0  17:41197805:ACATCTGCC:['A']               5.068929   \n",
       "1  17:41197805:ACATCTGCC:['A']               5.068929   \n",
       "2  17:41197805:ACATCTGCC:['A']               5.068929   \n",
       "3  17:41197805:ACATCTGCC:['A']               5.068929   \n",
       "4  17:41197805:ACATCTGCC:['A']               5.068929   \n",
       "\n",
       "   mmsplice_alt_acceptorIntron  mmsplice_alt_donor  mmsplice_alt_donorIntron  \\\n",
       "0                    -2.924059           -4.324348                  0.485866   \n",
       "1                    -2.924059           -4.324348                  0.485866   \n",
       "2                    -2.924059           -4.324348                  0.485866   \n",
       "3                    -2.924059           -4.324348                  0.485866   \n",
       "4                    -2.924059           -4.324348                  0.485866   \n",
       "\n",
       "   mmsplice_alt_exon  mmsplice_delta_logit_psi  mmsplice_pathogenicity  \\\n",
       "0          -4.189984                  0.001852                0.949493   \n",
       "1          -4.189984                  0.001852                0.949493   \n",
       "2          -4.189984                  0.001852                0.949493   \n",
       "3          -4.189984                  0.001852                0.949493   \n",
       "4          -4.189984                  0.001852                0.949493   \n",
       "\n",
       "   mmsplice_ref_acceptor  mmsplice_ref_acceptorIntron  mmsplice_ref_donor  \\\n",
       "0               5.068929                    -2.924059           -4.324348   \n",
       "1               5.068929                    -2.924059           -4.324348   \n",
       "2               5.068929                    -2.924059           -4.324348   \n",
       "3               5.068929                    -2.924059           -4.324348   \n",
       "4               5.068929                    -2.924059           -4.324348   \n",
       "\n",
       "   mmsplice_ref_donorIntron  mmsplice_ref_exon  mmsplice_dlogitPsi  \n",
       "0                  0.485866          -4.190762            0.001852  \n",
       "1                  0.485866          -4.190762            0.001852  \n",
       "2                  0.485866          -4.190762            0.001852  \n",
       "3                  0.485866          -4.190762            0.001852  \n",
       "4                  0.485866          -4.190762            0.001852  "
      ]
     },
     "execution_count": 4,
     "metadata": {},
     "output_type": "execute_result"
    }
   ],
   "source": [
    "df_plugin.head()"
   ]
  },
  {
   "cell_type": "code",
   "execution_count": 5,
   "metadata": {},
   "outputs": [
    {
     "data": {
      "text/plain": [
       "(17310, 14)"
      ]
     },
     "execution_count": 5,
     "metadata": {},
     "output_type": "execute_result"
    }
   ],
   "source": [
    "df_plugin.shape"
   ]
  },
  {
   "cell_type": "code",
   "execution_count": 6,
   "metadata": {},
   "outputs": [
    {
     "data": {
      "text/html": [
       "<div>\n",
       "<style scoped>\n",
       "    .dataframe tbody tr th:only-of-type {\n",
       "        vertical-align: middle;\n",
       "    }\n",
       "\n",
       "    .dataframe tbody tr th {\n",
       "        vertical-align: top;\n",
       "    }\n",
       "\n",
       "    .dataframe thead th {\n",
       "        text-align: right;\n",
       "    }\n",
       "</style>\n",
       "<table border=\"1\" class=\"dataframe\">\n",
       "  <thead>\n",
       "    <tr style=\"text-align: right;\">\n",
       "      <th></th>\n",
       "      <th>mmsplice_dlogitPsi</th>\n",
       "      <th>mmsplice_alt_acceptor</th>\n",
       "      <th>mmsplice_alt_acceptorIntron</th>\n",
       "      <th>mmsplice_alt_donor</th>\n",
       "      <th>mmsplice_alt_donorIntron</th>\n",
       "      <th>mmsplice_alt_exon</th>\n",
       "      <th>mmsplice_delta_logit_psi</th>\n",
       "      <th>mmsplice_pathogenicity</th>\n",
       "      <th>mmsplice_ref_acceptor</th>\n",
       "      <th>mmsplice_ref_acceptorIntron</th>\n",
       "      <th>mmsplice_ref_donor</th>\n",
       "      <th>mmsplice_ref_donorIntron</th>\n",
       "      <th>mmsplice_ref_exon</th>\n",
       "    </tr>\n",
       "    <tr>\n",
       "      <th>ID</th>\n",
       "      <th></th>\n",
       "      <th></th>\n",
       "      <th></th>\n",
       "      <th></th>\n",
       "      <th></th>\n",
       "      <th></th>\n",
       "      <th></th>\n",
       "      <th></th>\n",
       "      <th></th>\n",
       "      <th></th>\n",
       "      <th></th>\n",
       "      <th></th>\n",
       "      <th></th>\n",
       "    </tr>\n",
       "  </thead>\n",
       "  <tbody>\n",
       "    <tr>\n",
       "      <th>17:41197805:ACATCTGCC:['A']</th>\n",
       "      <td>0.048545</td>\n",
       "      <td>5.068929</td>\n",
       "      <td>-2.924059</td>\n",
       "      <td>-4.232478</td>\n",
       "      <td>-0.068444</td>\n",
       "      <td>-3.663338</td>\n",
       "      <td>0.048545</td>\n",
       "      <td>0.942513</td>\n",
       "      <td>5.068929</td>\n",
       "      <td>-2.924059</td>\n",
       "      <td>-4.232478</td>\n",
       "      <td>-0.068444</td>\n",
       "      <td>-3.694287</td>\n",
       "    </tr>\n",
       "    <tr>\n",
       "      <th>17:41197809:CTGCCCAAT:['C']</th>\n",
       "      <td>-0.208980</td>\n",
       "      <td>4.766502</td>\n",
       "      <td>-2.924059</td>\n",
       "      <td>-3.931190</td>\n",
       "      <td>0.482525</td>\n",
       "      <td>-4.180473</td>\n",
       "      <td>-0.208980</td>\n",
       "      <td>0.982340</td>\n",
       "      <td>5.068929</td>\n",
       "      <td>-2.924059</td>\n",
       "      <td>-3.931190</td>\n",
       "      <td>0.482525</td>\n",
       "      <td>-4.191132</td>\n",
       "    </tr>\n",
       "    <tr>\n",
       "      <th>17:41197810:T:['A']</th>\n",
       "      <td>0.098853</td>\n",
       "      <td>5.068929</td>\n",
       "      <td>-2.924059</td>\n",
       "      <td>-2.570118</td>\n",
       "      <td>-0.261311</td>\n",
       "      <td>-3.897650</td>\n",
       "      <td>0.098853</td>\n",
       "      <td>0.872820</td>\n",
       "      <td>5.068929</td>\n",
       "      <td>-2.924059</td>\n",
       "      <td>-2.570118</td>\n",
       "      <td>-0.261311</td>\n",
       "      <td>-3.961106</td>\n",
       "    </tr>\n",
       "    <tr>\n",
       "      <th>17:41197811:G:['T']</th>\n",
       "      <td>0.325282</td>\n",
       "      <td>5.068929</td>\n",
       "      <td>-2.924059</td>\n",
       "      <td>-2.570118</td>\n",
       "      <td>-0.261311</td>\n",
       "      <td>-3.751340</td>\n",
       "      <td>0.325282</td>\n",
       "      <td>0.877968</td>\n",
       "      <td>5.068929</td>\n",
       "      <td>-2.924059</td>\n",
       "      <td>-2.570118</td>\n",
       "      <td>-0.261311</td>\n",
       "      <td>-3.961106</td>\n",
       "    </tr>\n",
       "    <tr>\n",
       "      <th>17:41197812:C:['A']</th>\n",
       "      <td>0.050051</td>\n",
       "      <td>5.068929</td>\n",
       "      <td>-2.924059</td>\n",
       "      <td>-2.570118</td>\n",
       "      <td>-0.261311</td>\n",
       "      <td>-3.929184</td>\n",
       "      <td>0.050051</td>\n",
       "      <td>0.871686</td>\n",
       "      <td>5.068929</td>\n",
       "      <td>-2.924059</td>\n",
       "      <td>-2.570118</td>\n",
       "      <td>-0.261311</td>\n",
       "      <td>-3.961106</td>\n",
       "    </tr>\n",
       "  </tbody>\n",
       "</table>\n",
       "</div>"
      ],
      "text/plain": [
       "                             mmsplice_dlogitPsi  mmsplice_alt_acceptor  \\\n",
       "ID                                                                       \n",
       "17:41197805:ACATCTGCC:['A']            0.048545               5.068929   \n",
       "17:41197809:CTGCCCAAT:['C']           -0.208980               4.766502   \n",
       "17:41197810:T:['A']                    0.098853               5.068929   \n",
       "17:41197811:G:['T']                    0.325282               5.068929   \n",
       "17:41197812:C:['A']                    0.050051               5.068929   \n",
       "\n",
       "                             mmsplice_alt_acceptorIntron  mmsplice_alt_donor  \\\n",
       "ID                                                                             \n",
       "17:41197805:ACATCTGCC:['A']                    -2.924059           -4.232478   \n",
       "17:41197809:CTGCCCAAT:['C']                    -2.924059           -3.931190   \n",
       "17:41197810:T:['A']                            -2.924059           -2.570118   \n",
       "17:41197811:G:['T']                            -2.924059           -2.570118   \n",
       "17:41197812:C:['A']                            -2.924059           -2.570118   \n",
       "\n",
       "                             mmsplice_alt_donorIntron  mmsplice_alt_exon  \\\n",
       "ID                                                                         \n",
       "17:41197805:ACATCTGCC:['A']                 -0.068444          -3.663338   \n",
       "17:41197809:CTGCCCAAT:['C']                  0.482525          -4.180473   \n",
       "17:41197810:T:['A']                         -0.261311          -3.897650   \n",
       "17:41197811:G:['T']                         -0.261311          -3.751340   \n",
       "17:41197812:C:['A']                         -0.261311          -3.929184   \n",
       "\n",
       "                             mmsplice_delta_logit_psi  mmsplice_pathogenicity  \\\n",
       "ID                                                                              \n",
       "17:41197805:ACATCTGCC:['A']                  0.048545                0.942513   \n",
       "17:41197809:CTGCCCAAT:['C']                 -0.208980                0.982340   \n",
       "17:41197810:T:['A']                          0.098853                0.872820   \n",
       "17:41197811:G:['T']                          0.325282                0.877968   \n",
       "17:41197812:C:['A']                          0.050051                0.871686   \n",
       "\n",
       "                             mmsplice_ref_acceptor  \\\n",
       "ID                                                   \n",
       "17:41197805:ACATCTGCC:['A']               5.068929   \n",
       "17:41197809:CTGCCCAAT:['C']               5.068929   \n",
       "17:41197810:T:['A']                       5.068929   \n",
       "17:41197811:G:['T']                       5.068929   \n",
       "17:41197812:C:['A']                       5.068929   \n",
       "\n",
       "                             mmsplice_ref_acceptorIntron  mmsplice_ref_donor  \\\n",
       "ID                                                                             \n",
       "17:41197805:ACATCTGCC:['A']                    -2.924059           -4.232478   \n",
       "17:41197809:CTGCCCAAT:['C']                    -2.924059           -3.931190   \n",
       "17:41197810:T:['A']                            -2.924059           -2.570118   \n",
       "17:41197811:G:['T']                            -2.924059           -2.570118   \n",
       "17:41197812:C:['A']                            -2.924059           -2.570118   \n",
       "\n",
       "                             mmsplice_ref_donorIntron  mmsplice_ref_exon  \n",
       "ID                                                                        \n",
       "17:41197805:ACATCTGCC:['A']                 -0.068444          -3.694287  \n",
       "17:41197809:CTGCCCAAT:['C']                  0.482525          -4.191132  \n",
       "17:41197810:T:['A']                         -0.261311          -3.961106  \n",
       "17:41197811:G:['T']                         -0.261311          -3.961106  \n",
       "17:41197812:C:['A']                         -0.261311          -3.961106  "
      ]
     },
     "execution_count": 6,
     "metadata": {},
     "output_type": "execute_result"
    }
   ],
   "source": [
    "df_plugin_predictionsMax.head()"
   ]
  },
  {
   "cell_type": "markdown",
   "metadata": {},
   "source": [
    "## mmsplice python api results"
   ]
  },
  {
   "cell_type": "code",
   "execution_count": 7,
   "metadata": {},
   "outputs": [],
   "source": [
    "gtf = '../tests/data/test.gtf'\n",
    "vcf = '../tests/data/test.vcf.gz'\n",
    "fasta = '../tests/data/hg19.nochr.chr17.fa'\n",
    "gtfIntervalTree = '../tests/data/test.pkl' # pickle exon interval Tree"
   ]
  },
  {
   "cell_type": "code",
   "execution_count": 8,
   "metadata": {},
   "outputs": [],
   "source": [
    "dl = SplicingVCFDataloader(gtfIntervalTree, \n",
    "                          fasta,\n",
    "                          vcf,\n",
    "                          out_file=gtfIntervalTree,\n",
    "                          split_seq=False, overhang=(100,100))"
   ]
  },
  {
   "cell_type": "code",
   "execution_count": 9,
   "metadata": {
    "scrolled": true
   },
   "outputs": [
    {
     "name": "stderr",
     "output_type": "stream",
     "text": [
      "/home/muhammedhasan/Projects/EIS/venv/lib/python3.5/site-packages/keras/engine/saving.py:292: UserWarning: No training configuration found in save file: the model was *not* compiled. Compile it manually.\n",
      "  warnings.warn('No training configuration found in save file: '\n"
     ]
    }
   ],
   "source": [
    "model = MMSplice(\n",
    "    exon_cut_l=0,\n",
    "    exon_cut_r=0,\n",
    "    acceptor_intron_cut=6,\n",
    "    donor_intron_cut=6,\n",
    "    acceptor_intron_len=50,\n",
    "    acceptor_exon_len=3,\n",
    "    donor_exon_len=5,\n",
    "    donor_intron_len=13)"
   ]
  },
  {
   "cell_type": "code",
   "execution_count": 10,
   "metadata": {
    "scrolled": true
   },
   "outputs": [
    {
     "name": "stderr",
     "output_type": "stream",
     "text": [
      "0it [00:00, ?it/s]/home/muhammedhasan/Projects/EIS/mmsplice/mmsplice.py:162: UserWarning: None GT donor\n",
      "  warnings.warn(\"None GT donor\", UserWarning)\n",
      "/home/muhammedhasan/Projects/EIS/mmsplice/mmsplice.py:164: UserWarning: None AG donor\n",
      "  warnings.warn(\"None AG donor\", UserWarning)\n",
      "3it [00:28, 10.21s/it]\n"
     ]
    }
   ],
   "source": [
    "df_python = predict_all_table(model, dl, batch_size=1024, split_seq=False, assembly=True, pathogenicity=True, splicing_efficiency=True)"
   ]
  },
  {
   "cell_type": "code",
   "execution_count": 11,
   "metadata": {},
   "outputs": [
    {
     "data": {
      "text/html": [
       "<div>\n",
       "<style scoped>\n",
       "    .dataframe tbody tr th:only-of-type {\n",
       "        vertical-align: middle;\n",
       "    }\n",
       "\n",
       "    .dataframe tbody tr th {\n",
       "        vertical-align: top;\n",
       "    }\n",
       "\n",
       "    .dataframe thead th {\n",
       "        text-align: right;\n",
       "    }\n",
       "</style>\n",
       "<table border=\"1\" class=\"dataframe\">\n",
       "  <thead>\n",
       "    <tr style=\"text-align: right;\">\n",
       "      <th></th>\n",
       "      <th>ID</th>\n",
       "      <th>exons</th>\n",
       "      <th>mmsplice_pathogenicity</th>\n",
       "      <th>mmsplice_dse</th>\n",
       "      <th>mmsplice_dlogitPsi</th>\n",
       "    </tr>\n",
       "  </thead>\n",
       "  <tbody>\n",
       "    <tr>\n",
       "      <th>0</th>\n",
       "      <td>17:41197805:ACATCTGCC:['A']</td>\n",
       "      <td>17_41197695_41197819:-</td>\n",
       "      <td>0.871460</td>\n",
       "      <td>-0.024030</td>\n",
       "      <td>0.040370</td>\n",
       "    </tr>\n",
       "    <tr>\n",
       "      <th>1</th>\n",
       "      <td>17:41197805:ACATCTGCC:['A']</td>\n",
       "      <td>17_41196312_41197819:-</td>\n",
       "      <td>0.908687</td>\n",
       "      <td>-0.119514</td>\n",
       "      <td>0.001848</td>\n",
       "    </tr>\n",
       "    <tr>\n",
       "      <th>2</th>\n",
       "      <td>17:41197805:ACATCTGCC:['A']</td>\n",
       "      <td>17_41196313_41197819:-</td>\n",
       "      <td>0.949493</td>\n",
       "      <td>-0.119505</td>\n",
       "      <td>0.001852</td>\n",
       "    </tr>\n",
       "    <tr>\n",
       "      <th>3</th>\n",
       "      <td>17:41197805:ACATCTGCC:['A']</td>\n",
       "      <td>17_41196822_41197819:-</td>\n",
       "      <td>0.853564</td>\n",
       "      <td>-0.108007</td>\n",
       "      <td>0.006490</td>\n",
       "    </tr>\n",
       "    <tr>\n",
       "      <th>4</th>\n",
       "      <td>17:41197805:ACATCTGCC:['A']</td>\n",
       "      <td>17_41197580_41197819:-</td>\n",
       "      <td>0.941126</td>\n",
       "      <td>-0.012832</td>\n",
       "      <td>0.044888</td>\n",
       "    </tr>\n",
       "  </tbody>\n",
       "</table>\n",
       "</div>"
      ],
      "text/plain": [
       "                            ID                   exons  \\\n",
       "0  17:41197805:ACATCTGCC:['A']  17_41197695_41197819:-   \n",
       "1  17:41197805:ACATCTGCC:['A']  17_41196312_41197819:-   \n",
       "2  17:41197805:ACATCTGCC:['A']  17_41196313_41197819:-   \n",
       "3  17:41197805:ACATCTGCC:['A']  17_41196822_41197819:-   \n",
       "4  17:41197805:ACATCTGCC:['A']  17_41197580_41197819:-   \n",
       "\n",
       "   mmsplice_pathogenicity  mmsplice_dse  mmsplice_dlogitPsi  \n",
       "0                0.871460     -0.024030            0.040370  \n",
       "1                0.908687     -0.119514            0.001848  \n",
       "2                0.949493     -0.119505            0.001852  \n",
       "3                0.853564     -0.108007            0.006490  \n",
       "4                0.941126     -0.012832            0.044888  "
      ]
     },
     "execution_count": 11,
     "metadata": {},
     "output_type": "execute_result"
    }
   ],
   "source": [
    "df_python.head()"
   ]
  },
  {
   "cell_type": "code",
   "execution_count": 12,
   "metadata": {},
   "outputs": [
    {
     "data": {
      "text/plain": [
       "(2164, 5)"
      ]
     },
     "execution_count": 12,
     "metadata": {},
     "output_type": "execute_result"
    }
   ],
   "source": [
    "df_python.shape"
   ]
  },
  {
   "cell_type": "code",
   "execution_count": 13,
   "metadata": {},
   "outputs": [],
   "source": [
    "df_python_predictionsMax = max_varEff(df_python).set_index('ID')"
   ]
  },
  {
   "cell_type": "markdown",
   "metadata": {},
   "source": [
    "## Comparison"
   ]
  },
  {
   "cell_type": "code",
   "execution_count": 14,
   "metadata": {},
   "outputs": [],
   "source": [
    "indexes = list(set(df_plugin_predictionsMax.index) & set(df_python_predictionsMax.index))"
   ]
  },
  {
   "cell_type": "code",
   "execution_count": 15,
   "metadata": {},
   "outputs": [
    {
     "data": {
      "image/png": "[encoded data removed]",
      "text/plain": [
       "<Figure size 360x360 with 1 Axes>"
      ]
     },
     "metadata": {
      "needs_background": "light"
     },
     "output_type": "display_data"
    }
   ],
   "source": [
    "%matplotlib inline\n",
    "\n",
    "import matplotlib.pyplot as plt\n",
    "\n",
    "fig = plt.figure(figsize=(5, 5))\n",
    "ax = fig.add_subplot(111)\n",
    "ax.scatter(df_plugin_predictionsMax.loc[indexes, 'mmsplice_dlogitPsi'], df_python_predictionsMax.loc[indexes, 'mmsplice_dlogitPsi'])\n",
    "plt.show()"
   ]
  },
  {
   "cell_type": "code",
   "execution_count": 16,
   "metadata": {},
   "outputs": [
    {
     "data": {
      "text/plain": [
       "18"
      ]
     },
     "execution_count": 16,
     "metadata": {},
     "output_type": "execute_result"
    }
   ],
   "source": [
    "sum(0 !=\n",
    "    df_plugin_predictionsMax.loc[indexes, 'mmsplice_dlogitPsi'] - \n",
    "    df_python_predictionsMax.loc[indexes, 'mmsplice_dlogitPsi'])"
   ]
  },
  {
   "cell_type": "code",
   "execution_count": 17,
   "metadata": {},
   "outputs": [],
   "source": [
    "diff_series = df_plugin_predictionsMax.loc[indexes, 'mmsplice_dlogitPsi'] - df_python_predictionsMax.loc[indexes, 'mmsplice_dlogitPsi']\n",
    "diff_series = diff_series[diff_series != 0]"
   ]
  },
  {
   "cell_type": "code",
   "execution_count": 18,
   "metadata": {},
   "outputs": [
    {
     "data": {
      "text/plain": [
       "[\"17:41228504:CCTTTCCACTCCTGGTTCTTTATTTTTACTGGTAGAACTATCTGCAGACACCTCAAACTTGTCAGCAGAAAGGCCTTCTGGATTCTGGCTTATAGGGTATTCACTACTTTTCTGTGAAGTTAATACTG:['C']\",\n",
       " \"17:41242891:GTGGGATACATACTACTGAATGCAAAGGACACCACACACACGCATGTGCACACACACACACGCTTTTTACCTGAGTGGTTAAAATGTCACTCTGAGAGGATAGCCCTGAGCAGTCTTCAGAGACGCTTGTTTCACTCTCACACCCAGATGCTGCTTCACCTTAAATAACAAAAACAGAGGTTCAGATGTAAAAGCAGACTATAAACGCTGCAACTTGCTGTGTCTTTTTCTTCTCAT:['G']\",\n",
       " \"17:41245766:CATATTGCTTATACTGCTGCTTATAGGTTCAGCTTTCGTTTTGAAAGCAGATTCTTTTTCGAGTGATTCTATTGGGTTAGGATTTTTCTCATTCTGAATAGAATCACCTTTTGTTTTATTCTCATGACCACTATTAGTAATATTCATCACTTGACCATTCTGCTCCGTTTGGTTAGTTCCCTGATTTATCATTTCAGGAGTCTTTTGAACTGCCAAATCTGCTTTCTTGATAAAATCCTCAGGATGAAGGCCTGATGTAGGTCTCCTTTTACGCTTTAATTTATTTGTGAGGGGACGCTCTTGTATTATCTGTGGCTCAGTAACAAATGCTCCTATAATTAGATTTTCAGTTACATGGCTTAAGTTGGGGAGGCTTGCCTTCTTCCGATAGGTTTTCCCAAATATTTTGTCTTCAATATTACTCTCTACTGATTTGGAGTGAACTCTTTCACTTTTACATATTAAAGCCTCATGAGGATCACTGGCCAGTAAGTCTATTTTCTCTGAAGAACCAGAATATTCATCTACCTCATTTAGAACGTCCAATACATCAGCTACTTTGGCATTTGATTCAGACTCCCCATCATGTGAGTCATCAGAACCTAACAGTTCATCACTTCTGGAAAACCACTCATTAACTTTCTGAATGCTGCTATTTAGTGTTATCCAAGGAACATCTTCAGTATCTCTAGGATTCTCTGAGCATGGCAGTTTCTGCTTATTCCATTCTTTTCTCTCACACAGGGGATCAGCATTCAGATCTACCTTTTTTTCTGTGCTGGGAGTCCGCCTATCATTACATGTTTCCTTACTTCCAGCCCATCTGTTATGTTGGCTCCTTGCTAAGCCAGGCTGTTTGCTTTTATTACAGAATTCAGCCTTTTCTACATTCATTCTGTCTTTAGTGAGTAATAAACTGCTGTTCTCATGCTGTAATGAGCTGGCATGAGTATTTGTGCCACATGGCTCCACATGCAAGTTTGAAACAGAACTACCCTGATACTTTTCTGGATGCCTCTCAGCTGCACGCTTCTCAGTGGTGTTCAAATCATTATTACTGGGTTGATGATGTTCAGTATTTGTTACATCCGTCTCAGAAAATTCACAAGCAGCTGAAAATATACAAAAATAACAAGGT:['C']\",\n",
       " \"17:41276033:CCAGATGGGACA:['C']\",\n",
       " \"17:41258494:CATAAAG:['C']\",\n",
       " \"17:41209149:CATGC:['AATA']\",\n",
       " \"17:41242960:CCTG:['C']\",\n",
       " \"17:41203079:CCTGTGGGCATGTTGGTGAAGGGCCCATAGCAACAGATTTCTAGCCCCCTGAAGA:['C']\",\n",
       " \"17:41251791:C:['CCCAATTCAATGTAGACAGACGTCTTTTGAGGTTGTATCCGCTGCTTTGTCCTCAGAGTTCTCACAGTTCCAAGGTTAGAGAGTTGGACACTGAGACTGGTTTCCTGCTAAACAGTATGGTAAAGAACAGTCAAGCAATTGTTGGCCAGTTCTGTGCTTTTCCTCCTGAAGAGAAACTTGACACCATGGACAAAATAAATTGACCATCATCAGTCAGCTAACATGTATGATGCCTGGAAAAAATGCCCAGGAATTTACACACTAAAATGTCTGGGGCTGGGAGCGGTAGCTCATGCCTATAATCCCAGCACTTTGGGAGGCTGGAGCAGGACTGCTTGAGGCCAGGAGTTCAAGACCAGCATAAGCAACAGAGTGAGACCCAGTCTCTACAAAATAATAGTAGTAGTAATAATAAAATGTGTGGGATATGTGTGATTTGAATTTTTTTTTCTGTTGTCTTAAATTTTTCAAACCTGATTATGTATTATTTGTGTAATTTTTGAAGTATTAATATAGCATATTTTGAAGCTGATACTTGATATACATTCCAATCACATCTGATAACTTTTTTTTTTGTTTTGGGGGGTGTACAGAGTCCTGCTCTGTCACCCAGGCTGGAGTGCAGTGGCGCAATCTCAGCTCACTGCAACCTCCGCCTCCTAAGTTCAAGAGATTCTCCTGCCTCAGCCTCCTGAGTAGCTGGGTCTACAAGCGTGTGCAACTATGCCTGGCTAATTTGTGTGTGTGTGTGTATATATATATACATATATATGTGTGTGTGTGTGTATATATATATATAACATATATATAACATATATATATTATATATATATAACATATATATAACATATATATATGTTATATATATATAACATATATATAACATATATATATATATATATATAATATATATATATATATATATATATGTAATCCCAGCACTTTGGGATATATGTGTATATATGTTTTTTTTTTTTGAGACAGAATCTTGCTCTGTTGCCAGGCTAGAGTGCAGTGGCGTGATCTCGGCACACTGCAACCTCCACCTCCCTGGTTCAG']\",\n",
       " \"17:41215963:CAGC:['GCAGAATGAA']\",\n",
       " \"17:41222944:C:['CA']\",\n",
       " \"17:41215387:ACCCCTAAAGAGATCATAGA:['TATT']\",\n",
       " \"17:41215963:CAGC:['GCAGAATCAA']\",\n",
       " \"17:41256277:ATC:['A']\",\n",
       " \"17:41267742:CTT:['C']\",\n",
       " \"17:41276033:C:['CCAGATG']\",\n",
       " \"17:41226347:C:['CT']\",\n",
       " \"17:41251814:CTTTTGAGGTTGTATCCGCTGCTTTGTCCTCAGAGTTCTCACAGTTCCAAGGTTAGAGAGTTGGACACTGAGACTGGTTTCCTGCTAAACAGTATGGTAAAGAACAGTCAAGCAATTGTTGGCCAGT:['C']\"]"
      ]
     },
     "execution_count": 18,
     "metadata": {},
     "output_type": "execute_result"
    }
   ],
   "source": [
    "list(diff_series.keys())"
   ]
  },
  {
   "cell_type": "code",
   "execution_count": 19,
   "metadata": {},
   "outputs": [
    {
     "data": {
      "text/plain": [
       "Index(['17:41228504:CCTTTCCACTCCTGGTTCTTTATTTTTACTGGTAGAACTATCTGCAGACACCTCAAACTTGTCAGCAGAAAGGCCTTCTGGATTCTGGCTTATAGGGTATTCACTACTTTTCTGTGAAGTTAATACTG:['C']',\n",
       "       '17:41242891:GTGGGATACATACTACTGAATGCAAAGGACACCACACACACGCATGTGCACACACACACACGCTTTTTACCTGAGTGGTTAAAATGTCACTCTGAGAGGATAGCCCTGAGCAGTCTTCAGAGACGCTTGTTTCACTCTCACACCCAGATGCTGCTTCACCTTAAATAACAAAAACAGAGGTTCAGATGTAAAAGCAGACTATAAACGCTGCAACTTGCTGTGTCTTTTTCTTCTCAT:['G']',\n",
       "       '17:41245766:CATATTGCTTATACTGCTGCTTATAGGTTCAGCTTTCGTTTTGAAAGCAGATTCTTTTTCGAGTGATTCTATTGGGTTAGGATTTTTCTCATTCTGAATAGAATCACCTTTTGTTTTATTCTCATGACCACTATTAGTAATATTCATCACTTGACCATTCTGCTCCGTTTGGTTAGTTCCCTGATTTATCATTTCAGGAGTCTTTTGAACTGCCAAATCTGCTTTCTTGATAAAATCCTCAGGATGAAGGCCTGATGTAGGTCTCCTTTTACGCTTTAATTTATTTGTGAGGGGACGCTCTTGTATTATCTGTGGCTCAGTAACAAATGCTCCTATAATTAGATTTTCAGTTACATGGCTTAAGTTGGGGAGGCTTGCCTTCTTCCGATAGGTTTTCCCAAATATTTTGTCTTCAATATTACTCTCTACTGATTTGGAGTGAACTCTTTCACTTTTACATATTAAAGCCTCATGAGGATCACTGGCCAGTAAGTCTATTTTCTCTGAAGAACCAGAATATTCATCTACCTCATTTAGAACGTCCAATACATCAGCTACTTTGGCATTTGATTCAGACTCCCCATCATGTGAGTCATCAGAACCTAACAGTTCATCACTTCTGGAAAACCACTCATTAACTTTCTGAATGCTGCTATTTAGTGTTATCCAAGGAACATCTTCAGTATCTCTAGGATTCTCTGAGCATGGCAGTTTCTGCTTATTCCATTCTTTTCTCTCACACAGGGGATCAGCATTCAGATCTACCTTTTTTTCTGTGCTGGGAGTCCGCCTATCATTACATGTTTCCTTACTTCCAGCCCATCTGTTATGTTGGCTCCTTGCTAAGCCAGGCTGTTTGCTTTTATTACAGAATTCAGCCTTTTCTACATTCATTCTGTCTTTAGTGAGTAATAAACTGCTGTTCTCATGCTGTAATGAGCTGGCATGAGTATTTGTGCCACATGGCTCCACATGCAAGTTTGAAACAGAACTACCCTGATACTTTTCTGGATGCCTCTCAGCTGCACGCTTCTCAGTGGTGTTCAAATCATTATTACTGGGTTGATGATGTTCAGTATTTGTTACATCCGTCTCAGAAAATTCACAAGCAGCTGAAAATATACAAAAATAACAAGGT:['C']',\n",
       "       '17:41276033:CCAGATGGGACA:['C']', '17:41258494:CATAAAG:['C']',\n",
       "       '17:41209149:CATGC:['AATA']', '17:41242960:CCTG:['C']',\n",
       "       '17:41203079:CCTGTGGGCATGTTGGTGAAGGGCCCATAGCAACAGATTTCTAGCCCCCTGAAGA:['C']',\n",
       "       '17:41251791:C:['CCCAATTCAATGTAGACAGACGTCTTTTGAGGTTGTATCCGCTGCTTTGTCCTCAGAGTTCTCACAGTTCCAAGGTTAGAGAGTTGGACACTGAGACTGGTTTCCTGCTAAACAGTATGGTAAAGAACAGTCAAGCAATTGTTGGCCAGTTCTGTGCTTTTCCTCCTGAAGAGAAACTTGACACCATGGACAAAATAAATTGACCATCATCAGTCAGCTAACATGTATGATGCCTGGAAAAAATGCCCAGGAATTTACACACTAAAATGTCTGGGGCTGGGAGCGGTAGCTCATGCCTATAATCCCAGCACTTTGGGAGGCTGGAGCAGGACTGCTTGAGGCCAGGAGTTCAAGACCAGCATAAGCAACAGAGTGAGACCCAGTCTCTACAAAATAATAGTAGTAGTAATAATAAAATGTGTGGGATATGTGTGATTTGAATTTTTTTTTCTGTTGTCTTAAATTTTTCAAACCTGATTATGTATTATTTGTGTAATTTTTGAAGTATTAATATAGCATATTTTGAAGCTGATACTTGATATACATTCCAATCACATCTGATAACTTTTTTTTTTGTTTTGGGGGGTGTACAGAGTCCTGCTCTGTCACCCAGGCTGGAGTGCAGTGGCGCAATCTCAGCTCACTGCAACCTCCGCCTCCTAAGTTCAAGAGATTCTCCTGCCTCAGCCTCCTGAGTAGCTGGGTCTACAAGCGTGTGCAACTATGCCTGGCTAATTTGTGTGTGTGTGTGTATATATATATACATATATATGTGTGTGTGTGTGTATATATATATATAACATATATATAACATATATATATTATATATATATAACATATATATAACATATATATATGTTATATATATATAACATATATATAACATATATATATATATATATATAATATATATATATATATATATATATGTAATCCCAGCACTTTGGGATATATGTGTATATATGTTTTTTTTTTTTGAGACAGAATCTTGCTCTGTTGCCAGGCTAGAGTGCAGTGGCGTGATCTCGGCACACTGCAACCTCCACCTCCCTGGTTCAG']',\n",
       "       '17:41215963:CAGC:['GCAGAATGAA']', '17:41222944:C:['CA']',\n",
       "       '17:41215387:ACCCCTAAAGAGATCATAGA:['TATT']',\n",
       "       '17:41215963:CAGC:['GCAGAATCAA']', '17:41256277:ATC:['A']',\n",
       "       '17:41267742:CTT:['C']', '17:41276033:C:['CCAGATG']',\n",
       "       '17:41226347:C:['CT']',\n",
       "       '17:41251814:CTTTTGAGGTTGTATCCGCTGCTTTGTCCTCAGAGTTCTCACAGTTCCAAGGTTAGAGAGTTGGACACTGAGACTGGTTTCCTGCTAAACAGTATGGTAAAGAACAGTCAAGCAATTGTTGGCCAGT:['C']'],\n",
       "      dtype='object', name='ID')"
      ]
     },
     "execution_count": 19,
     "metadata": {},
     "output_type": "execute_result"
    }
   ],
   "source": [
    "diff_series.keys()"
   ]
  },
  {
   "cell_type": "code",
   "execution_count": 20,
   "metadata": {},
   "outputs": [
    {
     "data": {
      "text/html": [
       "<div>\n",
       "<style scoped>\n",
       "    .dataframe tbody tr th:only-of-type {\n",
       "        vertical-align: middle;\n",
       "    }\n",
       "\n",
       "    .dataframe tbody tr th {\n",
       "        vertical-align: top;\n",
       "    }\n",
       "\n",
       "    .dataframe thead th {\n",
       "        text-align: right;\n",
       "    }\n",
       "</style>\n",
       "<table border=\"1\" class=\"dataframe\">\n",
       "  <thead>\n",
       "    <tr style=\"text-align: right;\">\n",
       "      <th></th>\n",
       "      <th>ID</th>\n",
       "      <th>exons</th>\n",
       "      <th>mmsplice_pathogenicity</th>\n",
       "      <th>mmsplice_dse</th>\n",
       "      <th>mmsplice_dlogitPsi</th>\n",
       "    </tr>\n",
       "  </thead>\n",
       "  <tbody>\n",
       "    <tr>\n",
       "      <th>629</th>\n",
       "      <td>17:41222944:C:['CA']</td>\n",
       "      <td>17_41222945_41223255:-</td>\n",
       "      <td>1.0</td>\n",
       "      <td>-6.838644</td>\n",
       "      <td>-4.468949</td>\n",
       "    </tr>\n",
       "    <tr>\n",
       "      <th>630</th>\n",
       "      <td>17:41222944:C:['CA']</td>\n",
       "      <td>17_41222945_41223083:-</td>\n",
       "      <td>1.0</td>\n",
       "      <td>-6.838644</td>\n",
       "      <td>-4.468949</td>\n",
       "    </tr>\n",
       "  </tbody>\n",
       "</table>\n",
       "</div>"
      ],
      "text/plain": [
       "                       ID                   exons  mmsplice_pathogenicity  \\\n",
       "629  17:41222944:C:['CA']  17_41222945_41223255:-                     1.0   \n",
       "630  17:41222944:C:['CA']  17_41222945_41223083:-                     1.0   \n",
       "\n",
       "     mmsplice_dse  mmsplice_dlogitPsi  \n",
       "629     -6.838644           -4.468949  \n",
       "630     -6.838644           -4.468949  "
      ]
     },
     "execution_count": 20,
     "metadata": {},
     "output_type": "execute_result"
    }
   ],
   "source": [
    "df_python.loc[df_python['ID'] == diff_series.keys()[10]]"
   ]
  },
  {
   "cell_type": "code",
   "execution_count": 21,
   "metadata": {},
   "outputs": [
    {
     "data": {
      "text/plain": [
       "5322   -0.337836\n",
       "5323   -0.337836\n",
       "5324   -0.337836\n",
       "5325   -0.337836\n",
       "5326   -0.337836\n",
       "5327   -0.337836\n",
       "5328   -0.337836\n",
       "5329   -0.356473\n",
       "5330   -0.337836\n",
       "5331   -0.337836\n",
       "5332   -0.337836\n",
       "5333   -0.337836\n",
       "5334   -0.337836\n",
       "5335   -0.337836\n",
       "Name: mmsplice_dlogitPsi, dtype: float64"
      ]
     },
     "execution_count": 21,
     "metadata": {},
     "output_type": "execute_result"
    }
   ],
   "source": [
    "df_plugin.loc[df_plugin['ID'] == diff_series.keys()[10]]['mmsplice_dlogitPsi']"
   ]
  },
  {
   "cell_type": "code",
   "execution_count": 22,
   "metadata": {},
   "outputs": [
    {
     "data": {
      "text/plain": [
       "'CAAATCTTAAATTTACTTTATTTTAAAATGATAAAATGAAGTTGTCATTTTATAAACCTTTTAAAAAGATATATATATATGTTTTTCTAATGTGTTAAAGTTCATTGGAACAGAAAGAAATGGATTTATCTGCTCTTCGCGTTGAAGAAGTACAAAATGTCATTAATGCTATGCAGAAAATCTTAGAGTGTCCCATCTGGTAAGTCAGCACAAGAGTGTATTAATTTGGGATTCCTATGATTATCTCCTATGCAAATGAACAGAATTGACCTTACATACTAGGGAAGAAAAGACATGTC'"
      ]
     },
     "execution_count": 22,
     "metadata": {},
     "output_type": "execute_result"
    }
   ],
   "source": [
    "ref_seqs[16845]"
   ]
  },
  {
   "cell_type": "code",
   "execution_count": 23,
   "metadata": {},
   "outputs": [
    {
     "data": {
      "text/plain": [
       "'AATCTTAAATTTACTTTATTTTAAAATGATAAAATGAAGTTGTCATTTTATAAACCTTTTAAAAAGATATATATATATGTTTTTCTAATGTGTTAAAGAGTTCATTGGAACAGAAAGAAATGGATTTATCTGCTCTTCGCGTTGAAGAAGTACAAAATGTCATTAATGCTATGCAGAAAATCTTAGAGTGTCCCATCTGGTAAGTCAGCACAAGAGTGTATTAATTTGGGATTCCTATGATTATCTCCTATGCAAATGAACAGAATTGACCTTACATACTAGGGAAGAAAAGACATGTC'"
      ]
     },
     "execution_count": 23,
     "metadata": {},
     "output_type": "execute_result"
    }
   ],
   "source": [
    "alt_seqs[16845]"
   ]
  },
  {
   "cell_type": "code",
   "execution_count": 24,
   "metadata": {
    "scrolled": false
   },
   "outputs": [
    {
     "name": "stdout",
     "output_type": "stream",
     "text": [
      "[{'inputs': {'intronl_len': 100, 'seq': 'TAGATTGATGCTTTTGAAAAAAATCAGTATTCTAACCTGAATTATCACTATCAGAACAAAGCAGTAAAGTAGATTTGTTTTCTCATTCCATTTAAAGCAGTATTAACTTCACAGAAAAGTAGTGAATACCCTATAAGCCAGAATCCAGAAGGCCTTTCTGCTGACAAGTTTGAGGTGTCTGCAGATAGTTCTACCAGTAAAAATAAAGAACCAGGAGTGGAAAGGTAAGAAACATCAATGTAAAGATGCTGTGGTATCTGACATCTTTATTTATA', 'intronr_len': 100}, 'metadata': {'variant': {'STR': \"17:41228504:CCTTTCCACTCCTGGTTCTTTATTTTTACTGGTAGAACTATCTGCAGACACCTCAAACTTGTCAGCAGAAAGGCCTTCTGGATTCTGGCTTATAGGGTATTCACTACTTTTCTGTGAAGTTAATACTG:['C']\", 'REF': 'CCTTTCCACTCCTGGTTCTTTATTTTTACTGGTAGAACTATCTGCAGACACCTCAAACTTGTCAGCAGAAAGGCCTTCTGGATTCTGGCTTATAGGGTATTCACTACTTTTCTGTGAAGTTAATACTG', 'POS': 41228504, 'ALT': 'C', 'CHROM': '17', 'ID': '188413'}, 'ExonInterval': {'name': 'ENSE00001816775', 'Exon_End': 41228628, 'start': 41228454, 'order': 4, 'isLast': False, 'intronl_len': 100, 'intronr_len': 100, 'isFirst': False, 'end': 41228728, 'seqid': '17', 'strand': '-', 'Exon_Start': 41228554, 'gene_id': 'ENSG00000012048'}, 'ranges': GenomicRanges(chr='17', start=41228454, end=41228728, id='ENST00000461574', strand='-'), 'annotation': '17_41228554_41228628:-'}, 'inputs_mut': {'intronl_len': 100, 'seq': 'TCATAGATTGATGCTTTTGAAAAAAATCAGTATTCTAACCTGAATTATCACTATCAGAACAAAGCAGTAAAGTAGATTTGTTTTCTCATTCCATTTAAAGGTAAGAAACATCAATGTAAAGATGCTGTGGTATCTGACATCTTTATTTATATTGAACTCTGATTGTTAATTTTTTTCACCATACTTTCTCCAGTTTTTTG', 'intronr_len': 100}}, {'inputs': {'intronl_len': 100, 'seq': 'TCATAGATTGATGCTTTTGAAAAAAATCAGTATTCTAACCTGAATTATCACTATCAGAACAAAGCAGTAAAGTAGATTTGTTTTCTCATTCCATTTAAAGCAGTATTAACTTCACAGAAAAGTAGTGAATACCCTATAAGCCAGAATCCAGAAGGCCTTTCTGCTGACAAGTTTGAGGTGTCTGCAGATAGTTCTACCAGTAAAAATAAAGAACCAGGAGTGGAAAGGTAAGAAACATCAATGTAAAGATGCTGTGGTATCTGACATCTTTATTTATATTGAACTCTGATTGTTAATTTTTTTCACCATACTTTCTCCAGTTTTTTG', 'intronr_len': 100}, 'metadata': {'variant': {'STR': \"17:41228504:CCTTTCCACTCCTGGTTCTTTATTTTTACTGGTAGAACTATCTGCAGACACCTCAAACTTGTCAGCAGAAAGGCCTTCTGGATTCTGGCTTATAGGGTATTCACTACTTTTCTGTGAAGTTAATACTG:['C']\", 'REF': 'CCTTTCCACTCCTGGTTCTTTATTTTTACTGGTAGAACTATCTGCAGACACCTCAAACTTGTCAGCAGAAAGGCCTTCTGGATTCTGGCTTATAGGGTATTCACTACTTTTCTGTGAAGTTAATACTG', 'POS': 41228504, 'ALT': 'C', 'CHROM': '17', 'ID': '188413'}, 'ExonInterval': {'name': 'ENSE00003484886', 'Exon_End': 41228631, 'start': 41228405, 'order': 13, 'isLast': False, 'intronl_len': 100, 'intronr_len': 100, 'isFirst': False, 'end': 41228731, 'seqid': '17', 'strand': '-', 'Exon_Start': 41228505, 'gene_id': 'ENSG00000012048'}, 'ranges': GenomicRanges(chr='17', start=41228405, end=41228731, id='ENST00000357654', strand='-'), 'annotation': '17_41228505_41228631:-'}, 'inputs_mut': {'intronl_len': 100, 'seq': 'TCATAGATTGATGCTTTTGAAAAAAATCAGTATTCTAACCTGAATTATCACTATCAGAACAAAGCAGTAAAGTAGATTTGTTTTCTCATTCCATTTAAAGGTAAGAAACATCAATGTAAAGATGCTGTGGTATCTGACATCTTTATTTATATTGAACTCTGATTGTTAATTTTTTTCACCATACTTTCTCCAGTTTTTTG', 'intronr_len': 100}}, {'inputs': {'intronl_len': 100, 'seq': 'TAGATTGATGCTTTTGAAAAAAATCAGTATTCTAACCTGAATTATCACTATCAGAACAAAGCAGTAAAGTAGATTTGTTTTCTCATTCCATTTAAAGCAGTATTAACTTCACAGAAAAGTAGTGAATACCCTATAAGCCAGAATCCAGAAGGCCTTTCTGCTGACAAGTTTGAGGTGTCTGCAGATAGTTCTACCAGTAAAAATAAAGAACCAGGAGTGGAAAGGTAAGAAACATCAATGTAAAGATGCTGTGGTATCTGACATCTTTATTTATATTGAACTCTGATTGTTAATTTTTTTCACCATACTTTCTCCAGTTTTTTG', 'intronr_len': 100}, 'metadata': {'variant': {'STR': \"17:41228504:CCTTTCCACTCCTGGTTCTTTATTTTTACTGGTAGAACTATCTGCAGACACCTCAAACTTGTCAGCAGAAAGGCCTTCTGGATTCTGGCTTATAGGGTATTCACTACTTTTCTGTGAAGTTAATACTG:['C']\", 'REF': 'CCTTTCCACTCCTGGTTCTTTATTTTTACTGGTAGAACTATCTGCAGACACCTCAAACTTGTCAGCAGAAAGGCCTTCTGGATTCTGGCTTATAGGGTATTCACTACTTTTCTGTGAAGTTAATACTG', 'POS': 41228504, 'ALT': 'C', 'CHROM': '17', 'ID': '188413'}, 'ExonInterval': {'name': 'ENSE00001516235', 'Exon_End': 41228628, 'start': 41228405, 'order': 13, 'isLast': False, 'intronl_len': 100, 'intronr_len': 100, 'isFirst': False, 'end': 41228728, 'seqid': '17', 'strand': '-', 'Exon_Start': 41228505, 'gene_id': 'ENSG00000012048'}, 'ranges': GenomicRanges(chr='17', start=41228405, end=41228728, id='ENST00000468300', strand='-'), 'annotation': '17_41228505_41228628:-'}, 'inputs_mut': {'intronl_len': 100, 'seq': 'TCATAGATTGATGCTTTTGAAAAAAATCAGTATTCTAACCTGAATTATCACTATCAGAACAAAGCAGTAAAGTAGATTTGTTTTCTCATTCCATTTAAAGGTAAGAAACATCAATGTAAAGATGCTGTGGTATCTGACATCTTTATTTATATTGAACTCTGATTGTTAATTTTTTTCACCATACTTTCTCCAGTTTTTTG', 'intronr_len': 100}}]\n",
      "\n",
      "[{'inputs': {'intronl_len': 100, 'seq': 'GAAAGTAAATCCAGTCCTGCCAATGAGAAGAAAAAGACACAGCAAGTTGCAGCGTTTATAGTCTGCTTTTACATCTGAACCTCTGTTTTTGTTATTTAAGGTGAAGCAGCATCTGGGTGTGAGAGTGAAACAAGCGTCTCTGAAGACTGCTCAGGGCTATCCTCTCAGAGTGACATTTTAACCACTCAGGTAAAAAGCGTGTGTGTGTGTGCACATGCGTGTGTGTGGTGTCCTTTGCATTCAGTAGTATGTATCCCACATTCTTAGGTTTGCTGACATCATCTCTTTG', 'intronr_len': 100}, 'metadata': {'variant': {'STR': \"17:41242891:GTGGGATACATACTACTGAATGCAAAGGACACCACACACACGCATGTGCACACACACACACGCTTTTTACCTGAGTGGTTAAAATGTCACTCTGAGAGGATAGCCCTGAGCAGTCTTCAGAGACGCTTGTTTCACTCTCACACCCAGATGCTGCTTCACCTTAAATAACAAAAACAGAGGTTCAGATGTAAAAGCAGACTATAAACGCTGCAACTTGCTGTGTCTTTTTCTTCTCAT:['G']\", 'REF': 'GTGGGATACATACTACTGAATGCAAAGGACACCACACACACGCATGTGCACACACACACACGCTTTTTACCTGAGTGGTTAAAATGTCACTCTGAGAGGATAGCCCTGAGCAGTCTTCAGAGACGCTTGTTTCACTCTCACACCCAGATGCTGCTTCACCTTAAATAACAAAAACAGAGGTTCAGATGTAAAAGCAGACTATAAACGCTGCAACTTGCTGTGTCTTTTTCTTCTCAT', 'POS': 41242891, 'ALT': 'G', 'CHROM': '17', 'ID': '267524'}, 'ExonInterval': {'name': 'ENSE00003547126', 'Exon_End': 41243049, 'start': 41242861, 'order': 11, 'isLast': False, 'intronl_len': 100, 'intronr_len': 100, 'isFirst': False, 'end': 41243149, 'seqid': '17', 'strand': '-', 'Exon_Start': 41242961, 'gene_id': 'ENSG00000012048'}, 'ranges': GenomicRanges(chr='17', start=41242861, end=41243149, id='ENST00000357654', strand='-'), 'annotation': '17_41242961_41243049:-'}, 'inputs_mut': {'intronl_len': 100, 'seq': 'GGACTTACTTCTGGTTTCATTTTATAAAAGCAAATCCAGGTGTCCCAAAGCAAGGAATTTAATCATTTTGTGTGACATGAAAGTAAATCCAGTCCTGCCACATTCTTAGGTTTGCTGACATCATCTCTTTGAATTAATGGCACAATTGTTTGTGGTTCATTGTCTCCTTAAATTAGACTGTAAGCACCTTGATGGAACTC', 'intronr_len': 100}}]\n",
      "\n",
      "[{'inputs': {'intronl_len': 100, 'seq': 'TAGCCAGTTGGTTGATTTCCACCTCCAAGGTGTATGAAGTATGTATTTTTTTAATGACAATTCAGTTTTTGAGTACCTTGTTATTTTTGTATATTTTCAGCTGCTTGTGAATTTTCTGAGACGGATGTAACAAATACTGAACATCATCAACCCAGTAATAATGATTTGAACACCACTGAGAAGCGTGCAGCTGAGAGGCATCCAGAAAAGTATCAGGGTAGTTCTGTTTCAAACTTGCATGTGGAGCCATGTGGCACAAATACTCATGCCAGCTCATTACAGCATGAGAACAGCAGTTTATTACTCACTAAAGACAGAATGAATGTAGAAAAGGCTGAATTCTGTAATAAAAGCAAACAGCCTGGCTTAGCAAGGAGCCAACATAACAGATGGGCTGGAAGTAAGGAAACATGTAATGATAGGCGGACTCCCAGCACAGAAAAAAAGGTAGATCTGAATGCTGATCCCCTGTGTGAGAGAAAAGAATGGAATAAGCAGAAACTGCCATGCTCAGAGAATCCTAGAGATACTGAAGATGTTCCTTGGATAACACTAAATAGCAGCATTCAGAAAGTTAATGAGTGGTTTTCCAGAAGTGATGAACTGTTAGGTTCTGATGACTCACATGATGGGGAGTCTGAATCAAATGCCAAAGTAGCTGATGTATTGGACGTTCTAAATGAGGTAGATGAATATTCTGGTTCTTCAGAGAAAATAGACTTACTGGCCAGTGATCCTCATGAGGCTTTAATATGTAAAAGTGAAAGAGTTCACTCCAAATCAGTAGAGAGTAATATTGAAGACAAAATATTTGGGAAAACCTATCGGAAGAAGGCAAGCCTCCCCAACTTAAGCCATGTAACTGAAAATCTAATTATAGGAGCATTTGTTACTGAGCCACAGATAATACAAGAGCGTCCCCTCACAAATAAATTAAAGCGTAAAAGGAGACCTACATCAGGCCTTCATCCTGAGGATTTTATCAAGAAAGCAGATTTGGCAGTTCAAAAGACTCCTGAAATGATAAATCAGGGAACTAACCAAACGGAGCAGAATGGTCAAGTGATGAATATTACTAATAGTGGTCATGAGAATAAAACAAAAGGTGATTCTATTCAGAATGAGAAAAATCCTAACCCAATAGAATCACTCGAAAAAGAATCTGCTTTCAAAACGAAAGCTGAACCTATAAGCAGCAGTATAAGCAATATGGAACTCGAATTAAATATCCACAATTCAAAAGCACCTAAAAAGAATAGGCTGAGGAGGAAGTCTTCTACCAGGCATATTCATGCGCTTGAACTAGTAGTCAGTAGAAATCTAAGCCCACCTAATTGTACTGAATTGCAAATTGATAGTTGTTCTAGCAGTGAAGAGATAAAGAAAAAAAAGTACAACCAAATGCCAGTCAGGCACAGCAGAAACCTACAACTCATGGAAGGTAAAGAACCTGCAACTGGAGCCAAGAAGAGTAACAAGCCAAATGAACAGACAAGTAAAAGACATGACAGCGATACTTTCCCAGAGCTGAAGTTAACAAATGCACCTGGTTCTTTTACTAAGTGTTCAAATACCAGTGAACTTAAAGAATTTGTCAATCCTAGCCTTCCAAGAGAAGAAAAAGAAGAGAAACTAGAAACAGTTAAAGTGTCTAATAATGCTGAAGACCCCAAAGATCTCATGTTAAGTGGAGAAAGGGTTTTGCAAACTGAAAGATCTGTAGAGAGTAGCAGTATTTCATTGGTACCTGGTACTGATTATGGCACTCAGGAAAGTATCTCGTTACTGGAAGTTAGCACTCTAGGGAAGGCAAAAACAGAACCAAATAAATGTGTGAGTCAGTGTGCAGCATTTGAAAACCCCAAGGGACTAATTCATGGTTGTTCCAAAGATAATAGAAATGACACAGAAGGCTTTAAGTATCCATTGGGACATGAAGTTAACCACAGTCGGGAAACAAGCATAGAAATGGAAGAAAGTGAACTTGATGCTCAGTATTTGCAGAATACATTCAAGGTTTCAAAGCGCCAGTCATTTGCTCCGTTTTCAAATCCAGGAAATGCAGAAGAGGAATGTGCAACATTCTCTGCCCACTCTGGGTCCTTAAAGAAACAAAGTCCAAAAGTCACTTTTGAATGTGAACAAAAGGAAGAAAATCAAGGAAAGAATGAGTCTAATATCAAGCCTGTACAGACAGTTAATATCACTGCAGGCTTTCCTGTGGTTGGTCAGAAAGATAAGCCAGTTGATAATGCCAAATGTAGTATCAAAGGAGGCTCTAGGTTTTGTCTATCATCTCAGTTCAGAGGCAACGAAACTGGACTCATTACTCCAAATAAACATGGACTTTTACAAAACCCATATCGTATACCACCACTTTTTCCCATCAAGTCATTTGTTAAAACTAAATGTAAGAAAAATCTGCTAGAGGAAAACTTTGAGGAACATTCAATGTCACCTGAAAGAGAAATGGGAAATGAGAACATTCCAAGTACAGTGAGCACAATTAGCCGTAATAACATTAGAGAAAATGTTTTTAAAGAAGCCAGCTCAAGCAATATTAATGAAGTAGGTTCCAGTACTAATGAAGTGGGCTCCAGTATTAATGAAATAGGTTCCAGTGATGAAAACATTCAAGCAGAACTAGGTAGAAACAGAGGGCCAAAATTGAATGCTATGCTTAGATTAGGGGTTTTGCAACCTGAGGTCTATAAACAAAGTCTTCCTGGAAGTAATTGTAAGCATCCTGAAATAAAAAAGCAAGAATATGAAGAAGTAGTTCAGACTGTTAATACAGATTTCTCTCCATATCTGATTTCAGATAACTTAGAACAGCCTATGGGAAGTAGTCATGCATCTCAGGTTTGTTCTGAGACACCTGATGACCTGTTAGATGATGGTGAAATAAAGGAAGATACTAGTTTTGCTGAAAATGACATTAAGGAAAGTTCTGCTGTTTTTAGCAAAAGCGTCCAGAAAGGAGAGCTTAGCAGGAGTCCTAGCCCTTTCACCCATACACATTTGGCTCAGGGTTACCGAAGAGGGGCCAAGAAATTAGAGTCCTCAGAAGAGAACTTATCTAGTGAGGATGAAGAGCTTCCCTGCTTCCAACACTTGTTATTTGGTAAAGTAAACAATATACCTTCTCAGTCTACTAGGCATAGCACCGTTGCTACCGAGTGTCTGTCTAAGAACACAGAGGAGAATTTATTATCATTGAAGAATAGCTTAAATGACTGCAGTAACCAGGTAATATTGGCAAAGGCATCTCAGGAACATCACCTTAGTGAGGAAACAAAATGTTCTGCTAGCTTGTTTTCTTCACAGTGCAGTGAATTGGAAGACTTGACTGCAAATACAAACACCCAGGATCCTTTCTTGATTGGTTCTTCCAAACAAATGAGGCATCAGTCTGAAAGCCAGGGAGTTGGTCTGAGTGACAAGGAATTGGTTTCAGATGATGAAGAAAGAGGAACGGGCTTGGAAGAAAATAATCAAGAAGAGCAAAGCATGGATTCAAACTTAGGTATTGGAACCAGGTTTTTGTGTTTGCCCCAGTCTATTTATAGAAGTGAGCTAAATGTTTATGCTTTTGGGGAGCACATTTTACAAATTTCCAAGTATAG', 'intronr_len': 100}, 'metadata': {'variant': {'STR': \"17:41245766:CATATTGCTTATACTGCTGCTTATAGGTTCAGCTTTCGTTTTGAAAGCAGATTCTTTTTCGAGTGATTCTATTGGGTTAGGATTTTTCTCATTCTGAATAGAATCACCTTTTGTTTTATTCTCATGACCACTATTAGTAATATTCATCACTTGACCATTCTGCTCCGTTTGGTTAGTTCCCTGATTTATCATTTCAGGAGTCTTTTGAACTGCCAAATCTGCTTTCTTGATAAAATCCTCAGGATGAAGGCCTGATGTAGGTCTCCTTTTACGCTTTAATTTATTTGTGAGGGGACGCTCTTGTATTATCTGTGGCTCAGTAACAAATGCTCCTATAATTAGATTTTCAGTTACATGGCTTAAGTTGGGGAGGCTTGCCTTCTTCCGATAGGTTTTCCCAAATATTTTGTCTTCAATATTACTCTCTACTGATTTGGAGTGAACTCTTTCACTTTTACATATTAAAGCCTCATGAGGATCACTGGCCAGTAAGTCTATTTTCTCTGAAGAACCAGAATATTCATCTACCTCATTTAGAACGTCCAATACATCAGCTACTTTGGCATTTGATTCAGACTCCCCATCATGTGAGTCATCAGAACCTAACAGTTCATCACTTCTGGAAAACCACTCATTAACTTTCTGAATGCTGCTATTTAGTGTTATCCAAGGAACATCTTCAGTATCTCTAGGATTCTCTGAGCATGGCAGTTTCTGCTTATTCCATTCTTTTCTCTCACACAGGGGATCAGCATTCAGATCTACCTTTTTTTCTGTGCTGGGAGTCCGCCTATCATTACATGTTTCCTTACTTCCAGCCCATCTGTTATGTTGGCTCCTTGCTAAGCCAGGCTGTTTGCTTTTATTACAGAATTCAGCCTTTTCTACATTCATTCTGTCTTTAGTGAGTAATAAACTGCTGTTCTCATGCTGTAATGAGCTGGCATGAGTATTTGTGCCACATGGCTCCACATGCAAGTTTGAAACAGAACTACCCTGATACTTTTCTGGATGCCTCTCAGCTGCACGCTTCTCAGTGGTGTTCAAATCATTATTACTGGGTTGATGATGTTCAGTATTTGTTACATCCGTCTCAGAAAATTCACAAGCAGCTGAAAATATACAAAAATAACAAGGT:['C']\", 'REF': 'CATATTGCTTATACTGCTGCTTATAGGTTCAGCTTTCGTTTTGAAAGCAGATTCTTTTTCGAGTGATTCTATTGGGTTAGGATTTTTCTCATTCTGAATAGAATCACCTTTTGTTTTATTCTCATGACCACTATTAGTAATATTCATCACTTGACCATTCTGCTCCGTTTGGTTAGTTCCCTGATTTATCATTTCAGGAGTCTTTTGAACTGCCAAATCTGCTTTCTTGATAAAATCCTCAGGATGAAGGCCTGATGTAGGTCTCCTTTTACGCTTTAATTTATTTGTGAGGGGACGCTCTTGTATTATCTGTGGCTCAGTAACAAATGCTCCTATAATTAGATTTTCAGTTACATGGCTTAAGTTGGGGAGGCTTGCCTTCTTCCGATAGGTTTTCCCAAATATTTTGTCTTCAATATTACTCTCTACTGATTTGGAGTGAACTCTTTCACTTTTACATATTAAAGCCTCATGAGGATCACTGGCCAGTAAGTCTATTTTCTCTGAAGAACCAGAATATTCATCTACCTCATTTAGAACGTCCAATACATCAGCTACTTTGGCATTTGATTCAGACTCCCCATCATGTGAGTCATCAGAACCTAACAGTTCATCACTTCTGGAAAACCACTCATTAACTTTCTGAATGCTGCTATTTAGTGTTATCCAAGGAACATCTTCAGTATCTCTAGGATTCTCTGAGCATGGCAGTTTCTGCTTATTCCATTCTTTTCTCTCACACAGGGGATCAGCATTCAGATCTACCTTTTTTTCTGTGCTGGGAGTCCGCCTATCATTACATGTTTCCTTACTTCCAGCCCATCTGTTATGTTGGCTCCTTGCTAAGCCAGGCTGTTTGCTTTTATTACAGAATTCAGCCTTTTCTACATTCATTCTGTCTTTAGTGAGTAATAAACTGCTGTTCTCATGCTGTAATGAGCTGGCATGAGTATTTGTGCCACATGGCTCCACATGCAAGTTTGAAACAGAACTACCCTGATACTTTTCTGGATGCCTCTCAGCTGCACGCTTCTCAGTGGTGTTCAAATCATTATTACTGGGTTGATGATGTTCAGTATTTGTTACATCCGTCTCAGAAAATTCACAAGCAGCTGAAAATATACAAAAATAACAAGGT', 'POS': 41245766, 'ALT': 'C', 'CHROM': '17', 'ID': '267616'}, 'ExonInterval': {'name': 'ENSE00003522602', 'Exon_End': 41246877, 'start': 41243352, 'order': 10, 'isLast': False, 'intronl_len': 100, 'intronr_len': 100, 'isFirst': False, 'end': 41246977, 'seqid': '17', 'strand': '-', 'Exon_Start': 41243452, 'gene_id': 'ENSG00000012048'}, 'ranges': GenomicRanges(chr='17', start=41243352, end=41246977, id='ENST00000357654', strand='-'), 'annotation': '17_41243452_41246877:-'}, 'inputs_mut': {'intronl_len': 100, 'seq': 'GCAACCATTTCATTTCAACTAGAAGTTTCTAAAGGAGAGAGCAGCTTTCACTAACTAAATAAGATTGGTCAGCTTTCTGTAATCGAAAGAGCTAAAATGTTTGATCTTGGTCATTTGACAGTTCTGCATACATGTAACTAGTGTTTCTTATTAGGACTCTGTCTTTTCCCTATAGTGTGGGAGATCAAGAATTGTTACAAATCACCCCTCAAGGAACCAGGGATGAAATCAGTTTGGATTCTGCAAAAAAGGGTAATGGCAAAGTTTGCCAACTTAACAGGCACTGAAAAGAGAGTGGGTAGATACAGTACTGTAATTAGATTATTCTGAAGACCATTTGGGACCTTTACAACCCACAAAATCTCTTGGCAGAGTTAGAGTATCATTCTCTGTCAAATGTCGTGGTATGGTCTGATAGATTTAAATGGTACTAGACTAATGTACCTATAATAAGACCTTCTGTAACTGATTGTTGCCCTTTCGTTTTTTTTTTTGTTTGTTTGTTTGTTTTTTTTTGAGATGGGGTCTCACTCTGTTGCCCAGGCTGGAGTGCAGTGATGCAATCTTGGCTCACTGCAACCTCCACCTCCAAGGCTCAAGCTATCCTCCCACTTCAGCCTCCTGAGTAGCTGGGACTACAGGCGCATGCCACCACACCCGGTTAATTTTTTGTGGTTTTATAGAGATGGGGTTTCACCATGTTACCGAGGCTGGTCTCAAACTCCTGGACTCAAGCAGTCTGCCCACTTCAGCCTCCCAAAGTGCTGCAGTTACAGGCTTGAGCCACTGTGCCTGGCCTGCCCTTTACTTTTAATTGGTGTATTTGTGTTTCATCTTTTACCTACTGGTTTTTAAATATAGGGAGTGGTAAGTCTGTAGATAGAACAGAGTATTAAGTAGACTTAATGGCCAGTAATCTTTAGAGTACATCAGAACCAGTTTTCTGATGGCCAATCTGCTTTTAATTCACTCTTAGACGTTAGAGAAATAGGTGTGGTTTCTGCATAGGGAAAATTCTGAAATTAAAAATTTAATGGATCCTAAGTGGAAATAATCTAGGTAAATAGGAATTAAATGAAAGAGTATGAGCTACATCTTCAGTATACTTGGTAGTTTATGAGGTTAGTTTCTCTAATATAGCCAGTTGGTTGATTTCCACCTCCAAGGTGTATGAAGTATGTATTTTTTTAATGACAATTCAGTTTTTGAGTGGAACTCGAATTAAATATCCACAATTCAAAAGCACCTAAAAAGAATAGGCTGAGGAGGAAGTCTTCTACCAGGCATATTCATGCGCTTGAACTAGTAGTCAGTAGAAATCTAAGCCCACCTAATTGTACTGAATTGCAAATTGATAGTTGTTCTAGCAGTGAAGAGATAAAGAAAAAAAAGTACAACCAAATGCCAGTCAGGCACAGCAGAAACCTACAACTCATGGAAGGTAAAGAACCTGCAACTGGAGCCAAGAAGAGTAACAAGCCAAATGAACAGACAAGTAAAAGACATGACAGCGATACTTTCCCAGAGCTGAAGTTAACAAATGCACCTGGTTCTTTTACTAAGTGTTCAAATACCAGTGAACTTAAAGAATTTGTCAATCCTAGCCTTCCAAGAGAAGAAAAAGAAGAGAAACTAGAAACAGTTAAAGTGTCTAATAATGCTGAAGACCCCAAAGATCTCATGTTAAGTGGAGAAAGGGTTTTGCAAACTGAAAGATCTGTAGAGAGTAGCAGTATTTCATTGGTACCTGGTACTGATTATGGCACTCAGGAAAGTATCTCGTTACTGGAAGTTAGCACTCTAGGGAAGGCAAAAACAGAACCAAATAAATGTGTGAGTCAGTGTGCAGCATTTGAAAACCCCAAGGGACTAATTCATGGTTGTTCCAAAGATAATAGAAATGACACAGAAGGCTTTAAGTATCCATTGGGACATGAAGTTAACCACAGTCGGGAAACAAGCATAGAAATGGAAGAAAGTGAACTTGATGCTCAGTATTTGCAGAATACATTCAAGGTTTCAAAGCGCCAGTCATTTGCTCCGTTTTCAAATCCAGGAAATGCAGAAGAGGAATGTGCAACATTCTCTGCCCACTCTGGGTCCTTAAAGAAACAAAGTCCAAAAGTCACTTTTGAATGTGAACAAAAGGAAGAAAATCAAGGAAAGAATGAGTCTAATATCAAGCCTGTACAGACAGTTAATATCACTGCAGGCTTTCCTGTGGTTGGTCAGAAAGATAAGCCAGTTGATAATGCCAAATGTAGTATCAAAGGAGGCTCTAGGTTTTGTCTATCATCTCAGTTCAGAGGCAACGAAACTGGACTCATTACTCCAAATAAACATGGACTTTTACAAAACCCATATCGTATACCACCACTTTTTCCCATCAAGTCATTTGTTAAAACTAAATGTAAGAAAAATCTGCTAGAGGAAAACTTTGAGGAACATTCAATGTCACCTGAAAGAGAAATGGGAAATGAGAACATTCCAAGTACAGTGAGCACAATTAGCCGTAATAACATTAGAGAAAATGTTTTTAAAGAAGCCAGCTCAAGCAATATTAATGAAGTAGGTTCCAGTACTAATGAAGTGGGCTCCAGTATTAATGAAATAGGTTCCAGTGATGAAAACATTCAAGCAGAACTAGGTAGAAACAGAGGGCCAAAATTGAATGCTATGCTTAGATTAGGGGTTTTGCAACCTGAGGTCTATAAACAAAGTCTTCCTGGAAGTAATTGTAAGCATCCTGAAATAAAAAAGCAAGAATATGAAGAAGTAGTTCAGACTGTTAATACAGATTTCTCTCCATATCTGATTTCAGATAACTTAGAACAGCCTATGGGAAGTAGTCATGCATCTCAGGTTTGTTCTGAGACACCTGATGACCTGTTAGATGATGGTGAAATAAAGGAAGATACTAGTTTTGCTGAAAATGACATTAAGGAAAGTTCTGCTGTTTTTAGCAAAAGCGTCCAGAAAGGAGAGCTTAGCAGGAGTCCTAGCCCTTTCACCCATACACATTTGGCTCAGGGTTACCGAAGAGGGGCCAAGAAATTAGAGTCCTCAGAAGAGAACTTATCTAGTGAGGATGAAGAGCTTCCCTGCTTCCAACACTTGTTATTTGGTAAAGTAAACAATATACCTTCTCAGTCTACTAGGCATAGCACCGTTGCTACCGAGTGTCTGTCTAAGAACACAGAGGAGAATTTATTATCATTGAAGAATAGCTTAAATGACTGCAGTAACCAGGTAATATTGGCAAAGGCATCTCAGGAACATCACCTTAGTGAGGAAACAAAATGTTCTGCTAGCTTGTTTTCTTCACAGTGCAGTGAATTGGAAGACTTGACTGCAAATACAAACACCCAGGATCCTTTCTTGATTGGTTCTTCCAAACAAATGAGGCATCAGTCTGAAAGCCAGGGAGTTGGTCTGAGTGACAAGGAATTGGTTTCAGATGATGAAGAAAGAGGAACGGGCTTGGAAGAAAATAATCAAGAAGAGCAAAGCATGGATTCAAACTTAGGTATTGGAACCAGGTTTTTGTGTTTGCCCCAGTCTATTTATAGAAGTGAGCTAAATGTTTATGCTTTTGGGGAGCACATTTTACAAATTTCCAAGTATAG', 'intronr_len': 100}}, {'inputs': {'intronl_len': 100, 'seq': 'TAGCCAGTTGGTTGATTTCCACCTCCAAGGTGTATGAAGTATGTATTTTTTTAATGACAATTCAGTTTTTGAGTACCTTGTTATTTTTGTATATTTTCAGCTGCTTGTGAATTTTCTGAGACGGATGTAACAAATACTGAACATCATCAACCCAGTAATAATGATTTGAACACCACTGAGAAGCGTGCAGCTGAGAGGCATCCAGAAAAGTATCAGGGTAGTTCTGTTTCAAACTTGCATGTGGAGCCATGTGGCACAAATACTCATGCCAGCTCATTACAGCATGAGAACAGCAGTTTATTACTCACTAAAGACAGAATGAATGTAGAAAAGGCTGAATTCTGTAATAAAAGCAAACAGCCTGGCTTAGCAAGGAGCCAACATAACAGATGGGCTGGAAGTAAGGAAACATGTAATGATAGGCGGACTCCCAGCACAGAAAAAAAGGTAGATCTGAATGCTGATCCCCTGTGTGAGAGAAAAGAATGGAATAAGCAGAAACTGCCATGCTCAGAGAATCCTAGAGATACTGAAGATGTTCCTTGGATAACACTAAATAGCAGCATTCAGAAAGTTAATGAGTGGTTTTCCAGAAGTGATGAACTGTTAGGTTCTGATGACTCACATGATGGGGAGTCTGAATCAAATGCCAAAGTAGCTGATGTATTGGACGTTCTAAATGAGGTAGATGAATATTCTGGTTCTTCAGAGAAAATAGACTTACTGGCCAGTGATCCTCATGAGGCTTTAATATGTAAAAGTGAAAGAGTTCACTCCAAATCAGTAGAGAGTAATATTGAAGACAAAATATTTGGGAAAACCTATCGGAAGAAGGCAAGCCTCCCCAACTTAAGCCATGTAACTGAAAATCTAATTATAGGAGCATTTGTTACTGAGCCACAGATAATACAAGAGCGTCCCCTCACAAATAAATTAAAGCGTAAAAGGAGACCTACATCAGGCCTTCATCCTGAGGATTTTATCAAGAAAGCAGATTTGGCAGTTCAAAAGACTCCTGAAATGATAAATCAGGGAACTAACCAAACGGAGCAGAATGGTCAAGTGATGAATATTACTAATAGTGGTCATGAGAATAAAACAAAAGGTGATTCTATTCAGAATGAGAAAAATCCTAACCCAATAGAATCACTCGAAAAAGAATCTGCTTTCAAAACGAAAGCTGAACCTATAAGCAGCAGTATAAGCAATATGGAACTCGAATTAAATATCCACAATTCAAAAGCACCTAAAAAGAATAGGCTGAGGAGGAAGTCTTCTACCAGGCATATTCATGCGCTTGAACTAGTAGTCAGTAGAAATCTAAGCCCACCTAATTGTACTGAATTGCAAATTGATAGTTGTTCTAGCAGTGAAGAGATAAAGAAAAAAAAGTACAACCAAATGCCAGTCAGGCACAGCAGAAACCTACAACTCATGGAAGGTAAAGAACCTGCAACTGGAGCCAAGAAGAGTAACAAGCCAAATGAACAGACAAGTAAAAGACATGACAGCGATACTTTCCCAGAGCTGAAGTTAACAAATGCACCTGGTTCTTTTACTAAGTGTTCAAATACCAGTGAACTTAAAGAATTTGTCAATCCTAGCCTTCCAAGAGAAGAAAAAGAAGAGAAACTAGAAACAGTTAAAGTGTCTAATAATGCTGAAGACCCCAAAGATCTCATGTTAAGTGGAGAAAGGGTTTTGCAAACTGAAAGATCTGTAGAGAGTAGCAGTATTTCATTGGTACCTGGTACTGATTATGGCACTCAGGAAAGTATCTCGTTACTGGAAGTTAGCACTCTAGGGAAGGCAAAAACAGAACCAAATAAATGTGTGAGTCAGTGTGCAGCATTTGAAAACCCCAAGGGACTAATTCATGGTTGTTCCAAAGATAATAGAAATGACACAGAAGGCTTTAAGTATCCATTGGGACATGAAGTTAACCACAGTCGGGAAACAAGCATAGAAATGGAAGAAAGTGAACTTGATGCTCAGTATTTGCAGAATACATTCAAGGTTTCAAAGCGCCAGTCATTTGCTCCGTTTTCAAATCCAGGAAATGCAGAAGAGGAATGTGCAACATTCTCTGCCCACTCTGGGTCCTTAAAGAAACAAAGTCCAAAAGTCACTTTTGAATGTGAACAAAAGGAAGAAAATCAAGGAAAGAATGAGTCTAATATCAAGCCTGTACAGACAGTTAATATCACTGCAGGCTTTCCTGTGGTTGGTCAGAAAGATAAGCCAGTTGATAATGCCAAATGTAGTATCAAAGGAGGCTCTAGGTTTTGTCTATCATCTCAGTTCAGAGGCAACGAAACTGGACTCATTACTCCAAATAAACATGGACTTTTACAAAACCCATATCGTATACCACCACTTTTTCCCATCAAGTCATTTGTTAAAACTAAATGTAAGAAAAATCTGCTAGAGGAAAACTTTGAGGAACATTCAATGTCACCTGAAAGAGAAATGGGAAATGAGAACATTCCAAGTACAGTGAGCACAATTAGCCGTAATAACATTAGAGAAAATGTTTTTAAAGAAGCCAGCTCAAGCAATATTAATGAAGTAGGTTCCAGTACTAATGAAGTGGGCTCCAGTATTAATGAAATAGGTTCCAGTGATGAAAACATTCAAGCAGAACTAGGTAGAAACAGAGGGCCAAAATTGAATGCTATGCTTAGATTAGGGGTTTTGCAACCTGAGGTCTATAAACAAAGTCTTCCTGGAAGTAATTGTAAGCATCCTGAAATAAAAAAGCAAGAATATGAAGAAGTAGTTCAGACTGTTAATACAGATTTCTCTCCATATCTGATTTCAGATAACTTAGAACAGCCTATGGGAAGTAGTCATGCATCTCAGGTTTGTTCTGAGACACCTGATGACCTGTTAGATGATGGTGAAATAAAGGAAGATACTAGTTTTGCTGAAAATGACATTAAGGAAAGTTCTGCTGTTTTTAGCAAAAGCGTCCAGAAAGGAGAGCTTAGCAGGAGTCCTAGCCCTTTCACCCATACACATTTGGCTCAGGGTTACCGAAGAGGGGCCAAGAAATTAGAGTCCTCAGAAGAGAACTTATCTAGTGAGGATGAAGAGCTTCCCTGCTTCCAACACTTGTTATTTGGTAAAGTAAACAATATACCTTCTCAGTCTACTAGGCATAGCACCGTTGCTACCGAGTGTCTGTCTAAGAACACAGAGGAGAATTTATTATCATTGAAGAATAGCTTAAATGACTGCAGTAACCAGGTAATATTGGCAAAGGCATCTCAGGAACATCACCTTAGTGAGGAAACAAAATGTTCTGCTAGCTTGTTTTCTTCACAGTGCAGTGAATTGGAAGACTTGACTGCAAATACAAACACCCAGGATCCTTTCTTGATTGGTTCTTCCAAACAAATGAGGCATCAGTCTGAAAGCCAGGGAGTTGGTCTGAGTGACAAGGAATTGGTTTCAGATGATGAAGAAAGAGGAACGGGCTTGGAAGAAAATAATCAAGAAGAGCAAAGCATGGATTCAAACTTAGGTATTGGAACCAGGTTTTTGTGTTTGCCCCAGTCTATTTATAGAAGTGAGCTAAATGTTTATGCTTTTGGGGAGCACATTTTACAAATTTCCAAGTATAGTTAAAGGAACTGCTTCTTAAACTTGAAACATGTTCCTCCTAAGGTGCTTTTCATAGAAAAAAGTCCTTCACACAGCTAGGACGTCATCTTTGACTGAATGAGCTTTAACATCCTAATTACTGGTGGACTTACTTCTGGTTTCATTTTATAAAAGCAAATCCAGGTGTCCCAAAGCAAGGAATTTAATCATTTTGTGTGACATGAAAGTAAATCCAGTCCTGCCAATGAGAAGAAAAAGACACAGCAAGTTGCAGCGTTTATAGTCTGCTTTTACATCTGAACCTCTGTTTTTGTTATTTAAGGTGAAGCAGCATCTGGGTGTGAGAGTGAAACAAGC', 'intronr_len': 100}, 'metadata': {'variant': {'STR': \"17:41245766:CATATTGCTTATACTGCTGCTTATAGGTTCAGCTTTCGTTTTGAAAGCAGATTCTTTTTCGAGTGATTCTATTGGGTTAGGATTTTTCTCATTCTGAATAGAATCACCTTTTGTTTTATTCTCATGACCACTATTAGTAATATTCATCACTTGACCATTCTGCTCCGTTTGGTTAGTTCCCTGATTTATCATTTCAGGAGTCTTTTGAACTGCCAAATCTGCTTTCTTGATAAAATCCTCAGGATGAAGGCCTGATGTAGGTCTCCTTTTACGCTTTAATTTATTTGTGAGGGGACGCTCTTGTATTATCTGTGGCTCAGTAACAAATGCTCCTATAATTAGATTTTCAGTTACATGGCTTAAGTTGGGGAGGCTTGCCTTCTTCCGATAGGTTTTCCCAAATATTTTGTCTTCAATATTACTCTCTACTGATTTGGAGTGAACTCTTTCACTTTTACATATTAAAGCCTCATGAGGATCACTGGCCAGTAAGTCTATTTTCTCTGAAGAACCAGAATATTCATCTACCTCATTTAGAACGTCCAATACATCAGCTACTTTGGCATTTGATTCAGACTCCCCATCATGTGAGTCATCAGAACCTAACAGTTCATCACTTCTGGAAAACCACTCATTAACTTTCTGAATGCTGCTATTTAGTGTTATCCAAGGAACATCTTCAGTATCTCTAGGATTCTCTGAGCATGGCAGTTTCTGCTTATTCCATTCTTTTCTCTCACACAGGGGATCAGCATTCAGATCTACCTTTTTTTCTGTGCTGGGAGTCCGCCTATCATTACATGTTTCCTTACTTCCAGCCCATCTGTTATGTTGGCTCCTTGCTAAGCCAGGCTGTTTGCTTTTATTACAGAATTCAGCCTTTTCTACATTCATTCTGTCTTTAGTGAGTAATAAACTGCTGTTCTCATGCTGTAATGAGCTGGCATGAGTATTTGTGCCACATGGCTCCACATGCAAGTTTGAAACAGAACTACCCTGATACTTTTCTGGATGCCTCTCAGCTGCACGCTTCTCAGTGGTGTTCAAATCATTATTACTGGGTTGATGATGTTCAGTATTTGTTACATCCGTCTCAGAAAATTCACAAGCAGCTGAAAATATACAAAAATAACAAGGT:['C']\", 'REF': 'CATATTGCTTATACTGCTGCTTATAGGTTCAGCTTTCGTTTTGAAAGCAGATTCTTTTTCGAGTGATTCTATTGGGTTAGGATTTTTCTCATTCTGAATAGAATCACCTTTTGTTTTATTCTCATGACCACTATTAGTAATATTCATCACTTGACCATTCTGCTCCGTTTGGTTAGTTCCCTGATTTATCATTTCAGGAGTCTTTTGAACTGCCAAATCTGCTTTCTTGATAAAATCCTCAGGATGAAGGCCTGATGTAGGTCTCCTTTTACGCTTTAATTTATTTGTGAGGGGACGCTCTTGTATTATCTGTGGCTCAGTAACAAATGCTCCTATAATTAGATTTTCAGTTACATGGCTTAAGTTGGGGAGGCTTGCCTTCTTCCGATAGGTTTTCCCAAATATTTTGTCTTCAATATTACTCTCTACTGATTTGGAGTGAACTCTTTCACTTTTACATATTAAAGCCTCATGAGGATCACTGGCCAGTAAGTCTATTTTCTCTGAAGAACCAGAATATTCATCTACCTCATTTAGAACGTCCAATACATCAGCTACTTTGGCATTTGATTCAGACTCCCCATCATGTGAGTCATCAGAACCTAACAGTTCATCACTTCTGGAAAACCACTCATTAACTTTCTGAATGCTGCTATTTAGTGTTATCCAAGGAACATCTTCAGTATCTCTAGGATTCTCTGAGCATGGCAGTTTCTGCTTATTCCATTCTTTTCTCTCACACAGGGGATCAGCATTCAGATCTACCTTTTTTTCTGTGCTGGGAGTCCGCCTATCATTACATGTTTCCTTACTTCCAGCCCATCTGTTATGTTGGCTCCTTGCTAAGCCAGGCTGTTTGCTTTTATTACAGAATTCAGCCTTTTCTACATTCATTCTGTCTTTAGTGAGTAATAAACTGCTGTTCTCATGCTGTAATGAGCTGGCATGAGTATTTGTGCCACATGGCTCCACATGCAAGTTTGAAACAGAACTACCCTGATACTTTTCTGGATGCCTCTCAGCTGCACGCTTCTCAGTGGTGTTCAAATCATTATTACTGGGTTGATGATGTTCAGTATTTGTTACATCCGTCTCAGAAAATTCACAAGCAGCTGAAAATATACAAAAATAACAAGGT', 'POS': 41245766, 'ALT': 'C', 'CHROM': '17', 'ID': '267616'}, 'ExonInterval': {'name': 'ENSE00001847936', 'Exon_End': 41246877, 'start': 41243015, 'order': 10, 'isLast': False, 'intronl_len': 100, 'intronr_len': 100, 'isFirst': False, 'end': 41246977, 'seqid': '17', 'strand': '-', 'Exon_Start': 41243115, 'gene_id': 'ENSG00000012048'}, 'ranges': GenomicRanges(chr='17', start=41243015, end=41246977, id='ENST00000467274', strand='-'), 'annotation': '17_41243115_41246877:-'}, 'inputs_mut': {'intronl_len': 100, 'seq': 'GCAACCATTTCATTTCAACTAGAAGTTTCTAAAGGAGAGAGCAGCTTTCACTAACTAAATAAGATTGGTCAGCTTTCTGTAATCGAAAGAGCTAAAATGTTTGATCTTGGTCATTTGACAGTTCTGCATACATGTAACTAGTGTTTCTTATTAGGACTCTGTCTTTTCCCTATAGTGTGGGAGATCAAGAATTGTTACAAATCACCCCTCAAGGAACCAGGGATGAAATCAGTTTGGATTCTGCAAAAAAGGGTAATGGCAAAGTTTGCCAACTTAACAGGCACTGAAAAGAGAGTGGGTAGATACAGTACTGTAATTAGATTATTCTGAAGACCATTTGGGACCTTTACAACCCACAAAATCTCTTGGCAGAGTTAGAGTATCATTCTCTGTCAAATGTCGTGGTATGGTCTGATAGATTTAAATGGTACTAGACTAATGTACCTATAATAAGACCTTCTGTAACTGATTGTTGCCCTTTCGTTTTTTTTTTTGTTTGTTTGTTTGTTTTTTTTTGAGATGGGGTCTCACTCTGTTGCCCAGGCTGGAGTGCAGTGATGCAATCTTGGCTCACTGCAACCTCCACCTCCAAGGCTCAAGCTATCCTCCCACTTCAGCCTCCTGAGTAGCTGGGACTACAGGCGCATGCCACCACACCCGGTTAATTTTTTGTGGTTTTATAGAGATGGGGTTTCACCATGTTACCGAGGCTGGTCTCAAACTCCTGGACTCAAGCAGTCTGCCCACTTCAGCCTCCCAAAGTGCTGCAGTTACAGGCTTGAGCCACTGTGCCTGGCCTGCCCTTTACTTTTAATTGGTGTATTTGTGTTTCATCTTTTACCTACTGGTTTTTAAATATAGGGAGTGGTAAGTCTGTAGATAGAACAGAGTATTAAGTAGACTTAATGGCCAGTAATCTTTAGAGTACATCAGAACCAGTTTTCTGATGGCCAATCTGCTTTTAATTCACTCTTAGACGTTAGAGAAATAGGTGTGGTTTCTGCATAGGGAAAATTCTGAAATTAAAAATTTAATGGATCCTAAGTGGAAATAATCTAGGTAAATAGGAATTAAATGAAAGAGTATGAGCTACATCTTCAGTATACTTGGTAGTTTATGAGGTTAGTTTCTCTAATATAGCCAGTTGGTTGATTTCCACCTCCAAGGTGTATGAAGTATGTATTTTTTTAATGACAATTCAGTTTTTGAGTGGAACTCGAATTAAATATCCACAATTCAAAAGCACCTAAAAAGAATAGGCTGAGGAGGAAGTCTTCTACCAGGCATATTCATGCGCTTGAACTAGTAGTCAGTAGAAATCTAAGCCCACCTAATTGTACTGAATTGCAAATTGATAGTTGTTCTAGCAGTGAAGAGATAAAGAAAAAAAAGTACAACCAAATGCCAGTCAGGCACAGCAGAAACCTACAACTCATGGAAGGTAAAGAACCTGCAACTGGAGCCAAGAAGAGTAACAAGCCAAATGAACAGACAAGTAAAAGACATGACAGCGATACTTTCCCAGAGCTGAAGTTAACAAATGCACCTGGTTCTTTTACTAAGTGTTCAAATACCAGTGAACTTAAAGAATTTGTCAATCCTAGCCTTCCAAGAGAAGAAAAAGAAGAGAAACTAGAAACAGTTAAAGTGTCTAATAATGCTGAAGACCCCAAAGATCTCATGTTAAGTGGAGAAAGGGTTTTGCAAACTGAAAGATCTGTAGAGAGTAGCAGTATTTCATTGGTACCTGGTACTGATTATGGCACTCAGGAAAGTATCTCGTTACTGGAAGTTAGCACTCTAGGGAAGGCAAAAACAGAACCAAATAAATGTGTGAGTCAGTGTGCAGCATTTGAAAACCCCAAGGGACTAATTCATGGTTGTTCCAAAGATAATAGAAATGACACAGAAGGCTTTAAGTATCCATTGGGACATGAAGTTAACCACAGTCGGGAAACAAGCATAGAAATGGAAGAAAGTGAACTTGATGCTCAGTATTTGCAGAATACATTCAAGGTTTCAAAGCGCCAGTCATTTGCTCCGTTTTCAAATCCAGGAAATGCAGAAGAGGAATGTGCAACATTCTCTGCCCACTCTGGGTCCTTAAAGAAACAAAGTCCAAAAGTCACTTTTGAATGTGAACAAAAGGAAGAAAATCAAGGAAAGAATGAGTCTAATATCAAGCCTGTACAGACAGTTAATATCACTGCAGGCTTTCCTGTGGTTGGTCAGAAAGATAAGCCAGTTGATAATGCCAAATGTAGTATCAAAGGAGGCTCTAGGTTTTGTCTATCATCTCAGTTCAGAGGCAACGAAACTGGACTCATTACTCCAAATAAACATGGACTTTTACAAAACCCATATCGTATACCACCACTTTTTCCCATCAAGTCATTTGTTAAAACTAAATGTAAGAAAAATCTGCTAGAGGAAAACTTTGAGGAACATTCAATGTCACCTGAAAGAGAAATGGGAAATGAGAACATTCCAAGTACAGTGAGCACAATTAGCCGTAATAACATTAGAGAAAATGTTTTTAAAGAAGCCAGCTCAAGCAATATTAATGAAGTAGGTTCCAGTACTAATGAAGTGGGCTCCAGTATTAATGAAATAGGTTCCAGTGATGAAAACATTCAAGCAGAACTAGGTAGAAACAGAGGGCCAAAATTGAATGCTATGCTTAGATTAGGGGTTTTGCAACCTGAGGTCTATAAACAAAGTCTTCCTGGAAGTAATTGTAAGCATCCTGAAATAAAAAAGCAAGAATATGAAGAAGTAGTTCAGACTGTTAATACAGATTTCTCTCCATATCTGATTTCAGATAACTTAGAACAGCCTATGGGAAGTAGTCATGCATCTCAGGTTTGTTCTGAGACACCTGATGACCTGTTAGATGATGGTGAAATAAAGGAAGATACTAGTTTTGCTGAAAATGACATTAAGGAAAGTTCTGCTGTTTTTAGCAAAAGCGTCCAGAAAGGAGAGCTTAGCAGGAGTCCTAGCCCTTTCACCCATACACATTTGGCTCAGGGTTACCGAAGAGGGGCCAAGAAATTAGAGTCCTCAGAAGAGAACTTATCTAGTGAGGATGAAGAGCTTCCCTGCTTCCAACACTTGTTATTTGGTAAAGTAAACAATATACCTTCTCAGTCTACTAGGCATAGCACCGTTGCTACCGAGTGTCTGTCTAAGAACACAGAGGAGAATTTATTATCATTGAAGAATAGCTTAAATGACTGCAGTAACCAGGTAATATTGGCAAAGGCATCTCAGGAACATCACCTTAGTGAGGAAACAAAATGTTCTGCTAGCTTGTTTTCTTCACAGTGCAGTGAATTGGAAGACTTGACTGCAAATACAAACACCCAGGATCCTTTCTTGATTGGTTCTTCCAAACAAATGAGGCATCAGTCTGAAAGCCAGGGAGTTGGTCTGAGTGACAAGGAATTGGTTTCAGATGATGAAGAAAGAGGAACGGGCTTGGAAGAAAATAATCAAGAAGAGCAAAGCATGGATTCAAACTTAGGTATTGGAACCAGGTTTTTGTGTTTGCCCCAGTCTATTTATAGAAGTGAGCTAAATGTTTATGCTTTTGGGGAGCACATTTTACAAATTTCCAAGTATAGTTAAAGGAACTGCTTCTTAAACTTGAAACATGTTCCTCCTAAGGTGCTTTTCATAGAAAAAAGTCCTTCACACAGCTAGGACGTCATCTTTGACTGAATGAGCTTTAACATCCTAATTACTGGTGGACTTACTTCTGGTTTCATTTTATAAAAGCAAATCCAGGTGTCCCAAAGCAAGGAATTTAATCATTTTGTGTGACATGAAAGTAAATCCAGTCCTGCCAATGAGAAGAAAAAGACACAGCAAGTTGCAGCGTTTATAGTCTGCTTTTACATCTGAACCTCTGTTTTTGTTATTTAAGGTGAAGCAGCATCTGGGTGTGAGAGTGAAACAAGC', 'intronr_len': 100}}, {'inputs': {'intronl_len': 100, 'seq': 'TAGCCAGTTGGTTGATTTCCACCTCCAAGGTGTATGAAGTATGTATTTTTTTAATGACAATTCAGTTTTTGAGTACCTTGTTATTTTTGTATATTTTCAGCTGCTTGTGAATTTTCTGAGACGGATGTAACAAATACTGAACATCATCAACCCAGTAATAATGATTTGAACACCACTGAGAAGCGTGCAGCTGAGAGGCATCCAGAAAAGTATCAGGGTAGTTCTGTTTCAAACTTGCATGTGGAGCCATGTGGCACAAATACTCATGCCAGCTCATTACAGCATGAGAACAGCAGTTTATTACTCACTAAAGACAGAATGAATGTAGAAAAGGCTGAATTCTGTAATAAAAGCAAACAGCCTGGCTTAGCAAGGAGCCAACATAACAGATGGGCTGGAAGTAAGGAAACATGTAATGATAGGCGGACTCCCAGCACAGAAAAAAAGGTAGATCTGAATGCTGATCCCCTGTGTGAGAGAAAAGAATGGAATAAGCAGAAACTGCCATGCTCAGAGAATCCTAGAGATACTGAAGATGTTCCTTGGATAACACTAAATAGCAGCATTCAGAAAGTTAATGAGTGGTTTTCCAGAAGTGATGAACTGTTAGGTTCTGATGACTCACATGATGGGGAGTCTGAATCAAATGCCAAAGTAGCTGATGTATTGGACGTTCTAAATGAGGTAGATGAATATTCTGGTTCTTCAGAGAAAATAGACTTACTGGCCAGTGATCCTCATGAGGCTTTAATATGTAAAAGTGAAAGAGTTCACTCCAAATCAGTAGAGAGTAATATTGAAGACAAAATATTTGGGAAAACCTATCGGAAGAAGGCAAGCCTCCCCAACTTAAGCCATGTAACTGAAAATCTAATTATAGGAGCATTTGTTACTGAGCCACAGATAATACAAGAGCGTCCCCTCACAAATAAATTAAAGCGTAAAAGGAGACCTACATCAGGCCTTCATCCTGAGGATTTTATCAAGAAAGCAGATTTGGCAGTTCAAAAGACTCCTGAAATGATAAATCAGGGAACTAACCAAACGGAGCAGAATGGTCAAGTGATGAATATTACTAATAGTGGTCATGAGAATAAAACAAAAGGTGATTCTATTCAGAATGAGAAAAATCCTAACCCAATAGAATCACTCGAAAAAGAATCTGCTTTCAAAACGAAAGCTGAACCTATAAGCAGCAGTATAAGCAATATGGAACTCGAATTAAATATCCACAATTCAAAAGCACCTAAAAAGAATAGGCTGAGGAGGAAGTCTTCTACCAGGCATATTCATGCGCTTGAACTAGTAGTCAGTAGAAATCTAAGCCCACCTAATTGTACTGAATTGCAAATTGATAGTTGTTCTAGCAGTGAAGAGATAAAGAAAAAAAAGTACAACCAAATGCCAGTCAGGCACAGCAGAAACCTACAACTCATGGAAGGTAAAGAACCTGCAACTGGAGCCAAGAAGAGTAACAAGCCAAATGAACAG', 'intronr_len': 100}, 'metadata': {'variant': {'STR': \"17:41245766:CATATTGCTTATACTGCTGCTTATAGGTTCAGCTTTCGTTTTGAAAGCAGATTCTTTTTCGAGTGATTCTATTGGGTTAGGATTTTTCTCATTCTGAATAGAATCACCTTTTGTTTTATTCTCATGACCACTATTAGTAATATTCATCACTTGACCATTCTGCTCCGTTTGGTTAGTTCCCTGATTTATCATTTCAGGAGTCTTTTGAACTGCCAAATCTGCTTTCTTGATAAAATCCTCAGGATGAAGGCCTGATGTAGGTCTCCTTTTACGCTTTAATTTATTTGTGAGGGGACGCTCTTGTATTATCTGTGGCTCAGTAACAAATGCTCCTATAATTAGATTTTCAGTTACATGGCTTAAGTTGGGGAGGCTTGCCTTCTTCCGATAGGTTTTCCCAAATATTTTGTCTTCAATATTACTCTCTACTGATTTGGAGTGAACTCTTTCACTTTTACATATTAAAGCCTCATGAGGATCACTGGCCAGTAAGTCTATTTTCTCTGAAGAACCAGAATATTCATCTACCTCATTTAGAACGTCCAATACATCAGCTACTTTGGCATTTGATTCAGACTCCCCATCATGTGAGTCATCAGAACCTAACAGTTCATCACTTCTGGAAAACCACTCATTAACTTTCTGAATGCTGCTATTTAGTGTTATCCAAGGAACATCTTCAGTATCTCTAGGATTCTCTGAGCATGGCAGTTTCTGCTTATTCCATTCTTTTCTCTCACACAGGGGATCAGCATTCAGATCTACCTTTTTTTCTGTGCTGGGAGTCCGCCTATCATTACATGTTTCCTTACTTCCAGCCCATCTGTTATGTTGGCTCCTTGCTAAGCCAGGCTGTTTGCTTTTATTACAGAATTCAGCCTTTTCTACATTCATTCTGTCTTTAGTGAGTAATAAACTGCTGTTCTCATGCTGTAATGAGCTGGCATGAGTATTTGTGCCACATGGCTCCACATGCAAGTTTGAAACAGAACTACCCTGATACTTTTCTGGATGCCTCTCAGCTGCACGCTTCTCAGTGGTGTTCAAATCATTATTACTGGGTTGATGATGTTCAGTATTTGTTACATCCGTCTCAGAAAATTCACAAGCAGCTGAAAATATACAAAAATAACAAGGT:['C']\", 'REF': 'CATATTGCTTATACTGCTGCTTATAGGTTCAGCTTTCGTTTTGAAAGCAGATTCTTTTTCGAGTGATTCTATTGGGTTAGGATTTTTCTCATTCTGAATAGAATCACCTTTTGTTTTATTCTCATGACCACTATTAGTAATATTCATCACTTGACCATTCTGCTCCGTTTGGTTAGTTCCCTGATTTATCATTTCAGGAGTCTTTTGAACTGCCAAATCTGCTTTCTTGATAAAATCCTCAGGATGAAGGCCTGATGTAGGTCTCCTTTTACGCTTTAATTTATTTGTGAGGGGACGCTCTTGTATTATCTGTGGCTCAGTAACAAATGCTCCTATAATTAGATTTTCAGTTACATGGCTTAAGTTGGGGAGGCTTGCCTTCTTCCGATAGGTTTTCCCAAATATTTTGTCTTCAATATTACTCTCTACTGATTTGGAGTGAACTCTTTCACTTTTACATATTAAAGCCTCATGAGGATCACTGGCCAGTAAGTCTATTTTCTCTGAAGAACCAGAATATTCATCTACCTCATTTAGAACGTCCAATACATCAGCTACTTTGGCATTTGATTCAGACTCCCCATCATGTGAGTCATCAGAACCTAACAGTTCATCACTTCTGGAAAACCACTCATTAACTTTCTGAATGCTGCTATTTAGTGTTATCCAAGGAACATCTTCAGTATCTCTAGGATTCTCTGAGCATGGCAGTTTCTGCTTATTCCATTCTTTTCTCTCACACAGGGGATCAGCATTCAGATCTACCTTTTTTTCTGTGCTGGGAGTCCGCCTATCATTACATGTTTCCTTACTTCCAGCCCATCTGTTATGTTGGCTCCTTGCTAAGCCAGGCTGTTTGCTTTTATTACAGAATTCAGCCTTTTCTACATTCATTCTGTCTTTAGTGAGTAATAAACTGCTGTTCTCATGCTGTAATGAGCTGGCATGAGTATTTGTGCCACATGGCTCCACATGCAAGTTTGAAACAGAACTACCCTGATACTTTTCTGGATGCCTCTCAGCTGCACGCTTCTCAGTGGTGTTCAAATCATTATTACTGGGTTGATGATGTTCAGTATTTGTTACATCCGTCTCAGAAAATTCACAAGCAGCTGAAAATATACAAAAATAACAAGGT', 'POS': 41245766, 'ALT': 'C', 'CHROM': '17', 'ID': '267616'}, 'ExonInterval': {'name': 'ENSE00002796714', 'Exon_End': 41246877, 'start': 41245487, 'order': 2, 'isLast': False, 'intronl_len': 100, 'intronr_len': 100, 'isFirst': False, 'end': 41246977, 'seqid': '17', 'strand': '-', 'Exon_Start': 41245587, 'gene_id': 'ENSG00000012048'}, 'ranges': GenomicRanges(chr='17', start=41245487, end=41246977, id='ENST00000412061', strand='-'), 'annotation': '17_41245587_41246877:-'}, 'inputs_mut': {'intronl_len': 100, 'seq': 'GCAACCATTTCATTTCAACTAGAAGTTTCTAAAGGAGAGAGCAGCTTTCACTAACTAAATAAGATTGGTCAGCTTTCTGTAATCGAAAGAGCTAAAATGTTTGATCTTGGTCATTTGACAGTTCTGCATACATGTAACTAGTGTTTCTTATTAGGACTCTGTCTTTTCCCTATAGTGTGGGAGATCAAGAATTGTTACAAATCACCCCTCAAGGAACCAGGGATGAAATCAGTTTGGATTCTGCAAAAAAGGGTAATGGCAAAGTTTGCCAACTTAACAGGCACTGAAAAGAGAGTGGGTAGATACAGTACTGTAATTAGATTATTCTGAAGACCATTTGGGACCTTTACAACCCACAAAATCTCTTGGCAGAGTTAGAGTATCATTCTCTGTCAAATGTCGTGGTATGGTCTGATAGATTTAAATGGTACTAGACTAATGTACCTATAATAAGACCTTCTGTAACTGATTGTTGCCCTTTCGTTTTTTTTTTTGTTTGTTTGTTTGTTTTTTTTTGAGATGGGGTCTCACTCTGTTGCCCAGGCTGGAGTGCAGTGATGCAATCTTGGCTCACTGCAACCTCCACCTCCAAGGCTCAAGCTATCCTCCCACTTCAGCCTCCTGAGTAGCTGGGACTACAGGCGCATGCCACCACACCCGGTTAATTTTTTGTGGTTTTATAGAGATGGGGTTTCACCATGTTACCGAGGCTGGTCTCAAACTCCTGGACTCAAGCAGTCTGCCCACTTCAGCCTCCCAAAGTGCTGCAGTTACAGGCTTGAGCCACTGTGCCTGGCCTGCCCTTTACTTTTAATTGGTGTATTTGTGTTTCATCTTTTACCTACTGGTTTTTAAATATAGGGAGTGGTAAGTCTGTAGATAGAACAGAGTATTAAGTAGACTTAATGGCCAGTAATCTTTAGAGTACATCAGAACCAGTTTTCTGATGGCCAATCTGCTTTTAATTCACTCTTAGACGTTAGAGAAATAGGTGTGGTTTCTGCATAGGGAAAATTCTGAAATTAAAAATTTAATGGATCCTAAGTGGAAATAATCTAGGTAAATAGGAATTAAATGAAAGAGTATGAGCTACATCTTCAGTATACTTGGTAGTTTATGAGGTTAGTTTCTCTAATATAGCCAGTTGGTTGATTTCCACCTCCAAGGTGTATGAAGTATGTATTTTTTTAATGACAATTCAGTTTTTGAGTGGAACTCGAATTAAATATCCACAATTCAAAAGCACCTAAAAAGAATAGGCTGAGGAGGAAGTCTTCTACCAGGCATATTCATGCGCTTGAACTAGTAGTCAGTAGAAATCTAAGCCCACCTAATTGTACTGAATTGCAAATTGATAGTTGTTCTAGCAGTGAAGAGATAAAGAAAAAAAAGTACAACCAAATGCCAGTCAGGCACAGCAGAAACCTACAACTCATGGAAGGTAAAGAACCTGCAACTGGAGCCAAGAAGAGTAACAAGCCAAATGAACAG', 'intronr_len': 100}}, {'inputs': {'intronl_len': 100, 'seq': 'TAGCCAGTTGGTTGATTTCCACCTCCAAGGTGTATGAAGTATGTATTTTTTTAATGACAATTCAGTTTTTGAGTACCTTGTTATTTTTGTATATTTTCAGCTGCTTGTGAATTTTCTGAGACGGATGTAACAAATACTGAACATCATCAACCCAGTAATAATGATTTGAACACCACTGAGAAGCGTGCAGCTGAGAGGCATCCAGAAAAGTATCAGGGTAGTTCTGTTTCAAACTTGCATGTGGAGCCATGTGGCACAAATACTCATGCCAGCTCATTACAGCATGAGAACAGCAGTTTATTACTCACTAAAGACAGAATGAATGTAGAAAAGGCTGAATTCTGTAATAAAAGCAAACAGCCTGGCTTAGCAAGGAGCCAACATAACAGATGGGCTGGAAGTAAGGAAACATGTAATGATAGGCGGACTCCCAGCACAGAAAAAAAGGTAGATCTGAATGCTGATCCCCTGTGTGAGAGAAAAGAATGGAATAAGCAGAAACTGCCATGCTCAGAGAATCCTAGAGATACTGAAGATGTTCCTTGGATAACACTAAATAGCAGCATTCAGAAAGTTAATGAGTGGTTTTCCAGAAGTGATGAACTGTTAGGTTCTGATGACTCACATGATGGGGAGTCTGAATCAAATGCCAAAGTAGCTGATGTATTGGACGTTCTAAATGAGGTAGATGAATATTCTGGTTCTTCAGAGAAAATAGACTTACTGGCCAGTGATCCTCATGAGGCTTTAATATGTAAAAGTGAAAGAGTTCACTCCAAATCAGTAGAGAGTAATATTGAAGACAAAATATTTGGGAAAACCTATCGGAAGAAGGCAAGCCTCCCCAACTTAAGCCATGTAACTGAAAATCTAATTATAGGAGCATTTGTTACTGAGCCACAGATAATACAAGAGCGTCCCCTCACAAATAAATTAAAGCGTAAAAGGAGACCTACATCAGGCCTTCATCCTGAGGATTTTATCAAGAAAGCAGATTTGGCAGTTCAAAAGACTCCTGAAATGATAAATCAGGGAACTAACCAAACGGAGCAGAATGGTCAAGTGATGAATATTACTAATAGTGGTCATGAGAATAAAACAAAAGGTGATTCTATTCAGAATGAGAAAAATCCTAACCCAATAGAATCACTCGAAAAAGAATCTGCTTTCAAAACGAAAGCTGAACCTATAAGCAGCAGTATAAGCAATATGGAACTCGAATTAAATATCCACAATTCAAAAGCACCTAAAAAGAATAGGCTGAGGAGGAAGTCTTCTACCAGGCATATTCATGCGCTTGAACTAGTAGTCAGTAGAAATCTAAGCCCACCTAATTGTACTGAATTGCAAATTGATAGTTGTTCTAGCAGTGAAGAGATAAAGAAAAAAAAGTACAACCAAATGCCAGTCAGGCACAGCAGAAACCTACAACTCATGGAAGGTAAAGAACCTGCAACTGGAGCCAAGAAGAGTAA', 'intronr_len': 100}, 'metadata': {'variant': {'STR': \"17:41245766:CATATTGCTTATACTGCTGCTTATAGGTTCAGCTTTCGTTTTGAAAGCAGATTCTTTTTCGAGTGATTCTATTGGGTTAGGATTTTTCTCATTCTGAATAGAATCACCTTTTGTTTTATTCTCATGACCACTATTAGTAATATTCATCACTTGACCATTCTGCTCCGTTTGGTTAGTTCCCTGATTTATCATTTCAGGAGTCTTTTGAACTGCCAAATCTGCTTTCTTGATAAAATCCTCAGGATGAAGGCCTGATGTAGGTCTCCTTTTACGCTTTAATTTATTTGTGAGGGGACGCTCTTGTATTATCTGTGGCTCAGTAACAAATGCTCCTATAATTAGATTTTCAGTTACATGGCTTAAGTTGGGGAGGCTTGCCTTCTTCCGATAGGTTTTCCCAAATATTTTGTCTTCAATATTACTCTCTACTGATTTGGAGTGAACTCTTTCACTTTTACATATTAAAGCCTCATGAGGATCACTGGCCAGTAAGTCTATTTTCTCTGAAGAACCAGAATATTCATCTACCTCATTTAGAACGTCCAATACATCAGCTACTTTGGCATTTGATTCAGACTCCCCATCATGTGAGTCATCAGAACCTAACAGTTCATCACTTCTGGAAAACCACTCATTAACTTTCTGAATGCTGCTATTTAGTGTTATCCAAGGAACATCTTCAGTATCTCTAGGATTCTCTGAGCATGGCAGTTTCTGCTTATTCCATTCTTTTCTCTCACACAGGGGATCAGCATTCAGATCTACCTTTTTTTCTGTGCTGGGAGTCCGCCTATCATTACATGTTTCCTTACTTCCAGCCCATCTGTTATGTTGGCTCCTTGCTAAGCCAGGCTGTTTGCTTTTATTACAGAATTCAGCCTTTTCTACATTCATTCTGTCTTTAGTGAGTAATAAACTGCTGTTCTCATGCTGTAATGAGCTGGCATGAGTATTTGTGCCACATGGCTCCACATGCAAGTTTGAAACAGAACTACCCTGATACTTTTCTGGATGCCTCTCAGCTGCACGCTTCTCAGTGGTGTTCAAATCATTATTACTGGGTTGATGATGTTCAGTATTTGTTACATCCGTCTCAGAAAATTCACAAGCAGCTGAAAATATACAAAAATAACAAGGT:['C']\", 'REF': 'CATATTGCTTATACTGCTGCTTATAGGTTCAGCTTTCGTTTTGAAAGCAGATTCTTTTTCGAGTGATTCTATTGGGTTAGGATTTTTCTCATTCTGAATAGAATCACCTTTTGTTTTATTCTCATGACCACTATTAGTAATATTCATCACTTGACCATTCTGCTCCGTTTGGTTAGTTCCCTGATTTATCATTTCAGGAGTCTTTTGAACTGCCAAATCTGCTTTCTTGATAAAATCCTCAGGATGAAGGCCTGATGTAGGTCTCCTTTTACGCTTTAATTTATTTGTGAGGGGACGCTCTTGTATTATCTGTGGCTCAGTAACAAATGCTCCTATAATTAGATTTTCAGTTACATGGCTTAAGTTGGGGAGGCTTGCCTTCTTCCGATAGGTTTTCCCAAATATTTTGTCTTCAATATTACTCTCTACTGATTTGGAGTGAACTCTTTCACTTTTACATATTAAAGCCTCATGAGGATCACTGGCCAGTAAGTCTATTTTCTCTGAAGAACCAGAATATTCATCTACCTCATTTAGAACGTCCAATACATCAGCTACTTTGGCATTTGATTCAGACTCCCCATCATGTGAGTCATCAGAACCTAACAGTTCATCACTTCTGGAAAACCACTCATTAACTTTCTGAATGCTGCTATTTAGTGTTATCCAAGGAACATCTTCAGTATCTCTAGGATTCTCTGAGCATGGCAGTTTCTGCTTATTCCATTCTTTTCTCTCACACAGGGGATCAGCATTCAGATCTACCTTTTTTTCTGTGCTGGGAGTCCGCCTATCATTACATGTTTCCTTACTTCCAGCCCATCTGTTATGTTGGCTCCTTGCTAAGCCAGGCTGTTTGCTTTTATTACAGAATTCAGCCTTTTCTACATTCATTCTGTCTTTAGTGAGTAATAAACTGCTGTTCTCATGCTGTAATGAGCTGGCATGAGTATTTGTGCCACATGGCTCCACATGCAAGTTTGAAACAGAACTACCCTGATACTTTTCTGGATGCCTCTCAGCTGCACGCTTCTCAGTGGTGTTCAAATCATTATTACTGGGTTGATGATGTTCAGTATTTGTTACATCCGTCTCAGAAAATTCACAAGCAGCTGAAAATATACAAAAATAACAAGGT', 'POS': 41245766, 'ALT': 'C', 'CHROM': '17', 'ID': '267616'}, 'ExonInterval': {'name': 'ENSE00001946212', 'Exon_End': 41246877, 'start': 41245503, 'order': 9, 'isLast': False, 'intronl_len': 100, 'intronr_len': 100, 'isFirst': False, 'end': 41246977, 'seqid': '17', 'strand': '-', 'Exon_Start': 41245603, 'gene_id': 'ENSG00000012048'}, 'ranges': GenomicRanges(chr='17', start=41245503, end=41246977, id='ENST00000477152', strand='-'), 'annotation': '17_41245603_41246877:-'}, 'inputs_mut': {'intronl_len': 100, 'seq': 'GCAACCATTTCATTTCAACTAGAAGTTTCTAAAGGAGAGAGCAGCTTTCACTAACTAAATAAGATTGGTCAGCTTTCTGTAATCGAAAGAGCTAAAATGTTTGATCTTGGTCATTTGACAGTTCTGCATACATGTAACTAGTGTTTCTTATTAGGACTCTGTCTTTTCCCTATAGTGTGGGAGATCAAGAATTGTTACAAATCACCCCTCAAGGAACCAGGGATGAAATCAGTTTGGATTCTGCAAAAAAGGGTAATGGCAAAGTTTGCCAACTTAACAGGCACTGAAAAGAGAGTGGGTAGATACAGTACTGTAATTAGATTATTCTGAAGACCATTTGGGACCTTTACAACCCACAAAATCTCTTGGCAGAGTTAGAGTATCATTCTCTGTCAAATGTCGTGGTATGGTCTGATAGATTTAAATGGTACTAGACTAATGTACCTATAATAAGACCTTCTGTAACTGATTGTTGCCCTTTCGTTTTTTTTTTTGTTTGTTTGTTTGTTTTTTTTTGAGATGGGGTCTCACTCTGTTGCCCAGGCTGGAGTGCAGTGATGCAATCTTGGCTCACTGCAACCTCCACCTCCAAGGCTCAAGCTATCCTCCCACTTCAGCCTCCTGAGTAGCTGGGACTACAGGCGCATGCCACCACACCCGGTTAATTTTTTGTGGTTTTATAGAGATGGGGTTTCACCATGTTACCGAGGCTGGTCTCAAACTCCTGGACTCAAGCAGTCTGCCCACTTCAGCCTCCCAAAGTGCTGCAGTTACAGGCTTGAGCCACTGTGCCTGGCCTGCCCTTTACTTTTAATTGGTGTATTTGTGTTTCATCTTTTACCTACTGGTTTTTAAATATAGGGAGTGGTAAGTCTGTAGATAGAACAGAGTATTAAGTAGACTTAATGGCCAGTAATCTTTAGAGTACATCAGAACCAGTTTTCTGATGGCCAATCTGCTTTTAATTCACTCTTAGACGTTAGAGAAATAGGTGTGGTTTCTGCATAGGGAAAATTCTGAAATTAAAAATTTAATGGATCCTAAGTGGAAATAATCTAGGTAAATAGGAATTAAATGAAAGAGTATGAGCTACATCTTCAGTATACTTGGTAGTTTATGAGGTTAGTTTCTCTAATATAGCCAGTTGGTTGATTTCCACCTCCAAGGTGTATGAAGTATGTATTTTTTTAATGACAATTCAGTTTTTGAGTGGAACTCGAATTAAATATCCACAATTCAAAAGCACCTAAAAAGAATAGGCTGAGGAGGAAGTCTTCTACCAGGCATATTCATGCGCTTGAACTAGTAGTCAGTAGAAATCTAAGCCCACCTAATTGTACTGAATTGCAAATTGATAGTTGTTCTAGCAGTGAAGAGATAAAGAAAAAAAAGTACAACCAAATGCCAGTCAGGCACAGCAGAAACCTACAACTCATGGAAGGTAAAGAACCTGCAACTGGAGCCAAGAAGAGTAA', 'intronr_len': 100}}, {'inputs': {'intronl_len': 100, 'seq': 'TAGCCAGTTGGTTGATTTCCACCTCCAAGGTGTATGAAGTATGTATTTTTTTAATGACAATTCAGTTTTTGAGTACCTTGTTATTTTTGTATATTTTCAGCTGCTTGTGAATTTTCTGAGACGGATGTAACAAATACTGAACATCATCAACCCAGTAATAATGATTTGAACACCACTGAGAAGCGTGCAGCTGAGAGGCATCCAGAAAAGTATCAGGGTAGTTCTGTTTCAAACTTGCATGTGGAGCCATGTGGCACAAATACTCATGCCAGCTCATTACAGCATGAGAACAGCAGTTTATTACTCACTAAAGACAGAATGAATGTAGAAAAGGCTGAATTCTGTAATAAAAGCAAACAGCCTGGCTTAGCAAGGAGCCAACATAACAGATGGGCTGGAAGTAAGGAAACATGTAATGATAGGCGGACTCCCAGCACAGAAAAAAAGGTAGATCTGAATGCTGATCCCCTGTGTGAGAGAAAAGAATGGAATAAGCAGAAACTGCCATGCTCAGAGAATCCTAGAGATACTGAAGATGTTCCTTGGATAACACTAAATAGCAGCATTCAGAAAGTTAATGAGTGGTTTTCCAGAAGTGATGAACTGTTAGGTTCTGATGACTCACATGATGGGGAGTCTGAATCAAATGCCAAAGTAGCTGATGTATTGGACGTTCTAAATGAGGTAGATGAATATTCTGGTTCTTCAGAGAAAATAGACTTACTGGCCAGTGATCCTCATGAGGCTTTAATATGTAAAAGTGAAAGAGTTCACTCCAAATCAGTAGAGAGTAATATTGAAGACAAAATATTTGGGAAAACCTATCGGAAGAAGGCAAGCCTCCCCAACTTAAGCCATGTAACTGAAAATCTAATTATAGGAGCATTTGTTACTGAGCCACAGATAATACAAGAGCGTCCCCTCACAAATAAATTAAAGCGTAAAAGGAGACCTACATCAGGCCTTCATCCTGAGGATTTTATCAAGAAAGCAGATTTGGCAGTTCAAAAGACTCCTGAAATGATAAATCAGGGAACTAACCAAACGGAGCAGAATGGTCAAGTGATGAATATTACTAATAGTGGTCATGAGAATAAAACAAAAGGTGATTCTATTCAGAATGAGAAAAATCCTAACCCAATAGAATCACTCGAAAAAGAATCTGCTTTCAAAACGAAAGCTGAACCTATAAGCAGCAGTATAAGCAATATGGAACTCGAATTAAATATCCACAATTCAAAAGCACCTAAAAAGAATAGGCTGAGGAGGAAGTCTTCTACCAGGCATATTCATGCGCTTGAACTAGTAGTCAGTAGAAATCTAAGCCCACCTAATTGTACTGAATTGCAAATTGATAGTTGTTCTAGCAGTGAAGAGATAAAGAAAAAAAAGTACAACCAAATGCCAGTCAGGCACAGCAGAAACCTACAACTCATGGAAGGTAAAGAACCTGCAACTGGAGCCAAGAAGAGTAACA', 'intronr_len': 100}, 'metadata': {'variant': {'STR': \"17:41245766:CATATTGCTTATACTGCTGCTTATAGGTTCAGCTTTCGTTTTGAAAGCAGATTCTTTTTCGAGTGATTCTATTGGGTTAGGATTTTTCTCATTCTGAATAGAATCACCTTTTGTTTTATTCTCATGACCACTATTAGTAATATTCATCACTTGACCATTCTGCTCCGTTTGGTTAGTTCCCTGATTTATCATTTCAGGAGTCTTTTGAACTGCCAAATCTGCTTTCTTGATAAAATCCTCAGGATGAAGGCCTGATGTAGGTCTCCTTTTACGCTTTAATTTATTTGTGAGGGGACGCTCTTGTATTATCTGTGGCTCAGTAACAAATGCTCCTATAATTAGATTTTCAGTTACATGGCTTAAGTTGGGGAGGCTTGCCTTCTTCCGATAGGTTTTCCCAAATATTTTGTCTTCAATATTACTCTCTACTGATTTGGAGTGAACTCTTTCACTTTTACATATTAAAGCCTCATGAGGATCACTGGCCAGTAAGTCTATTTTCTCTGAAGAACCAGAATATTCATCTACCTCATTTAGAACGTCCAATACATCAGCTACTTTGGCATTTGATTCAGACTCCCCATCATGTGAGTCATCAGAACCTAACAGTTCATCACTTCTGGAAAACCACTCATTAACTTTCTGAATGCTGCTATTTAGTGTTATCCAAGGAACATCTTCAGTATCTCTAGGATTCTCTGAGCATGGCAGTTTCTGCTTATTCCATTCTTTTCTCTCACACAGGGGATCAGCATTCAGATCTACCTTTTTTTCTGTGCTGGGAGTCCGCCTATCATTACATGTTTCCTTACTTCCAGCCCATCTGTTATGTTGGCTCCTTGCTAAGCCAGGCTGTTTGCTTTTATTACAGAATTCAGCCTTTTCTACATTCATTCTGTCTTTAGTGAGTAATAAACTGCTGTTCTCATGCTGTAATGAGCTGGCATGAGTATTTGTGCCACATGGCTCCACATGCAAGTTTGAAACAGAACTACCCTGATACTTTTCTGGATGCCTCTCAGCTGCACGCTTCTCAGTGGTGTTCAAATCATTATTACTGGGTTGATGATGTTCAGTATTTGTTACATCCGTCTCAGAAAATTCACAAGCAGCTGAAAATATACAAAAATAACAAGGT:['C']\", 'REF': 'CATATTGCTTATACTGCTGCTTATAGGTTCAGCTTTCGTTTTGAAAGCAGATTCTTTTTCGAGTGATTCTATTGGGTTAGGATTTTTCTCATTCTGAATAGAATCACCTTTTGTTTTATTCTCATGACCACTATTAGTAATATTCATCACTTGACCATTCTGCTCCGTTTGGTTAGTTCCCTGATTTATCATTTCAGGAGTCTTTTGAACTGCCAAATCTGCTTTCTTGATAAAATCCTCAGGATGAAGGCCTGATGTAGGTCTCCTTTTACGCTTTAATTTATTTGTGAGGGGACGCTCTTGTATTATCTGTGGCTCAGTAACAAATGCTCCTATAATTAGATTTTCAGTTACATGGCTTAAGTTGGGGAGGCTTGCCTTCTTCCGATAGGTTTTCCCAAATATTTTGTCTTCAATATTACTCTCTACTGATTTGGAGTGAACTCTTTCACTTTTACATATTAAAGCCTCATGAGGATCACTGGCCAGTAAGTCTATTTTCTCTGAAGAACCAGAATATTCATCTACCTCATTTAGAACGTCCAATACATCAGCTACTTTGGCATTTGATTCAGACTCCCCATCATGTGAGTCATCAGAACCTAACAGTTCATCACTTCTGGAAAACCACTCATTAACTTTCTGAATGCTGCTATTTAGTGTTATCCAAGGAACATCTTCAGTATCTCTAGGATTCTCTGAGCATGGCAGTTTCTGCTTATTCCATTCTTTTCTCTCACACAGGGGATCAGCATTCAGATCTACCTTTTTTTCTGTGCTGGGAGTCCGCCTATCATTACATGTTTCCTTACTTCCAGCCCATCTGTTATGTTGGCTCCTTGCTAAGCCAGGCTGTTTGCTTTTATTACAGAATTCAGCCTTTTCTACATTCATTCTGTCTTTAGTGAGTAATAAACTGCTGTTCTCATGCTGTAATGAGCTGGCATGAGTATTTGTGCCACATGGCTCCACATGCAAGTTTGAAACAGAACTACCCTGATACTTTTCTGGATGCCTCTCAGCTGCACGCTTCTCAGTGGTGTTCAAATCATTATTACTGGGTTGATGATGTTCAGTATTTGTTACATCCGTCTCAGAAAATTCACAAGCAGCTGAAAATATACAAAAATAACAAGGT', 'POS': 41245766, 'ALT': 'C', 'CHROM': '17', 'ID': '267616'}, 'ExonInterval': {'name': 'ENSE00001946902', 'Exon_End': 41246877, 'start': 41245501, 'order': 10, 'isLast': False, 'intronl_len': 100, 'intronr_len': 100, 'isFirst': False, 'end': 41246977, 'seqid': '17', 'strand': '-', 'Exon_Start': 41245601, 'gene_id': 'ENSG00000012048'}, 'ranges': GenomicRanges(chr='17', start=41245501, end=41246977, id='ENST00000470026', strand='-'), 'annotation': '17_41245601_41246877:-'}, 'inputs_mut': {'intronl_len': 100, 'seq': 'GCAACCATTTCATTTCAACTAGAAGTTTCTAAAGGAGAGAGCAGCTTTCACTAACTAAATAAGATTGGTCAGCTTTCTGTAATCGAAAGAGCTAAAATGTTTGATCTTGGTCATTTGACAGTTCTGCATACATGTAACTAGTGTTTCTTATTAGGACTCTGTCTTTTCCCTATAGTGTGGGAGATCAAGAATTGTTACAAATCACCCCTCAAGGAACCAGGGATGAAATCAGTTTGGATTCTGCAAAAAAGGGTAATGGCAAAGTTTGCCAACTTAACAGGCACTGAAAAGAGAGTGGGTAGATACAGTACTGTAATTAGATTATTCTGAAGACCATTTGGGACCTTTACAACCCACAAAATCTCTTGGCAGAGTTAGAGTATCATTCTCTGTCAAATGTCGTGGTATGGTCTGATAGATTTAAATGGTACTAGACTAATGTACCTATAATAAGACCTTCTGTAACTGATTGTTGCCCTTTCGTTTTTTTTTTTGTTTGTTTGTTTGTTTTTTTTTGAGATGGGGTCTCACTCTGTTGCCCAGGCTGGAGTGCAGTGATGCAATCTTGGCTCACTGCAACCTCCACCTCCAAGGCTCAAGCTATCCTCCCACTTCAGCCTCCTGAGTAGCTGGGACTACAGGCGCATGCCACCACACCCGGTTAATTTTTTGTGGTTTTATAGAGATGGGGTTTCACCATGTTACCGAGGCTGGTCTCAAACTCCTGGACTCAAGCAGTCTGCCCACTTCAGCCTCCCAAAGTGCTGCAGTTACAGGCTTGAGCCACTGTGCCTGGCCTGCCCTTTACTTTTAATTGGTGTATTTGTGTTTCATCTTTTACCTACTGGTTTTTAAATATAGGGAGTGGTAAGTCTGTAGATAGAACAGAGTATTAAGTAGACTTAATGGCCAGTAATCTTTAGAGTACATCAGAACCAGTTTTCTGATGGCCAATCTGCTTTTAATTCACTCTTAGACGTTAGAGAAATAGGTGTGGTTTCTGCATAGGGAAAATTCTGAAATTAAAAATTTAATGGATCCTAAGTGGAAATAATCTAGGTAAATAGGAATTAAATGAAAGAGTATGAGCTACATCTTCAGTATACTTGGTAGTTTATGAGGTTAGTTTCTCTAATATAGCCAGTTGGTTGATTTCCACCTCCAAGGTGTATGAAGTATGTATTTTTTTAATGACAATTCAGTTTTTGAGTGGAACTCGAATTAAATATCCACAATTCAAAAGCACCTAAAAAGAATAGGCTGAGGAGGAAGTCTTCTACCAGGCATATTCATGCGCTTGAACTAGTAGTCAGTAGAAATCTAAGCCCACCTAATTGTACTGAATTGCAAATTGATAGTTGTTCTAGCAGTGAAGAGATAAAGAAAAAAAAGTACAACCAAATGCCAGTCAGGCACAGCAGAAACCTACAACTCATGGAAGGTAAAGAACCTGCAACTGGAGCCAAGAAGAGTAACA', 'intronr_len': 100}}]\n",
      "\n",
      "[{'inputs': {'intronl_len': 100, 'seq': 'CAAATCTTAAATTTACTTTATTTTAAAATGATAAAATGAAGTTGTCATTTTATAAACCTTTTAAAAAGATATATATATATGTTTTTCTAATGTGTTAAAGTTCATTGGAACAGAAAGAAATGGATTTATCTGCTCTTCGCGTTGAAGAAGTACAAAATGTCATTAATGCTATGCAGAAAATCTTAGAGTGTCCCATCTGGTAAGTCAGCACAAGAGTGTATTAATTTGGGATTCCTATGATTATCTCCTATGCAAATGAACAGAATTGACCTTACATACTAGGGAAGAAAAGACATGTC', 'intronr_len': 100}, 'metadata': {'variant': {'STR': \"17:41276033:CCAGATGGGACA:['C']\", 'REF': 'CCAGATGGGACA', 'POS': 41276033, 'ALT': 'C', 'CHROM': '17', 'ID': '55676'}, 'ExonInterval': {'name': 'ENSE00003559512', 'Exon_End': 41276132, 'start': 41275934, 'order': 2, 'isLast': False, 'intronl_len': 100, 'intronr_len': 100, 'isFirst': False, 'end': 41276232, 'seqid': '17', 'strand': '-', 'Exon_Start': 41276034, 'gene_id': 'ENSG00000012048'}, 'ranges': GenomicRanges(chr='17', start=41275934, end=41276232, id='ENST00000357654', strand='-'), 'annotation': '17_41276034_41276132:-'}, 'inputs_mut': {'intronl_len': 100, 'seq': 'CAAATCTTAAATTTACTTTATTTTAAAATGATAAAATGAAGTTGTCATTTTATAAACCTTTTAAAAAGATATATATATATGTTTTTCTAATGTGTTAAAGTTCATTGGAACAGAAAGAAATGGATTTATCTGCTCTTCGCGTTGAAGAAGTACAAAATGTCATTAATGCTATGCAGAAAATCTTAGAGGTAAGTCAGCACAAGAGTGTATTAATTTGGGATTCCTATGATTATCTCCTATGCAAATGAACAGAATTGACCTTACATACTAGGGAAGAAAAGACATGTCTAGTAAGATTA', 'intronr_len': 100}}]\n",
      "\n",
      "[{'inputs': {'intronl_len': 100, 'seq': 'GCAGTTGTGAGATTATCTTTTCATGGCTATTTGCCTTTTGAGTATTCTTTCTACAAAAGGAAGTAAATTAAATTGTTCTTTCTTTCTTTATAATTTATAGATTTTGCATGCTGAAACTTCTCAACCAGAAGAAAGGGCCTTCACAGTGTCCTTTATGTAAGAATGATATAACCAAAAGGTATATAATTTGGTAATGATGCTAGGTTGGAAGCAACCACAGTAGGAAAAAGTAGAAATTATTTAATAACATAGCGTT', 'intronr_len': 100}, 'metadata': {'variant': {'STR': \"17:41258494:CATAAAG:['C']\", 'REF': 'CATAAAG', 'POS': 41258494, 'ALT': 'C', 'CHROM': '17', 'ID': '462570'}, 'ExonInterval': {'name': 'ENSE00001945886', 'Exon_End': 41258550, 'start': 41258395, 'order': 4, 'isLast': False, 'intronl_len': 100, 'intronr_len': 100, 'isFirst': False, 'end': 41258650, 'seqid': '17', 'strand': '-', 'Exon_Start': 41258495, 'gene_id': 'ENSG00000012048'}, 'ranges': GenomicRanges(chr='17', start=41258395, end=41258650, id='ENST00000461221', strand='-'), 'annotation': '17_41258495_41258550:-'}, 'inputs_mut': {'intronl_len': 100, 'seq': 'GCAGTTGTGAGATTATCTTTTCATGGCTATTTGCCTTTTGAGTATTCTTTCTACAAAAGGAAGTAAATTAAATTGTTCTTTCTTTCTTTATAATTTATAGATTTTGCATGCTGAAACTTCTCAACCAGAAGAAAGGGCCTTCACAGTGTCGTAAGAATGATATAACCAAAAGGTATATAATTTGGTAATGATGCTAGGTTGGAAGCAACCACAGTAGGAAAAAGTAGAAATTATTTAATAACATAGCGTTCCTATA', 'intronr_len': 100}}, {'inputs': {'intronl_len': 100, 'seq': 'GCAGTTGTGAGATTATCTTTTCATGGCTATTTGCCTTTTGAGTATTCTTTCTACAAAAGGAAGTAAATTAAATTGTTCTTTCTTTCTTTATAATTTATAGATTTTGCATGCTGAAACTTCTCAACCAGAAGAAAGGGCCTTCACAGTGTCCTTTATGTAAGAATGATATAACCAAAAGGTATATAATTTGGTAATGATGCTAGGTTGGAAGCAACCACAGTAGGAAAAAGTAGAAATTATTTAATAACATAGCGTTCCTATAAAACCATTCATCAGAA', 'intronr_len': 100}, 'metadata': {'variant': {'STR': \"17:41258494:CATAAAG:['C']\", 'REF': 'CATAAAG', 'POS': 41258494, 'ALT': 'C', 'CHROM': '17', 'ID': '462570'}, 'ExonInterval': {'name': 'ENSE00003541068', 'Exon_End': 41258550, 'start': 41258373, 'order': 4, 'isLast': False, 'intronl_len': 100, 'intronr_len': 100, 'isFirst': False, 'end': 41258650, 'seqid': '17', 'strand': '-', 'Exon_Start': 41258473, 'gene_id': 'ENSG00000012048'}, 'ranges': GenomicRanges(chr='17', start=41258373, end=41258650, id='ENST00000357654', strand='-'), 'annotation': '17_41258473_41258550:-'}, 'inputs_mut': {'intronl_len': 100, 'seq': 'GCAGTTGTGAGATTATCTTTTCATGGCTATTTGCCTTTTGAGTATTCTTTCTACAAAAGGAAGTAAATTAAATTGTTCTTTCTTTCTTTATAATTTATAGATTTTGCATGCTGAAACTTCTCAACCAGAAGAAAGGGCCTTCACAGTGTCGTAAGAATGATATAACCAAAAGGTATATAATTTGGTAATGATGCTAGGTTGGAAGCAACCACAGTAGGAAAAAGTAGAAATTATTTAATAACATAGCGTTCCTATAAAACCATTCATCAGAA', 'intronr_len': 100}}]\n",
      "\n",
      "[{'inputs': {'intronl_len': 100, 'seq': 'GCCTGGCCTGAATGCCTTAAATATGACGTGTCTGCTCCACTTCCATTGAAGGAAGCTTCTCTTTCTCTTATCCTGATGGGTTGTGTTTGGTTTCTTTCAGCATGATTTTGAAGTCAGAGGAGATGTGGTCAATGGAAGAAACCACCAAGGTCCAAAGCGAGCAAGAGAATCCCAGGACAGAAAGGTAAAGCTCCCTCCCTCAAGTTGACAAAAATCTCACCCCACCACTCTGTATTCCACTCCCCTTTGCAGAGATGGGCCGCTTCATTTTGTAAGACTTATTA', 'intronr_len': 100}, 'metadata': {'variant': {'STR': \"17:41209149:CATGC:['AATA']\", 'REF': 'CATGC', 'POS': 41209149, 'ALT': 'AATA', 'CHROM': '17', 'ID': '462665'}, 'ExonInterval': {'name': 'ENSE00003458468', 'Exon_End': 41209152, 'start': 41208969, 'order': 19, 'isLast': False, 'intronl_len': 100, 'intronr_len': 100, 'isFirst': False, 'end': 41209252, 'seqid': '17', 'strand': '-', 'Exon_Start': 41209069, 'gene_id': 'ENSG00000012048'}, 'ranges': GenomicRanges(chr='17', start=41208969, end=41209252, id='ENST00000357654', strand='-'), 'annotation': '17_41209069_41209152:-'}, 'inputs_mut': {'intronl_len': 100, 'seq': 'CGCCTGGCCTGAATGCCTTAAATATGACGTGTCTGCTCCACTTCCATTGAAGGAAGCTTCTCTTTCTCTTATCCTGATGGGTTGTGTTTGGTTTCTTTCATATTATTTTGAAGTCAGAGGAGATGTGGTCAATGGAAGAAACCACCAAGGTCCAAAGCGAGCAAGAGAATCCCAGGACAGAAAGGTAAAGCTCCCTCCCTCAAGTTGACAAAAATCTCACCCCACCACTCTGTATTCCACTCCCCTTTGCAGAGATGGGCCGCTTCATTTTGTAAGACTTATTA', 'intronr_len': 100}}]\n",
      "\n",
      "[{'inputs': {'intronl_len': 100, 'seq': 'GAAAGTAAATCCAGTCCTGCCAATGAGAAGAAAAAGACACAGCAAGTTGCAGCGTTTATAGTCTGCTTTTACATCTGAACCTCTGTTTTTGTTATTTAAGGTGAAGCAGCATCTGGGTGTGAGAGTGAAACAAGCGTCTCTGAAGACTGCTCAGGGCTATCCTCTCAGAGTGACATTTTAACCACTCAGGTAAAAAGCGTGTGTGTGTGTGCACATGCGTGTGTGTGGTGTCCTTTGCATTCAGTAGTATGTATCCCACATTCTTAGGTTTGCTGACATCATCTCTTTG', 'intronr_len': 100}, 'metadata': {'variant': {'STR': \"17:41242960:CCTG:['C']\", 'REF': 'CCTG', 'POS': 41242960, 'ALT': 'C', 'CHROM': '17', 'ID': '55126'}, 'ExonInterval': {'name': 'ENSE00003547126', 'Exon_End': 41243049, 'start': 41242861, 'order': 11, 'isLast': False, 'intronl_len': 100, 'intronr_len': 100, 'isFirst': False, 'end': 41243149, 'seqid': '17', 'strand': '-', 'Exon_Start': 41242961, 'gene_id': 'ENSG00000012048'}, 'ranges': GenomicRanges(chr='17', start=41242861, end=41243149, id='ENST00000357654', strand='-'), 'annotation': '17_41242961_41243049:-'}, 'inputs_mut': {'intronl_len': 100, 'seq': 'GAAAGTAAATCCAGTCCTGCCAATGAGAAGAAAAAGACACAGCAAGTTGCAGCGTTTATAGTCTGCTTTTACATCTGAACCTCTGTTTTTGTTATTTAAGGTGAAGCAGCATCTGGGTGTGAGAGTGAAACAAGCGTCTCTGAAGACTGCTCAGGGCTATCCTCTCAGAGTGACATTTTAACCACTGTAAAAAGCGTGTGTGTGTGTGCACATGCGTGTGTGTGGTGTCCTTTGCATTCAGTAGTATGTATCCCACATTCTTAGGTTTGCTGACATCATCTCTTTGAAT', 'intronr_len': 100}}]\n",
      "\n",
      "[{'inputs': {'intronl_len': 100, 'seq': 'TTTTGAAAGTCTGTTTTTTGAATAAAAGCCAATATTCTTTTATAACTAGATTTTCCTTCTCTCCATTCCCCTGTCCCTCTCTCTTCCTCTCTTCTTCCAGATCTTCAGGGGGCTAGAAATCTGTTGCTATGGGCCCTTCACCAACATGCCCACAGGTAAGAGCCTGGGAGAACCCCAGAGTTCCAGCACCAGCCTTTGTCTTACATAGTGGAGTATTATAAGCAAGATCCCACGATGGGGGTTCCTCAGATTGCT', 'intronr_len': 100}, 'metadata': {'variant': {'STR': \"17:41203079:CCTGTGGGCATGTTGGTGAAGGGCCCATAGCAACAGATTTCTAGCCCCCTGAAGA:['C']\", 'REF': 'CCTGTGGGCATGTTGGTGAAGGGCCCATAGCAACAGATTTCTAGCCCCCTGAAGA', 'POS': 41203079, 'ALT': 'C', 'CHROM': '17', 'ID': '431276'}, 'ExonInterval': {'name': 'ENSE00003477922', 'Exon_End': 41203134, 'start': 41202980, 'order': 20, 'isLast': False, 'intronl_len': 100, 'intronr_len': 100, 'isFirst': False, 'end': 41203234, 'seqid': '17', 'strand': '-', 'Exon_Start': 41203080, 'gene_id': 'ENSG00000012048'}, 'ranges': GenomicRanges(chr='17', start=41202980, end=41203234, id='ENST00000357654', strand='-'), 'annotation': '17_41203080_41203134:-'}, 'inputs_mut': {'intronl_len': 100, 'seq': 'TTTGAAAGTCTGTTTTTTGAATAAAAGCCAATATTCTTTTATAACTAGATTTTCCTTCTCTCCATTCCCCTGTCCCTCTCTCTTCCTCTCTTCTTCCAGAGTAAGAGCCTGGGAGAACCCCAGAGTTCCAGCACCAGCCTTTGTCTTACATAGTGGAGTATTATAAGCAAGATCCCACGATGGGGGTTCCTCAGATTGCT', 'intronr_len': 100}}]\n",
      "\n",
      "[{'inputs': {'intronl_len': 100, 'seq': 'GTCAATTTATTTTGTCCATGGTGTCAAGTTTCTCTTCAGGAGGAAAAGCACAGAACTGGCCAACAATTGCTTGACTGTTCTTTACCATACTGTTTAGCAGGAAACCAGTCTCAGTGTCCAACTCTCTAACCTTGGAACTGTGAGAACTCTGAGGACAAAGCAGCGGATACAACCTCAAAAGACGTCTGTCTACATTGAATTGGGTAAGGGTCTCAGGTTTTTTAAGTATTTAATAATAATTGCTGGATTCCTTATCTTATAGTTTTGCCAAAAATCTTGGTCATAATTTGTATTTGTGGTAGG', 'intronr_len': 100}, 'metadata': {'variant': {'STR': \"17:41251791:C:['CCCAATTCAATGTAGACAGACGTCTTTTGAGGTTGTATCCGCTGCTTTGTCCTCAGAGTTCTCACAGTTCCAAGGTTAGAGAGTTGGACACTGAGACTGGTTTCCTGCTAAACAGTATGGTAAAGAACAGTCAAGCAATTGTTGGCCAGTTCTGTGCTTTTCCTCCTGAAGAGAAACTTGACACCATGGACAAAATAAATTGACCATCATCAGTCAGCTAACATGTATGATGCCTGGAAAAAATGCCCAGGAATTTACACACTAAAATGTCTGGGGCTGGGAGCGGTAGCTCATGCCTATAATCCCAGCACTTTGGGAGGCTGGAGCAGGACTGCTTGAGGCCAGGAGTTCAAGACCAGCATAAGCAACAGAGTGAGACCCAGTCTCTACAAAATAATAGTAGTAGTAATAATAAAATGTGTGGGATATGTGTGATTTGAATTTTTTTTTCTGTTGTCTTAAATTTTTCAAACCTGATTATGTATTATTTGTGTAATTTTTGAAGTATTAATATAGCATATTTTGAAGCTGATACTTGATATACATTCCAATCACATCTGATAACTTTTTTTTTTGTTTTGGGGGGTGTACAGAGTCCTGCTCTGTCACCCAGGCTGGAGTGCAGTGGCGCAATCTCAGCTCACTGCAACCTCCGCCTCCTAAGTTCAAGAGATTCTCCTGCCTCAGCCTCCTGAGTAGCTGGGTCTACAAGCGTGTGCAACTATGCCTGGCTAATTTGTGTGTGTGTGTGTATATATATATACATATATATGTGTGTGTGTGTGTATATATATATATAACATATATATAACATATATATATTATATATATATAACATATATATAACATATATATATGTTATATATATATAACATATATATAACATATATATATATATATATATAATATATATATATATATATATATATGTAATCCCAGCACTTTGGGATATATGTGTATATATGTTTTTTTTTTTTGAGACAGAATCTTGCTCTGTTGCCAGGCTAGAGTGCAGTGGCGTGATCTCGGCACACTGCAACCTCCACCTCCCTGGTTCAG']\", 'REF': 'C', 'POS': 41251791, 'ALT': 'CCCAATTCAATGTAGACAGACGTCTTTTGAGGTTGTATCCGCTGCTTTGTCCTCAGAGTTCTCACAGTTCCAAGGTTAGAGAGTTGGACACTGAGACTGGTTTCCTGCTAAACAGTATGGTAAAGAACAGTCAAGCAATTGTTGGCCAGTTCTGTGCTTTTCCTCCTGAAGAGAAACTTGACACCATGGACAAAATAAATTGACCATCATCAGTCAGCTAACATGTATGATGCCTGGAAAAAATGCCCAGGAATTTACACACTAAAATGTCTGGGGCTGGGAGCGGTAGCTCATGCCTATAATCCCAGCACTTTGGGAGGCTGGAGCAGGACTGCTTGAGGCCAGGAGTTCAAGACCAGCATAAGCAACAGAGTGAGACCCAGTCTCTACAAAATAATAGTAGTAGTAATAATAAAATGTGTGGGATATGTGTGATTTGAATTTTTTTTTCTGTTGTCTTAAATTTTTCAAACCTGATTATGTATTATTTGTGTAATTTTTGAAGTATTAATATAGCATATTTTGAAGCTGATACTTGATATACATTCCAATCACATCTGATAACTTTTTTTTTTGTTTTGGGGGGTGTACAGAGTCCTGCTCTGTCACCCAGGCTGGAGTGCAGTGGCGCAATCTCAGCTCACTGCAACCTCCGCCTCCTAAGTTCAAGAGATTCTCCTGCCTCAGCCTCCTGAGTAGCTGGGTCTACAAGCGTGTGCAACTATGCCTGGCTAATTTGTGTGTGTGTGTGTATATATATATACATATATATGTGTGTGTGTGTGTATATATATATATAACATATATATAACATATATATATTATATATATATAACATATATATAACATATATATATGTTATATATATATAACATATATATAACATATATATATATATATATATAATATATATATATATATATATATATGTAATCCCAGCACTTTGGGATATATGTGTATATATGTTTTTTTTTTTTGAGACAGAATCTTGCTCTGTTGCCAGGCTAGAGTGCAGTGGCGTGATCTCGGCACACTGCAACCTCCACCTCCCTGGTTCAG', 'CHROM': '17', 'ID': '267546'}, 'ExonInterval': {'name': 'ENSE00003477699', 'Exon_End': 41251894, 'start': 41251692, 'order': 7, 'isLast': False, 'intronl_len': 100, 'intronr_len': 100, 'isFirst': False, 'end': 41251994, 'seqid': '17', 'strand': '-', 'Exon_Start': 41251792, 'gene_id': 'ENSG00000012048'}, 'ranges': GenomicRanges(chr='17', start=41251692, end=41251994, id='ENST00000461221', strand='-'), 'annotation': '17_41251792_41251894:-'}, 'inputs_mut': {'intronl_len': 100, 'seq': 'GTCAATTTATTTTGTCCATGGTGTCAAGTTTCTCTTCAGGAGGAAAAGCACAGAACTGGCCAACAATTGCTTGACTGTTCTTTACCATACTGTTTAGCAGGAAACCAGTCTCAGTGTCCAACTCTCTAACCTTGGAACTGTGAGAACTCTGAGGACAAAGCAGCGGATACAACCTCAAAAGACGTCTGTCTACATTGAATTGGCTGAACCAGGGAGGTGGAGGTTGCAGTGTGCCGAGATCACGCCACTGCACTCTAGCCTGGCAACAGAGCAAGATTCTGTCTCAAAAAAAAAAAACATATATACACATATATCCCAAAGTGCTGGGATTACATATATATATATATATATATATATTATATATATATATATATATATGTTATATATATGTTATATATATATAACATATATATATGTTATATATATGTTATATATATATAATATATATATGTTATATATATGTTATATATATATATACACACACACACACATATATATGTATATATATATACACACACACACACAAATTAGCCAGGCATAGTTGCACACGCTTGTAGACCCAGCTACTCAGGAGGCTGAGGCAGGAGAATCTCTTGAACTTAGGAGGCGGAGGTTGCAGTGAGCTGAGATTGCGCCACTGCACTCCAGCCTGGGTGACAGAGCAGGACTCTGTACACCCCCCAAAACAAAAAAAAAAGTTATCAGATGTGATTGGAATGTATATCAAGTATCAGCTTCAAAATATGCTATATTAATACTTCAAAAATTACACAAATAATACATAATCAGGTTTGAAAAATTTAAGACAACAGAAAAAAAAATTCAAATCACACATATCCCACACATTTTATTATTACTACTACTATTATTTTGTAGAGACTGGGTCTCACTCTGTTGCTTATGCTGGTCTTGAACTCCTGGCCTCAAGCAGTCCTGCTCCAGCCTCCCAAAGTGCTGGGATTATAGGCATGAGCTACCGCTCCCAGCCCCAGACATTTTAGTGTGTAAATTCCTGGGCATTTTTTCCAGGCATCATACATGTTAGCTGACTGATGATGGTCAATTTATTTTGTCCATGGTGTCAAGTTTCTCTTCAGGAGGAAAAGCACAGAACTGGCCAACAATTGCTTGACTGTTCTTTACCATACTGTTTAGCAGGAAACCAGTCTCAGTGTCCAACTCTCTAACCTTGGAACTGTGAGAACTCTGAGGACAAAGCAGCGGATACAACCTCAAAAGACGTCTGTCTACATTGAATTGGG', 'intronr_len': 100}}, {'inputs': {'intronl_len': 100, 'seq': 'ATGGTCAATTTATTTTGTCCATGGTGTCAAGTTTCTCTTCAGGAGGAAAAGCACAGAACTGGCCAACAATTGCTTGACTGTTCTTTACCATACTGTTTAGCAGGAAACCAGTCTCAGTGTCCAACTCTCTAACCTTGGAACTGTGAGAACTCTGAGGACAAAGCAGCGGATACAACCTCAAAAGACGTCTGTCTACATTGAATTGGGTAAGGGTCTCAGGTTTTTTAAGTATTTAATAATAATTGCTGGATTCCTTATCTTATAGTTTTGCCAAAAATCTTGGTCATAATTTGTATTTGTGGTAGG', 'intronr_len': 100}, 'metadata': {'variant': {'STR': \"17:41251791:C:['CCCAATTCAATGTAGACAGACGTCTTTTGAGGTTGTATCCGCTGCTTTGTCCTCAGAGTTCTCACAGTTCCAAGGTTAGAGAGTTGGACACTGAGACTGGTTTCCTGCTAAACAGTATGGTAAAGAACAGTCAAGCAATTGTTGGCCAGTTCTGTGCTTTTCCTCCTGAAGAGAAACTTGACACCATGGACAAAATAAATTGACCATCATCAGTCAGCTAACATGTATGATGCCTGGAAAAAATGCCCAGGAATTTACACACTAAAATGTCTGGGGCTGGGAGCGGTAGCTCATGCCTATAATCCCAGCACTTTGGGAGGCTGGAGCAGGACTGCTTGAGGCCAGGAGTTCAAGACCAGCATAAGCAACAGAGTGAGACCCAGTCTCTACAAAATAATAGTAGTAGTAATAATAAAATGTGTGGGATATGTGTGATTTGAATTTTTTTTTCTGTTGTCTTAAATTTTTCAAACCTGATTATGTATTATTTGTGTAATTTTTGAAGTATTAATATAGCATATTTTGAAGCTGATACTTGATATACATTCCAATCACATCTGATAACTTTTTTTTTTGTTTTGGGGGGTGTACAGAGTCCTGCTCTGTCACCCAGGCTGGAGTGCAGTGGCGCAATCTCAGCTCACTGCAACCTCCGCCTCCTAAGTTCAAGAGATTCTCCTGCCTCAGCCTCCTGAGTAGCTGGGTCTACAAGCGTGTGCAACTATGCCTGGCTAATTTGTGTGTGTGTGTGTATATATATATACATATATATGTGTGTGTGTGTGTATATATATATATAACATATATATAACATATATATATTATATATATATAACATATATATAACATATATATATGTTATATATATATAACATATATATAACATATATATATATATATATATAATATATATATATATATATATATATGTAATCCCAGCACTTTGGGATATATGTGTATATATGTTTTTTTTTTTTGAGACAGAATCTTGCTCTGTTGCCAGGCTAGAGTGCAGTGGCGTGATCTCGGCACACTGCAACCTCCACCTCCCTGGTTCAG']\", 'REF': 'C', 'POS': 41251791, 'ALT': 'CCCAATTCAATGTAGACAGACGTCTTTTGAGGTTGTATCCGCTGCTTTGTCCTCAGAGTTCTCACAGTTCCAAGGTTAGAGAGTTGGACACTGAGACTGGTTTCCTGCTAAACAGTATGGTAAAGAACAGTCAAGCAATTGTTGGCCAGTTCTGTGCTTTTCCTCCTGAAGAGAAACTTGACACCATGGACAAAATAAATTGACCATCATCAGTCAGCTAACATGTATGATGCCTGGAAAAAATGCCCAGGAATTTACACACTAAAATGTCTGGGGCTGGGAGCGGTAGCTCATGCCTATAATCCCAGCACTTTGGGAGGCTGGAGCAGGACTGCTTGAGGCCAGGAGTTCAAGACCAGCATAAGCAACAGAGTGAGACCCAGTCTCTACAAAATAATAGTAGTAGTAATAATAAAATGTGTGGGATATGTGTGATTTGAATTTTTTTTTCTGTTGTCTTAAATTTTTCAAACCTGATTATGTATTATTTGTGTAATTTTTGAAGTATTAATATAGCATATTTTGAAGCTGATACTTGATATACATTCCAATCACATCTGATAACTTTTTTTTTTGTTTTGGGGGGTGTACAGAGTCCTGCTCTGTCACCCAGGCTGGAGTGCAGTGGCGCAATCTCAGCTCACTGCAACCTCCGCCTCCTAAGTTCAAGAGATTCTCCTGCCTCAGCCTCCTGAGTAGCTGGGTCTACAAGCGTGTGCAACTATGCCTGGCTAATTTGTGTGTGTGTGTGTATATATATATACATATATATGTGTGTGTGTGTGTATATATATATATAACATATATATAACATATATATATTATATATATATAACATATATATAACATATATATATGTTATATATATATAACATATATATAACATATATATATATATATATATAATATATATATATATATATATATATGTAATCCCAGCACTTTGGGATATATGTGTATATATGTTTTTTTTTTTTGAGACAGAATCTTGCTCTGTTGCCAGGCTAGAGTGCAGTGGCGTGATCTCGGCACACTGCAACCTCCACCTCCCTGGTTCAG', 'CHROM': '17', 'ID': '267546'}, 'ExonInterval': {'name': 'ENSE00003642045', 'Exon_End': 41251897, 'start': 41251692, 'order': 7, 'isLast': False, 'intronl_len': 100, 'intronr_len': 100, 'isFirst': False, 'end': 41251997, 'seqid': '17', 'strand': '-', 'Exon_Start': 41251792, 'gene_id': 'ENSG00000012048'}, 'ranges': GenomicRanges(chr='17', start=41251692, end=41251997, id='ENST00000357654', strand='-'), 'annotation': '17_41251792_41251897:-'}, 'inputs_mut': {'intronl_len': 100, 'seq': 'ATGGTCAATTTATTTTGTCCATGGTGTCAAGTTTCTCTTCAGGAGGAAAAGCACAGAACTGGCCAACAATTGCTTGACTGTTCTTTACCATACTGTTTAGCAGGAAACCAGTCTCAGTGTCCAACTCTCTAACCTTGGAACTGTGAGAACTCTGAGGACAAAGCAGCGGATACAACCTCAAAAGACGTCTGTCTACATTGAATTGGCTGAACCAGGGAGGTGGAGGTTGCAGTGTGCCGAGATCACGCCACTGCACTCTAGCCTGGCAACAGAGCAAGATTCTGTCTCAAAAAAAAAAAACATATATACACATATATCCCAAAGTGCTGGGATTACATATATATATATATATATATATATTATATATATATATATATATATGTTATATATATGTTATATATATATAACATATATATATGTTATATATATGTTATATATATATAATATATATATGTTATATATATGTTATATATATATATACACACACACACACATATATATGTATATATATATACACACACACACACAAATTAGCCAGGCATAGTTGCACACGCTTGTAGACCCAGCTACTCAGGAGGCTGAGGCAGGAGAATCTCTTGAACTTAGGAGGCGGAGGTTGCAGTGAGCTGAGATTGCGCCACTGCACTCCAGCCTGGGTGACAGAGCAGGACTCTGTACACCCCCCAAAACAAAAAAAAAAGTTATCAGATGTGATTGGAATGTATATCAAGTATCAGCTTCAAAATATGCTATATTAATACTTCAAAAATTACACAAATAATACATAATCAGGTTTGAAAAATTTAAGACAACAGAAAAAAAAATTCAAATCACACATATCCCACACATTTTATTATTACTACTACTATTATTTTGTAGAGACTGGGTCTCACTCTGTTGCTTATGCTGGTCTTGAACTCCTGGCCTCAAGCAGTCCTGCTCCAGCCTCCCAAAGTGCTGGGATTATAGGCATGAGCTACCGCTCCCAGCCCCAGACATTTTAGTGTGTAAATTCCTGGGCATTTTTTCCAGGCATCATACATGTTAGCTGACTGATGATGGTCAATTTATTTTGTCCATGGTGTCAAGTTTCTCTTCAGGAGGAAAAGCACAGAACTGGCCAACAATTGCTTGACTGTTCTTTACCATACTGTTTAGCAGGAAACCAGTCTCAGTGTCCAACTCTCTAACCTTGGAACTGTGAGAACTCTGAGGACAAAGCAGCGGATACAACCTCAAAAGACGTCTGTCTACATTGAATTGGG', 'intronr_len': 100}}, {'inputs': {'intronl_len': 100, 'seq': 'ATGGTCAATTTATTTTGTCCATGGTGTCAAGTTTCTCTTCAGGAGGAAAAGCACAGAACTGGCCAACAATTGCTTGACTGTTCTTTACCATACTGTTTAGCAGGAAACCAGTCTCAGTGTCCAACTCTCTAACCTTGGAACTGTGAGAACTCTGAGGACAAAGCAGCGGATACAACCTCAAAAGACGTCTGTCTACATTGAATTGGGTAAGGGTCTCAGGTTTTTTAAGTATTTAATAATAATTGCTGGA', 'intronr_len': 100}, 'metadata': {'variant': {'STR': \"17:41251791:C:['CCCAATTCAATGTAGACAGACGTCTTTTGAGGTTGTATCCGCTGCTTTGTCCTCAGAGTTCTCACAGTTCCAAGGTTAGAGAGTTGGACACTGAGACTGGTTTCCTGCTAAACAGTATGGTAAAGAACAGTCAAGCAATTGTTGGCCAGTTCTGTGCTTTTCCTCCTGAAGAGAAACTTGACACCATGGACAAAATAAATTGACCATCATCAGTCAGCTAACATGTATGATGCCTGGAAAAAATGCCCAGGAATTTACACACTAAAATGTCTGGGGCTGGGAGCGGTAGCTCATGCCTATAATCCCAGCACTTTGGGAGGCTGGAGCAGGACTGCTTGAGGCCAGGAGTTCAAGACCAGCATAAGCAACAGAGTGAGACCCAGTCTCTACAAAATAATAGTAGTAGTAATAATAAAATGTGTGGGATATGTGTGATTTGAATTTTTTTTTCTGTTGTCTTAAATTTTTCAAACCTGATTATGTATTATTTGTGTAATTTTTGAAGTATTAATATAGCATATTTTGAAGCTGATACTTGATATACATTCCAATCACATCTGATAACTTTTTTTTTTGTTTTGGGGGGTGTACAGAGTCCTGCTCTGTCACCCAGGCTGGAGTGCAGTGGCGCAATCTCAGCTCACTGCAACCTCCGCCTCCTAAGTTCAAGAGATTCTCCTGCCTCAGCCTCCTGAGTAGCTGGGTCTACAAGCGTGTGCAACTATGCCTGGCTAATTTGTGTGTGTGTGTGTATATATATATACATATATATGTGTGTGTGTGTGTATATATATATATAACATATATATAACATATATATATTATATATATATAACATATATATAACATATATATATGTTATATATATATAACATATATATAACATATATATATATATATATATAATATATATATATATATATATATATGTAATCCCAGCACTTTGGGATATATGTGTATATATGTTTTTTTTTTTTGAGACAGAATCTTGCTCTGTTGCCAGGCTAGAGTGCAGTGGCGTGATCTCGGCACACTGCAACCTCCACCTCCCTGGTTCAG']\", 'REF': 'C', 'POS': 41251791, 'ALT': 'CCCAATTCAATGTAGACAGACGTCTTTTGAGGTTGTATCCGCTGCTTTGTCCTCAGAGTTCTCACAGTTCCAAGGTTAGAGAGTTGGACACTGAGACTGGTTTCCTGCTAAACAGTATGGTAAAGAACAGTCAAGCAATTGTTGGCCAGTTCTGTGCTTTTCCTCCTGAAGAGAAACTTGACACCATGGACAAAATAAATTGACCATCATCAGTCAGCTAACATGTATGATGCCTGGAAAAAATGCCCAGGAATTTACACACTAAAATGTCTGGGGCTGGGAGCGGTAGCTCATGCCTATAATCCCAGCACTTTGGGAGGCTGGAGCAGGACTGCTTGAGGCCAGGAGTTCAAGACCAGCATAAGCAACAGAGTGAGACCCAGTCTCTACAAAATAATAGTAGTAGTAATAATAAAATGTGTGGGATATGTGTGATTTGAATTTTTTTTTCTGTTGTCTTAAATTTTTCAAACCTGATTATGTATTATTTGTGTAATTTTTGAAGTATTAATATAGCATATTTTGAAGCTGATACTTGATATACATTCCAATCACATCTGATAACTTTTTTTTTTGTTTTGGGGGGTGTACAGAGTCCTGCTCTGTCACCCAGGCTGGAGTGCAGTGGCGCAATCTCAGCTCACTGCAACCTCCGCCTCCTAAGTTCAAGAGATTCTCCTGCCTCAGCCTCCTGAGTAGCTGGGTCTACAAGCGTGTGCAACTATGCCTGGCTAATTTGTGTGTGTGTGTGTATATATATATACATATATATGTGTGTGTGTGTGTATATATATATATAACATATATATAACATATATATATTATATATATATAACATATATATAACATATATATATGTTATATATATATAACATATATATAACATATATATATATATATATATAATATATATATATATATATATATATGTAATCCCAGCACTTTGGGATATATGTGTATATATGTTTTTTTTTTTTGAGACAGAATCTTGCTCTGTTGCCAGGCTAGAGTGCAGTGGCGTGATCTCGGCACACTGCAACCTCCACCTCCCTGGTTCAG', 'CHROM': '17', 'ID': '267546'}, 'ExonInterval': {'name': 'ENSE00001886573', 'Exon_End': 41251897, 'start': 41251748, 'order': 7, 'isLast': False, 'intronl_len': 100, 'intronr_len': 100, 'isFirst': False, 'end': 41251997, 'seqid': '17', 'strand': '-', 'Exon_Start': 41251848, 'gene_id': 'ENSG00000012048'}, 'ranges': GenomicRanges(chr='17', start=41251748, end=41251997, id='ENST00000461798', strand='-'), 'annotation': '17_41251848_41251897:-'}, 'inputs_mut': {'intronl_len': 100, 'seq': 'ATGGTCAATTTATTTTGTCCATGGTGTCAAGTTTCTCTTCAGGAGGAAAAGCACAGAACTGGCCAACAATTGCTTGACTGTTCTTTACCATACTGTTTAGCAGGAAACCAGTCTCAGTGTCCAACTCTCTAACCTTGGAACTGTGAGAACTCTGAGGACAAAGCAGCGGATACAACCTCAAAAGACGTCTGTCTACATTGAATTGGCTGAACCAGGGAGGTGGAGGTTGCAGTGTGCCGAGATCACGCCACTGCACTCTAGCCTGGCAACAGAGCAAGATTCTGTCTCAAAAAAAAAAAACATATATACACATATATCCCAAAGTGCTGGGATTACATATATATATATATATATATATATTATATATATATATATATATATGTTATATATATGTTATATATATATAACATATATATATGTTATATATATGTTATATATATATAATATATATATGTTATATATATGTTATATATATATATACACACACACACACATATATATGTATATATATATACACACACACACACAAATTAGCCAGGCATAGTTGCACACGCTTGTAGACCCAGCTACTCAGGAGGCTGAGGCAGGAGAATCTCTTGAACTTAGGAGGCGGAGGTTGCAGTGAGCTGAGATTGCGCCACTGCACTCCAGCCTGGGTGACAGAGCAGGACTCTGTACACCCCCCAAAACAAAAAAAAAAGTTATCAGATGTGATTGGAATGTATATCAAGTATCAGCTTCAAAATATGCTATATTAATACTTCAAAAATTACACAAATAATACATAATCAGGTTTGAAAAATTTAAGACAACAGAAAAAAAAATTCAAATCACACATATCCCACACATTTTATTATTACTACTACTATTATTTTGTAGAGACTGGGTCTCACTCTGTTGCTTATGCTGGTCTTGAACTCCTGGCCTCAAGCAGTCCTGCTCCAGCCTCCCAAAGTGCTGGGATTATAGGCATGAGCTACCGCTCCCAGCCCCAGACATTTTAGTGTGTAAATTCCTGGGCATTTTTTCCAGGCATCATACATGTTAGCTGACTGATGATGGTCAATTTATTTTGTCCATGGTGTCAAGTTTCTCTTCAGGAGGAAAAGCACAGAACTGGCCAACAATTGCTTGACTGTTCTTTACCATACTGTTTAGCAGGAAACCAGTCTCAGTGTCCAACTCTCTAACCTTGGAACTGTGAGAACTCTGAGGACAAAGCAGCGGATACAACCTCAAAAGACGTCTGTCTACATTGAATTGGG', 'intronr_len': 100}}]\n",
      "\n",
      "[{'inputs': {'intronl_len': 100, 'seq': 'TCTTGGGAGTGTAAAAAACTGAGGCTCTTTAGCTTCTTAGGACAGCACTTCCTGATTTTGTTTTCAACTTCTAATCCTTTGAGTGTTTTTCATTCTGCAGATGCTGAGTTTGTGTGTGAACGGACACTGAAATATTTTCTAGGAATTGCGGGAGGAAAATGGGTAGTTAGCTATTTCTGTAAGTATAATACTATTTCTCCCCTCCTCCCTTTAACACCTCAGAATTGCATTTTTACACCTAACGTTTAACACCTAAGGTTTTTGCTGATGCTGAGTCT', 'intronr_len': 100}, 'metadata': {'variant': {'STR': \"17:41215963:CAGC:['GCAGAATGAA']\", 'REF': 'CAGC', 'POS': 41215963, 'ALT': 'GCAGAATGAA', 'CHROM': '17', 'ID': '55385'}, 'ExonInterval': {'name': 'ENSE00003591784', 'Exon_End': 41215968, 'start': 41215791, 'order': 17, 'isLast': False, 'intronl_len': 100, 'intronr_len': 100, 'isFirst': False, 'end': 41216068, 'seqid': '17', 'strand': '-', 'Exon_Start': 41215891, 'gene_id': 'ENSG00000012048'}, 'ranges': GenomicRanges(chr='17', start=41215791, end=41216068, id='ENST00000357654', strand='-'), 'annotation': '17_41215891_41215968:-'}, 'inputs_mut': {'intronl_len': 100, 'seq': 'GAGTGTAAAAAACTGAGGCTCTTTAGCTTCTTAGGACAGCACTTCCTGATTTTGTTTTCAACTTCTAATCCTTTGAGTGTTTTTCATTCTGCAGATTTCATTCTGCAGTTTGTGTGTGAACGGACACTGAAATATTTTCTAGGAATTGCGGGAGGAAAATGGGTAGTTAGCTATTTCTGTAAGTATAATACTATTTCTCCCCTCCTCCCTTTAACACCTCAGAATTGCATTTTTACACCTAACGTTTAACACCTAAGGTTTTTGCTGATGCTGAGTCT', 'intronr_len': 100}}]\n",
      "\n",
      "[{'inputs': {'intronl_len': 100, 'seq': 'TAACCTAACTTTATTGGTCTTTTTAATTCTTAACAGAGACCAGAACTTTGTAATTCAACATTCATCGTTGTGTAAATTAAACTTCTCCCATTCCTTTCAGAGGGAACCCCTTACCTGGAATCTGGAATCAGCCTCTTCTCTGATGACCCTGAATCTGATCCTTCTGAAGACAGAGCCCCAGAGTCAGCTCGTGTTGGCAACATACCATCTTCAACCTCTGCATTGAAAGTTCCCCAATTGAAAGTTGCAGAATCTGCCCAGAGTCCAGCTGCTGCTCATACTACTGATACTGCTGGGTATAATGCAATGGAAGAAAGTGTGAGCAGGGAGAAGCCAGAATTGACAGCTTCAACAGAAAGGGTCAACAAAAGAATGTCCATGGTGGTGTCTGGCCTGACCCCAGAAGAATTTGTGAGTGTATCCATATGTATCTCCCTAATGACTAAGACTTAACAACATTCTGGAAAGAGTTTTATGTAGGTATTGTCAATTAATAACCTAGAGGAAGAAA', 'intronr_len': 100}, 'metadata': {'variant': {'STR': \"17:41222944:C:['CA']\", 'REF': 'C', 'POS': 41222944, 'ALT': 'CA', 'CHROM': '17', 'ID': '491092'}, 'ExonInterval': {'name': 'ENSE00003497952', 'Exon_End': 41223255, 'start': 41222845, 'order': 15, 'isLast': False, 'intronl_len': 100, 'intronr_len': 100, 'isFirst': False, 'end': 41223355, 'seqid': '17', 'strand': '-', 'Exon_Start': 41222945, 'gene_id': 'ENSG00000012048'}, 'ranges': GenomicRanges(chr='17', start=41222845, end=41223355, id='ENST00000357654', strand='-'), 'annotation': '17_41222945_41223255:-'}, 'inputs_mut': {'intronl_len': 100, 'seq': 'TAACCTAACTTTATTGGTCTTTTTAATTCTTAACAGAGACCAGAACTTTGTAATTCAACATTCATCGTTGTGTAAATTAAACTTCTCCCATTCCTTTCAGAGGGAACCCCTTACCTGGAATCTGGAATCAGCCTCTTCTCTGATGACCCTGAATCTGATCCTTCTGAAGACAGAGCCCCAGAGTCAGCTCGTGTTGGCAACATACCATCTTCAACCTCTGCATTGAAAGTTCCCCAATTGAAAGTTGCAGAATCTGCCCAGAGTCCAGCTGCTGCTCATACTACTGATACTGCTGGGTATAATGCAATGGAAGAAAGTGTGAGCAGGGAGAAGCCAGAATTGACAGCTTCAACAGAAAGGGTCAACAAAAGAATGTCCATGGTGGTGTCTGGCCTGACCCCAGAAGAATTTTGTGAGTGTATCCATATGTATCTCCCTAATGACTAAGACTTAACAACATTCTGGAAAGAGTTTTATGTAGGTATTGTCAATTAATAACCTAGAGGAAGAA', 'intronr_len': 100}}, {'inputs': {'intronl_len': 100, 'seq': 'GAGCCCCAGAGTCAGCTCGTGTTGGCAACATACCATCTTCAACCTCTGCATTGAAAGTTCCCCAATTGAAAGTTGCAGAATCTGCCCAGAGTCCAGCTGCTGCTCATACTACTGATACTGCTGGGTATAATGCAATGGAAGAAAGTGTGAGCAGGGAGAAGCCAGAATTGACAGCTTCAACAGAAAGGGTCAACAAAAGAATGTCCATGGTGGTGTCTGGCCTGACCCCAGAAGAATTTGTGAGTGTATCCATATGTATCTCCCTAATGACTAAGACTTAACAACATTCTGGAAAGAGTTTTATGTAGGTATTGTCAATTAATAACCTAGAGGAAGAAA', 'intronr_len': 100}, 'metadata': {'variant': {'STR': \"17:41222944:C:['CA']\", 'REF': 'C', 'POS': 41222944, 'ALT': 'CA', 'CHROM': '17', 'ID': '491092'}, 'ExonInterval': {'name': 'ENSE00001858912', 'Exon_End': 41223083, 'start': 41222845, 'order': 1, 'isLast': False, 'intronl_len': 100, 'intronr_len': 100, 'isFirst': True, 'end': 41223183, 'seqid': '17', 'strand': '-', 'Exon_Start': 41222945, 'gene_id': 'ENSG00000012048'}, 'ranges': GenomicRanges(chr='17', start=41222845, end=41223183, id='ENST00000472490', strand='-'), 'annotation': '17_41222945_41223083:-'}, 'inputs_mut': {'intronl_len': 100, 'seq': 'GAGCCCCAGAGTCAGCTCGTGTTGGCAACATACCATCTTCAACCTCTGCATTGAAAGTTCCCCAATTGAAAGTTGCAGAATCTGCCCAGAGTCCAGCTGCTGCTCATACTACTGATACTGCTGGGTATAATGCAATGGAAGAAAGTGTGAGCAGGGAGAAGCCAGAATTGACAGCTTCAACAGAAAGGGTCAACAAAAGAATGTCCATGGTGGTGTCTGGCCTGACCCCAGAAGAATTTTGTGAGTGTATCCATATGTATCTCCCTAATGACTAAGACTTAACAACATTCTGGAAAGAGTTTTATGTAGGTATTGTCAATTAATAACCTAGAGGAAGAA', 'intronr_len': 100}}]\n",
      "\n",
      "[{'inputs': {'intronl_len': 100, 'seq': 'TTCTTCCTGTGCTCTTTTGTGAATCGCTGACCTCTCTATCTCCGTGAAAAGAGCACGTTCTTCTGCTGTATGTAACCTGTCTTTTCTATGATCTCTTTAGGGGTGACCCAGTCTATTAAAGAAAGAAAAATGCTGAATGAGGTAAGTACTTGATGTTACAAACTAACCAGAGATATTCATTCAGTCATATAGTTAAAAATGTATTTGCTTCCTT', 'intronr_len': 100}, 'metadata': {'variant': {'STR': \"17:41215387:ACCCCTAAAGAGATCATAGA:['TATT']\", 'REF': 'ACCCCTAAAGAGATCATAGA', 'POS': 41215387, 'ALT': 'TATT', 'CHROM': '17', 'ID': '141142'}, 'ExonInterval': {'name': 'ENSE00002344016', 'Exon_End': 41215390, 'start': 41215277, 'order': 17, 'isLast': False, 'intronl_len': 100, 'intronr_len': 100, 'isFirst': False, 'end': 41215490, 'seqid': '17', 'strand': '-', 'Exon_Start': 41215377, 'gene_id': 'ENSG00000012048'}, 'ranges': GenomicRanges(chr='17', start=41215277, end=41215490, id='ENST00000493919', strand='-'), 'annotation': '17_41215377_41215390:-'}, 'inputs_mut': {'intronl_len': 100, 'seq': 'GACCTCTCCTCTGTCATTCTTCCTGTGCTCTTTTGTGAATCGCTGACCTCTCTATCTCCGTGAAAAGAGCACGTTCTTCTGCTGTATGTAACCTGTCTTTAATAGACCCAGTCTATTAAAGAAAGAAAAATGCTGAATGAGGTAAGTACTTGATGTTACAAACTAACCAGAGATATTCATTCAGTCATATAGTTAAAAATGTATTTGCTTCCTT', 'intronr_len': 100}}, {'inputs': {'intronl_len': 100, 'seq': 'TTCTTCCTGTGCTCTTTTGTGAATCGCTGACCTCTCTATCTCCGTGAAAAGAGCACGTTCTTCTGCTGTATGTAACCTGTCTTTTCTATGATCTCTTTAGGGGTGACCCAGTCTATTAAAGAAAGAAAAATGCTGAATGAGGTAAGTACTTGATGTTACAAACTAACCAGAGATATTCATTCAGTCATATAGTTAAAAATGTATTTGCTTCCTTCCATCAATGCACCACT', 'intronr_len': 100}, 'metadata': {'variant': {'STR': \"17:41215387:ACCCCTAAAGAGATCATAGA:['TATT']\", 'REF': 'ACCCCTAAAGAGATCATAGA', 'POS': 41215387, 'ALT': 'TATT', 'CHROM': '17', 'ID': '141142'}, 'ExonInterval': {'name': 'ENSE00001871565', 'Exon_End': 41215390, 'start': 41215261, 'order': 12, 'isLast': False, 'intronl_len': 100, 'intronr_len': 100, 'isFirst': False, 'end': 41215490, 'seqid': '17', 'strand': '-', 'Exon_Start': 41215361, 'gene_id': 'ENSG00000012048'}, 'ranges': GenomicRanges(chr='17', start=41215261, end=41215490, id='ENST00000484087', strand='-'), 'annotation': '17_41215361_41215390:-'}, 'inputs_mut': {'intronl_len': 100, 'seq': 'GACCTCTCCTCTGTCATTCTTCCTGTGCTCTTTTGTGAATCGCTGACCTCTCTATCTCCGTGAAAAGAGCACGTTCTTCTGCTGTATGTAACCTGTCTTTAATAGACCCAGTCTATTAAAGAAAGAAAAATGCTGAATGAGGTAAGTACTTGATGTTACAAACTAACCAGAGATATTCATTCAGTCATATAGTTAAAAATGTATTTGCTTCCTTCCATCAATGCACCACT', 'intronr_len': 100}}, {'inputs': {'intronl_len': 100, 'seq': 'TTCTTCCTGTGCTCTTTTGTGAATCGCTGACCTCTCTATCTCCGTGAAAAGAGCACGTTCTTCTGCTGTATGTAACCTGTCTTTTCTATGATCTCTTTAGGGGTGACCCAGTCTATTAAAGAAAGAAAAATGCTGAATGAGGTAAGTACTTGATGTTACAAACTAACCAGAGATATTCATTCAGTCATATAGTTAAAAATGTATTTGCTTCCTTCCATCAATGCACCACTTTCCTTAACAA', 'intronr_len': 100}, 'metadata': {'variant': {'STR': \"17:41215387:ACCCCTAAAGAGATCATAGA:['TATT']\", 'REF': 'ACCCCTAAAGAGATCATAGA', 'POS': 41215387, 'ALT': 'TATT', 'CHROM': '17', 'ID': '141142'}, 'ExonInterval': {'name': 'ENSE00003672792', 'Exon_End': 41215390, 'start': 41215250, 'order': 18, 'isLast': False, 'intronl_len': 100, 'intronr_len': 100, 'isFirst': False, 'end': 41215490, 'seqid': '17', 'strand': '-', 'Exon_Start': 41215350, 'gene_id': 'ENSG00000012048'}, 'ranges': GenomicRanges(chr='17', start=41215250, end=41215490, id='ENST00000357654', strand='-'), 'annotation': '17_41215350_41215390:-'}, 'inputs_mut': {'intronl_len': 100, 'seq': 'GACCTCTCCTCTGTCATTCTTCCTGTGCTCTTTTGTGAATCGCTGACCTCTCTATCTCCGTGAAAAGAGCACGTTCTTCTGCTGTATGTAACCTGTCTTTAATAGACCCAGTCTATTAAAGAAAGAAAAATGCTGAATGAGGTAAGTACTTGATGTTACAAACTAACCAGAGATATTCATTCAGTCATATAGTTAAAAATGTATTTGCTTCCTTCCATCAATGCACCACTTTCCTTAACAA', 'intronr_len': 100}}]\n",
      "\n",
      "[{'inputs': {'intronl_len': 100, 'seq': 'TCTTGGGAGTGTAAAAAACTGAGGCTCTTTAGCTTCTTAGGACAGCACTTCCTGATTTTGTTTTCAACTTCTAATCCTTTGAGTGTTTTTCATTCTGCAGATGCTGAGTTTGTGTGTGAACGGACACTGAAATATTTTCTAGGAATTGCGGGAGGAAAATGGGTAGTTAGCTATTTCTGTAAGTATAATACTATTTCTCCCCTCCTCCCTTTAACACCTCAGAATTGCATTTTTACACCTAACGTTTAACACCTAAGGTTTTTGCTGATGCTGAGTCT', 'intronr_len': 100}, 'metadata': {'variant': {'STR': \"17:41215963:CAGC:['GCAGAATCAA']\", 'REF': 'CAGC', 'POS': 41215963, 'ALT': 'GCAGAATCAA', 'CHROM': '17', 'ID': '267576'}, 'ExonInterval': {'name': 'ENSE00003591784', 'Exon_End': 41215968, 'start': 41215791, 'order': 17, 'isLast': False, 'intronl_len': 100, 'intronr_len': 100, 'isFirst': False, 'end': 41216068, 'seqid': '17', 'strand': '-', 'Exon_Start': 41215891, 'gene_id': 'ENSG00000012048'}, 'ranges': GenomicRanges(chr='17', start=41215791, end=41216068, id='ENST00000357654', strand='-'), 'annotation': '17_41215891_41215968:-'}, 'inputs_mut': {'intronl_len': 100, 'seq': 'GAGTGTAAAAAACTGAGGCTCTTTAGCTTCTTAGGACAGCACTTCCTGATTTTGTTTTCAACTTCTAATCCTTTGAGTGTTTTTCATTCTGCAGATTTGATTCTGCAGTTTGTGTGTGAACGGACACTGAAATATTTTCTAGGAATTGCGGGAGGAAAATGGGTAGTTAGCTATTTCTGTAAGTATAATACTATTTCTCCCCTCCTCCCTTTAACACCTCAGAATTGCATTTTTACACCTAACGTTTAACACCTAAGGTTTTTGCTGATGCTGAGTCT', 'intronr_len': 100}}]\n",
      "\n",
      "[{'inputs': {'intronl_len': 100, 'seq': 'ACAACAAAGAGCATACATAGGGTTTCTCTTGGTTTCTTTGATTATAATTCATACATTTTTCTCTAACTGCAAACATAATGTTTTCCCTTGTATTTTACAGATGCAAACAGCTATAATTTTGCAAAAAAGGAAAATAACTCTCCTGAACATCTAAAAGATGAAGTTTCTATCATCCAAAGTATGGGCTACAGAAACCGTGCCAAAAGACTTCTACAGAGTGAACCCGAAAATCCTTCCTTGGTAAAACCATTTGTTTTCTTCTTCTTCTTCTTC', 'intronr_len': 100}, 'metadata': {'variant': {'STR': \"17:41256277:ATC:['A']\", 'REF': 'ATC', 'POS': 41256277, 'ALT': 'A', 'CHROM': '17', 'ID': '125669'}, 'ExonInterval': {'name': 'ENSE00001917948', 'Exon_End': 41256278, 'start': 41256106, 'order': 5, 'isLast': False, 'intronl_len': 100, 'intronr_len': 100, 'isFirst': False, 'end': 41256378, 'seqid': '17', 'strand': '-', 'Exon_Start': 41256206, 'gene_id': 'ENSG00000012048'}, 'ranges': GenomicRanges(chr='17', start=41256106, end=41256378, id='ENST00000489037', strand='-'), 'annotation': '17_41256206_41256278:-'}, 'inputs_mut': {'intronl_len': 100, 'seq': 'ACACAACAAAGAGCATACATAGGGTTTCTCTTGGTTTCTTTGATTATAATTCATACATTTTTCTCTAACTGCAAACATAATGTTTTCCCTTGTATTTTACATGCAAACAGCTATAATTTTGCAAAAAAGGAAAATAACTCTCCTGAACATCTAAAAGATGAAGTTTCTATCATCCAAAGTATGGGCTACAGAAACCGTGCCAAAAGACTTCTACAGAGTGAACCCGAAAATCCTTCCTTGGTAAAACCATTTGTTTTCTTCTTCTTCTTCTTC', 'intronr_len': 100}}, {'inputs': {'intronl_len': 100, 'seq': 'ACAACAAAGAGCATACATAGGGTTTCTCTTGGTTTCTTTGATTATAATTCATACATTTTTCTCTAACTGCAAACATAATGTTTTCCCTTGTATTTTACAGATGCAAACAGCTATAATTTTGCAAAAAAGGAAAATAACTCTCCTGAACATCTAAAAGATGAAGTTTCTATCATCCAAAGTATGGGCTACAGAAACCGTGCCAAAAGACTTCTACAGAGTGAACCCGAAAATCCTTCCTTGGTAAAACCATTTGTTTTCTTCTTCTTCTTCTTCTTCTTTTCTTTTTTTTTTCTTTTTTTTTTTTGAGATGGAGTCTTGCTCTGTGGCCCAGGCTAGAAGC', 'intronr_len': 100}, 'metadata': {'variant': {'STR': \"17:41256277:ATC:['A']\", 'REF': 'ATC', 'POS': 41256277, 'ALT': 'A', 'CHROM': '17', 'ID': '125669'}, 'ExonInterval': {'name': 'ENSE00003513709', 'Exon_End': 41256278, 'start': 41256039, 'order': 6, 'isLast': False, 'intronl_len': 100, 'intronr_len': 100, 'isFirst': False, 'end': 41256378, 'seqid': '17', 'strand': '-', 'Exon_Start': 41256139, 'gene_id': 'ENSG00000012048'}, 'ranges': GenomicRanges(chr='17', start=41256039, end=41256378, id='ENST00000357654', strand='-'), 'annotation': '17_41256139_41256278:-'}, 'inputs_mut': {'intronl_len': 100, 'seq': 'ACACAACAAAGAGCATACATAGGGTTTCTCTTGGTTTCTTTGATTATAATTCATACATTTTTCTCTAACTGCAAACATAATGTTTTCCCTTGTATTTTACATGCAAACAGCTATAATTTTGCAAAAAAGGAAAATAACTCTCCTGAACATCTAAAAGATGAAGTTTCTATCATCCAAAGTATGGGCTACAGAAACCGTGCCAAAAGACTTCTACAGAGTGAACCCGAAAATCCTTCCTTGGTAAAACCATTTGTTTTCTTCTTCTTCTTCTTCTTCTTTTCTTTTTTTTTTCTTTTTTTTTTTTGAGATGGAGTCTTGCTCTGTGGCCCAGGCTAGAAGC', 'intronr_len': 100}}]\n",
      "\n",
      "[{'inputs': {'intronl_len': 100, 'seq': 'TAACAGCTCAAAGTTGAACTTATTCACTAAGAATAGCTTTATTTTTAAATAAATTATTGAGCCTCATTTATTTTCTTTTTCTCCCCCCCTACCCTGCTAGTCTGGAGTTGATCAAGGAACCTGTCTCCACAAAGTGTGACCACATATTTTGCAAGTAAGTTTGAATGTGTTATGTGGCTCCATTATTAGCTTTTGTTTTTGTCCTTCATAACCCAGGAAACACCTAACTTTATAGAAGCTTTACTTTCTTCAAT', 'intronr_len': 100}, 'metadata': {'variant': {'STR': \"17:41267742:CTT:['C']\", 'REF': 'CTT', 'POS': 41267742, 'ALT': 'C', 'CHROM': '17', 'ID': '54208'}, 'ExonInterval': {'name': 'ENSE00003510592', 'Exon_End': 41267796, 'start': 41267643, 'order': 3, 'isLast': False, 'intronl_len': 100, 'intronr_len': 100, 'isFirst': False, 'end': 41267896, 'seqid': '17', 'strand': '-', 'Exon_Start': 41267743, 'gene_id': 'ENSG00000012048'}, 'ranges': GenomicRanges(chr='17', start=41267643, end=41267896, id='ENST00000357654', strand='-'), 'annotation': '17_41267743_41267796:-'}, 'inputs_mut': {'intronl_len': 100, 'seq': 'TAACAGCTCAAAGTTGAACTTATTCACTAAGAATAGCTTTATTTTTAAATAAATTATTGAGCCTCATTTATTTTCTTTTTCTCCCCCCCTACCCTGCTAGTCTGGAGTTGATCAAGGAACCTGTCTCCACAAAGTGTGACCACATATTTTGCGTAAGTTTGAATGTGTTATGTGGCTCCATTATTAGCTTTTGTTTTTGTCCTTCATAACCCAGGAAACACCTAACTTTATAGAAGCTTTACTTTCTTCAATTA', 'intronr_len': 100}}]\n",
      "\n",
      "[{'inputs': {'intronl_len': 100, 'seq': 'CAAATCTTAAATTTACTTTATTTTAAAATGATAAAATGAAGTTGTCATTTTATAAACCTTTTAAAAAGATATATATATATGTTTTTCTAATGTGTTAAAGTTCATTGGAACAGAAAGAAATGGATTTATCTGCTCTTCGCGTTGAAGAAGTACAAAATGTCATTAATGCTATGCAGAAAATCTTAGAGTGTCCCATCTGGTAAGTCAGCACAAGAGTGTATTAATTTGGGATTCCTATGATTATCTCCTATGCAAATGAACAGAATTGACCTTACATACTAGGGAAGAAAAGACATGTC', 'intronr_len': 100}, 'metadata': {'variant': {'STR': \"17:41276033:C:['CCAGATG']\", 'REF': 'C', 'POS': 41276033, 'ALT': 'CCAGATG', 'CHROM': '17', 'ID': '55692'}, 'ExonInterval': {'name': 'ENSE00003559512', 'Exon_End': 41276132, 'start': 41275934, 'order': 2, 'isLast': False, 'intronl_len': 100, 'intronr_len': 100, 'isFirst': False, 'end': 41276232, 'seqid': '17', 'strand': '-', 'Exon_Start': 41276034, 'gene_id': 'ENSG00000012048'}, 'ranges': GenomicRanges(chr='17', start=41275934, end=41276232, id='ENST00000357654', strand='-'), 'annotation': '17_41276034_41276132:-'}, 'inputs_mut': {'intronl_len': 100, 'seq': 'CAAATCTTAAATTTACTTTATTTTAAAATGATAAAATGAAGTTGTCATTTTATAAACCTTTTAAAAAGATATATATATATGTTTTTCTAATGTGTTAAAGTTCATTGGAACAGAAAGAAATGGATTTATCTGCTCTTCGCGTTGAAGAAGTACAAAATGTCATTAATGCTATGCAGAAAATCTTAGAGTGTCCCATCTGCATCTGGTAAGTCAGCACAAGAGTGTATTAATTTGGGATTCCTATGATTATCTCCTATGCAAATGAACAGAATTGACCTTACATACTAGGGAAGAAAAGA', 'intronr_len': 100}}]\n",
      "\n",
      "[{'inputs': {'intronl_len': 100, 'seq': 'TGACATGAGCTGTTTCATTTATGCTTTGGCTGCCCAGCAAGTATGATTTGTCCTTTCACAATTGGTGGCGATGGTTTTCTCCTTCCATTTATCTTTCTAGGTCATCCCCTTCTAAATGCCCATCATTAGATGATAGGTGGTACATGCACAGTTGCTCTGGGAGTCTTCAGAATAGAAACTACCCATCTCAAGAGGAGCTCATTAAGGTTGTTGATGTGGAGGAGCAACAGCTGGAAGAGTCTGGGCCACACGATTTGACGGAAACATCTTACTTGCCAAGGCAAGATCTAGGTAATATTTCATCTGCTGTATTGGAACAAACACTTTGATTTTACTCTGAATCCTACATAAAGATATTCTGGTTAACCAACTTTTAGATGTACTAGTCTAT', 'intronr_len': 100}, 'metadata': {'variant': {'STR': \"17:41226347:C:['CT']\", 'REF': 'C', 'POS': 41226347, 'ALT': 'CT', 'CHROM': '17', 'ID': '431265'}, 'ExonInterval': {'name': 'ENSE00003537850', 'Exon_End': 41226538, 'start': 41226248, 'order': 14, 'isLast': False, 'intronl_len': 100, 'intronr_len': 100, 'isFirst': False, 'end': 41226638, 'seqid': '17', 'strand': '-', 'Exon_Start': 41226348, 'gene_id': 'ENSG00000012048'}, 'ranges': GenomicRanges(chr='17', start=41226248, end=41226638, id='ENST00000357654', strand='-'), 'annotation': '17_41226348_41226538:-'}, 'inputs_mut': {'intronl_len': 100, 'seq': 'TGACATGAGCTGTTTCATTTATGCTTTGGCTGCCCAGCAAGTATGATTTGTCCTTTCACAATTGGTGGCGATGGTTTTCTCCTTCCATTTATCTTTCTAGGTCATCCCCTTCTAAATGCCCATCATTAGATGATAGGTGGTACATGCACAGTTGCTCTGGGAGTCTTCAGAATAGAAACTACCCATCTCAAGAGGAGCTCATTAAGGTTGTTGATGTGGAGGAGCAACAGCTGGAAGAGTCTGGGCCACACGATTTGACGGAAACATCTTACTTGCCAAGGCAAGATCTAGAGTAATATTTCATCTGCTGTATTGGAACAAACACTTTGATTTTACTCTGAATCCTACATAAAGATATTCTGGTTAACCAACTTTTAGATGTACTAGTCTA', 'intronr_len': 100}}]\n",
      "\n",
      "[{'inputs': {'intronl_len': 100, 'seq': 'GTCAATTTATTTTGTCCATGGTGTCAAGTTTCTCTTCAGGAGGAAAAGCACAGAACTGGCCAACAATTGCTTGACTGTTCTTTACCATACTGTTTAGCAGGAAACCAGTCTCAGTGTCCAACTCTCTAACCTTGGAACTGTGAGAACTCTGAGGACAAAGCAGCGGATACAACCTCAAAAGACGTCTGTCTACATTGAATTGGGTAAGGGTCTCAGGTTTTTTAAGTATTTAATAATAATTGCTGGATTCCTTATCTTATAGTTTTGCCAAAAATCTTGGTCATAATTTGTATTTGTGGTAGG', 'intronr_len': 100}, 'metadata': {'variant': {'STR': \"17:41251814:CTTTTGAGGTTGTATCCGCTGCTTTGTCCTCAGAGTTCTCACAGTTCCAAGGTTAGAGAGTTGGACACTGAGACTGGTTTCCTGCTAAACAGTATGGTAAAGAACAGTCAAGCAATTGTTGGCCAGT:['C']\", 'REF': 'CTTTTGAGGTTGTATCCGCTGCTTTGTCCTCAGAGTTCTCACAGTTCCAAGGTTAGAGAGTTGGACACTGAGACTGGTTTCCTGCTAAACAGTATGGTAAAGAACAGTCAAGCAATTGTTGGCCAGT', 'POS': 41251814, 'ALT': 'C', 'CHROM': '17', 'ID': '267223'}, 'ExonInterval': {'name': 'ENSE00003477699', 'Exon_End': 41251894, 'start': 41251692, 'order': 7, 'isLast': False, 'intronl_len': 100, 'intronr_len': 100, 'isFirst': False, 'end': 41251994, 'seqid': '17', 'strand': '-', 'Exon_Start': 41251792, 'gene_id': 'ENSG00000012048'}, 'ranges': GenomicRanges(chr='17', start=41251692, end=41251994, id='ENST00000461221', strand='-'), 'annotation': '17_41251792_41251894:-'}, 'inputs_mut': {'intronl_len': 100, 'seq': 'CCTGCTCCAGCCTCCCAAAGTGCTGGGATTATAGGCATGAGCTACCGCTCCCAGCCCCAGACATTTTAGTGTGTAAATTCCTGGGCATTTTTTCCAGGCATCATACATGTTAGCTGACTGATGATGGTCAATTTATTTTGTCCATGGTGTCAAGTTTCTCTTCAGGAGGAAAAGCACAGAGACGTCTGTCTACATTGAATTGGGTAAGGGTCTCAGGTTTTTTAAGTATTTAATAATAATTGCTGGATTCCTTATCTTATAGTTTTGCCAAAAATCTTGGTCATAATTTGTATTTGTGGTAGG', 'intronr_len': 100}}, {'inputs': {'intronl_len': 100, 'seq': 'ATGGTCAATTTATTTTGTCCATGGTGTCAAGTTTCTCTTCAGGAGGAAAAGCACAGAACTGGCCAACAATTGCTTGACTGTTCTTTACCATACTGTTTAGCAGGAAACCAGTCTCAGTGTCCAACTCTCTAACCTTGGAACTGTGAGAACTCTGAGGACAAAGCAGCGGATACAACCTCAAAAGACGTCTGTCTACATTGAATTGGGTAAGGGTCTCAGGTTTTTTAAGTATTTAATAATAATTGCTGGATTCCTTATCTTATAGTTTTGCCAAAAATCTTGGTCATAATTTGTATTTGTGGTAGG', 'intronr_len': 100}, 'metadata': {'variant': {'STR': \"17:41251814:CTTTTGAGGTTGTATCCGCTGCTTTGTCCTCAGAGTTCTCACAGTTCCAAGGTTAGAGAGTTGGACACTGAGACTGGTTTCCTGCTAAACAGTATGGTAAAGAACAGTCAAGCAATTGTTGGCCAGT:['C']\", 'REF': 'CTTTTGAGGTTGTATCCGCTGCTTTGTCCTCAGAGTTCTCACAGTTCCAAGGTTAGAGAGTTGGACACTGAGACTGGTTTCCTGCTAAACAGTATGGTAAAGAACAGTCAAGCAATTGTTGGCCAGT', 'POS': 41251814, 'ALT': 'C', 'CHROM': '17', 'ID': '267223'}, 'ExonInterval': {'name': 'ENSE00003642045', 'Exon_End': 41251897, 'start': 41251692, 'order': 7, 'isLast': False, 'intronl_len': 100, 'intronr_len': 100, 'isFirst': False, 'end': 41251997, 'seqid': '17', 'strand': '-', 'Exon_Start': 41251792, 'gene_id': 'ENSG00000012048'}, 'ranges': GenomicRanges(chr='17', start=41251692, end=41251997, id='ENST00000357654', strand='-'), 'annotation': '17_41251792_41251897:-'}, 'inputs_mut': {'intronl_len': 100, 'seq': 'AGTCCTGCTCCAGCCTCCCAAAGTGCTGGGATTATAGGCATGAGCTACCGCTCCCAGCCCCAGACATTTTAGTGTGTAAATTCCTGGGCATTTTTTCCAGGCATCATACATGTTAGCTGACTGATGATGGTCAATTTATTTTGTCCATGGTGTCAAGTTTCTCTTCAGGAGGAAAAGCACAGAGACGTCTGTCTACATTGAATTGGGTAAGGGTCTCAGGTTTTTTAAGTATTTAATAATAATTGCTGGATTCCTTATCTTATAGTTTTGCCAAAAATCTTGGTCATAATTTGTATTTGTGGTAGG', 'intronr_len': 100}}, {'inputs': {'intronl_len': 100, 'seq': 'ATGGTCAATTTATTTTGTCCATGGTGTCAAGTTTCTCTTCAGGAGGAAAAGCACAGAACTGGCCAACAATTGCTTGACTGTTCTTTACCATACTGTTTAGCAGGAAACCAGTCTCAGTGTCCAACTCTCTAACCTTGGAACTGTGAGAACTCTGAGGACAAAGCAGCGGATACAACCTCAAAAGACGTCTGTCTACATTGAATTGGGTAAGGGTCTCAGGTTTTTTAAGTATTTAATAATAATTGCTGGA', 'intronr_len': 100}, 'metadata': {'variant': {'STR': \"17:41251814:CTTTTGAGGTTGTATCCGCTGCTTTGTCCTCAGAGTTCTCACAGTTCCAAGGTTAGAGAGTTGGACACTGAGACTGGTTTCCTGCTAAACAGTATGGTAAAGAACAGTCAAGCAATTGTTGGCCAGT:['C']\", 'REF': 'CTTTTGAGGTTGTATCCGCTGCTTTGTCCTCAGAGTTCTCACAGTTCCAAGGTTAGAGAGTTGGACACTGAGACTGGTTTCCTGCTAAACAGTATGGTAAAGAACAGTCAAGCAATTGTTGGCCAGT', 'POS': 41251814, 'ALT': 'C', 'CHROM': '17', 'ID': '267223'}, 'ExonInterval': {'name': 'ENSE00001886573', 'Exon_End': 41251897, 'start': 41251748, 'order': 7, 'isLast': False, 'intronl_len': 100, 'intronr_len': 100, 'isFirst': False, 'end': 41251997, 'seqid': '17', 'strand': '-', 'Exon_Start': 41251848, 'gene_id': 'ENSG00000012048'}, 'ranges': GenomicRanges(chr='17', start=41251748, end=41251997, id='ENST00000461798', strand='-'), 'annotation': '17_41251848_41251897:-'}, 'inputs_mut': {'intronl_len': 100, 'seq': 'CTGGGCATTTTTTCCAGGCATCATACATGTTAGCTGACTGATGATGGTCAATTTATTTTGTCCATGGTGTCAAGTTTCTCTTCAGGAGGAAAAGCACAGAGACGTCTGTCTACATTGAATTGGGTAAGGGTCTCAGGTTTTTTAAGTATTTAATAATAATTGCTGGATTCCTTATCTTATAGTTTTGCCAAAAATCTTGG', 'intronr_len': 100}}]\n",
      "\n"
     ]
    }
   ],
   "source": [
    "dl = list(SplicingVCFDataloader(gtfIntervalTree, \n",
    "                          fasta,\n",
    "                          vcf,\n",
    "                          out_file=gtfIntervalTree,\n",
    "                          split_seq=False, overhang=(100,100)))\n",
    "\n",
    "for k in diff_series.keys():\n",
    "    print(list(filter(lambda x: x['metadata']['variant']['STR'] == k, dl)))\n",
    "    print()"
   ]
  },
  {
   "cell_type": "code",
   "execution_count": 25,
   "metadata": {},
   "outputs": [
    {
     "data": {
      "text/plain": [
       "[\"17:41205890:GCAGGAGAATCACTTGAACCCTGGAGGCAGAGATTGCGGTGAGCCAAGATCACGCCATTGTACTTCAGCCTGGGCAAGAAGAGCAAAGCTTCGTCTTAAAAAAAAAAAAAAAGAAATTTGAAGTTTCACCTCTACATATACATTTCTCTTCCAGAGAAAAATACTATGGTGACATTTAGTATTTTCAGAATGTCATTACTTTGACCACATACTTTCCATCATTGCTATTCTGCATGGAGGAAAAAATCCAAAGCACTAGAATTTCTTTTTAAAGAGGGGAAGAATCTGGTGCTAATACTGCCTAGCATACAGTGGAGGAAAAACAGAGGACTGGCTCACATGGCGCTCCCCTGTGGTAAAGGCAGAAGCAGAAATAAGGCCAGCAGCTTTTCTTGGCATCTGGAACAATTACTTGATAGGCTCAGAAGGTAAAAACAGGCTGACCTCAGCAGTTCAAAACTCCAGGCTTCATTTGTGATCATGTCCCAAAGCAGTTTTCCTTAGGAAATTACCTCTACTGGTTCCCTCTTAAGTTTCTATAAAGGGACAGAAAGTGCTCAGTAGAAGGATGTTTTGTTTTGTTTTGAGACAAGGTCTCACAATGTTGGCCAGGCTGGAGTGCAGTAGCACCATCATGGCTCACTGCAGCCTCGACCTCCCAGACTCAAGCATTCTTCTCACCTCAGCCTCCTGAGTAGCTGGGAATACAAGAGTGTGCTACGACACCCAATTAATTTTTAAATTTTTTTGTAGAGACAGGGTCTTACTATGTTGCCCAGGCTAGTCTTGAACTCCTGGGCTCAAGTGATCCTCCTGCCTTGGCCTCCTAAAGTGCTGGGATTACAGAAGTGAGCCGCTGTGCCCAGCTGGGATTTTTTTTTTTTTTTTGAGATGAAGTCTCCCTCTTGTCCCCAGGCTAGAGTGCAGTGGCGCAATCTTGGCTCACTGCAACCTCCGCCTCCTGGGTTCAACCGATTCTCTAGCCTCAGCCTCCCGAGTAATCCTGAGCTAGGATTACAGGTGCCTACCACCACGCCCAGTTAACTTTTGTATTTTTAGTAGAGATGGGGTTTCACCATGTTGGCCAGGCTGGTCTCGAACTCCTGACCTCAGGTGATCCACCCGCCTTGGGCTCCCAAAGTGCTGGGATCACAGGTGTGAGCCACCGCGACCAGCCTGGGATGTTCTGAAATGCCTGGTAGTGCACACTTGAAAAAGGAAGAAAAGCAGACTGGGAACATAGCACTTAGGGAGCTGAGAAAGCAGCCAGCTCAGGCCTGACAGGTAAGTGTGAAATCTTGCAGACTTTCTCCCTGTGAGGAAGTCAGAGTTCTGGCTAAGTCATCTGCTACAATATGATCAGGAGAAAGTCATTGAGTCTTCTTGGGTCTCATCTGCAAAGTTGTTAGAATGCTCCATTTTTTTTCCCTCCGTGAAGCCTTCAACAACTTTTCAAGAAACTATAGTATTGTTGTTAAGAGTTTAGAATTGGAGGCCGGGTGCAGTGGCTCATGCTTGTAATCCCAGCACTTTGGGAAGCCAAGGCGGGTGGATCACTGGAGGCCAGGAGATCAAGGCCAGCCTGGCCAACATGGCAAAACCCCATCTCTAATAAAAATATAAAAATTAAGGCCGGGTGCAGTGGCTCATGCCTGTAATCCCAGCACTTTGGGAGCCTGAGGCGGGCAGATGATCTGAGGTCTGGAATTTGAGACCAGCCTGGCCAACATGTTGAAACCTTGTTTCTATTAAAAATACAAAAAACTATCTCGGTGTGGTGGCACGTGCCTGTAATCCCAGCTATTTGGGAGGCTAAGGCACGAGAATCACTTGAACCTGGGAGCTGGAGACTGCAGTGAGCTGAGATTGCGCCACTGCACTCCAGACTGGCCAACAGAATCAGACAAAAAATTAGCTAGTTGTTGTGGCACATGCCTGTAATCCTAGCCACTTGGGAGGCCAAGGCACAAGAATTGAACAAGGTTTGAACTTGGGAGGTGAAGGTTGCAGTGAGCAGAGATAGTGGCACTGCACTCCAGCCTGGGTGACAGAGTAAGACTCTGGCCCGAAAAATAAATTAACAAAGAATTTAGACTTGGAGCTAGACTTCCTGAGTTCAACTTCTAGTTCCATCACTTATTACCTGTGTGACTTTGAGCAACTTATTCAACCTCTCTGAGCCTCAATTTTCACATCTGTAATATAGGCATAATTACAGTACATAGCTCATAGAGTTGTCATAAAATTGTTAATTAGTTAAAACATGGTTGGGCCTTTAGAGCAGTCCCAGCATAAAGTGATCTTTTTTTTTTTTTTTTCTTTTGAGATCTTCTGTCTGTCGTCTAGGCTGGAGTGCAGTGGCGCAATCTCCGTTCACTGTAGTCCCCTCTTCTTGGGCTCAAGAGATACTCTCAACTCAGCCTTCCGAGTAGCTGGAACTACAAGTACATGCCACCACGCCTGGCTAATTTTTGTATATTTTTTTTGGTAGAGATGGGGTTTTGCCATGTTGCCCAGGCTGGTATCGAACTCCTTGGCTCAAGCGATCTGCCTGCCTCAGCTTCCCAAAGTGCTGGGATAACAGGAACGAGCCGCTGTGCCTGGCCCAGTGAACATTATATAAATTTTAGCTATTATTGGCTGGGCACGGTGGCTCACGCCTATCCCAGCACTTGGGGAGGCCAAGGCGGGAGGATCACAAGGTCAGGGGTTCAAGACCAGCCTGGGCAAGATGAGTTTTCAGTGAGCTGAGATCGCACCACTGCACTCTGGCCTGGGCAATGGAGTGAGACTCCGTCTTGGGAAAAAAAAAAAGAGAGAGAGAGAGCAAGAGAGAGAGAGAGAAAGACACCCCAGTGAAGTGAAAAGAGCAAAGTCTTTAGATTCTCATCTGCTTAAAGTCCCAGCTCTTCCACTTATCAGCTAAGATCTGAACCCGAGACGGGAATCCAAATTACACAGCCTCTCTAAATCTCTTAGTTTTATCATTCATAAAGTAGAGACAATACTTATTTATGTGGTTGGGATGGAAGAGTGAAAAAAGAACCTGTGTGAAAGTATCTAGCACTGTGTATGTATGTAATAAGTCTTACAAAATGAAGCGGCCCATCTCTGCAAAGGGGAGTGGAATACAGAGTGGTGGGGTGAGATTTTTGTCAACTTGAGGGAGGGAGCTTTACCTTTCTGTCCTGGGATTCTCTT:['G']\",\n",
       " \"17:41266735:TTTACCAAGTACATAGTTTGTACCTGGTACCAGGTTATGTACCAGGTACATAAATACTTAAAAACAAATTAGTTGACATTTAAGGTAAGATGTGAGCCATAGCTTAACATAAAGAAAAGGAGAAAGCCCACTTGTTCTACTAAATTACCTACTCTACTTTTTCTGAAATTCTTTTATTAAGAAACAAACATTTTCATTTCAAAAGACAAGATCATCAAATACGTAAATATAACTTGAATCACTGCTATAAATGAATTTTGGCCTAAATAGAAACTGGTATCAGGTCCTTTCCTGTCTTCACAATGATTACAAAGCGGGCAAACACTGACCCTTAGAAGGGGGAATGCATAAGGATATGCAGAAATGAACAGAAAGGAGAAACTGGGAAGGCTCAAACACAATGTGCTTATTTCAAAACTGCTTGCAGTTTGCTTTCACTGATGGACACAAAAAATACAAAACACTGTTCAAAATGATGTTACATCCTAATAGATAATATATGTCAGTCGGGTGTGGTGGCTCACGCCTGTAATCCCAGAACTTTGGGAGGCCGAGGCAGGTGGATCACAAGGTCAGGAGTTCGAGACCAGCCTGGCCAATATGGTGAAACCTTATCTCTACTAAAAGTACAAAAATTAGCCAAGCATGGTGGCGGGTGCCTGTAGTCCCAGCTACCTGGGAGGCTGAGGTAGAAGAATCGCTTGAACTCGGGGGGCGGAGGTTGCAGTGAGCCAAGATCATGCCACTGCACTCCAGCCTGGGCGACAGAGCGAGACTTTGTCTCAAAAAAAAAAAAAAAGATAATATATGTCAAAACTTTACCAGGAACTATGATTACAACCAACTTTTGATAACTATATACTCTCTGAGAAAGAATGAAATGGAGTTGGATTTTTCGTTCTCACTTAATTGAAGAAAGTAAAGCTTCTATAAAGTTAGGTGTTTCCTGGGTTATGAAGGACAAAAACAAAAGCTAATAATGGAGCCACATAACACATTCAAACTTACTTGCAAAATATGTGGTCACACTTTGTGGAG:['T']\",\n",
       " \"17:41200737:CATGTTGGCCAGGCTGGTCTCAAACTCCTGACAAGTGATCCACCTGCCTCGGCCTCCCAAAGTGCTGGGATTACAGACATGAGCCACCATGCCCAGCCTCCAGCCCATCATTTCTTGATGATTTGTTGAAACACAGTATGCTGGGGCAGTCACAGAGAGGAGGGGGAGGGACATATGGGAAAAAGAGTTAGAGGGAAAAAGTCTTCCCTCAGTATATTTAATATGTGCAGTTCTCAAATCCTTACCCATCCCTTACAGATGGAGTCTTTTGGCACAGGTATGTGGGCAGAGAAGACTTCTGAGGCTACAGTAGGGGCATCCATAGGGACTGACAGGTGCCAGTCTTGCTCACAGGAGAGAATATTGTGTCCTCCCTCTCTGACAGGGCACCCAATACTTACTGTGCCAAGGGTGAATGATGAAAGCTCCTTCACCACAGAAGCACCACACAGCTGTACCATCCATTCCAGTTGATCTAAAATGGACATTTAGATGTAAAATCACTGCAGTA:['C']\",\n",
       " \"17:41206280:TCTTGGCATCTGGAACAATTACTTGATAGGCTCAGAAGGTAAAAACAGGCTGACCTCAGCAGTTCAAAACTCCAGGCTTCATTTGTGATCATGTCCCAAAGCAGTTTTCCTTAGGAAATTACCTCTACTGGTTCCCTCTTAAGTTTCTATAAAGGGACAGAAAGTGCTCAGTAGAAGGATGTTTTGTTTTGTTTTGAGACAAGGTCTCACAATGTTGGCCAGGCTGGAGTGCAGTAGCACCATCATGGCTCACTGCAGCCTCGACCTCCCAGACTCAAGCATTCTTCTCACCTCAGCCTCCTGAGTAGCTGGGAATACAAGAGTGTGCTACGACACCCAATTAATTTTTAAATTTTTTTGTAGAGACAGGGTCTTACTATGTTGCCCAGGCTAGTCTTGAACTCCTGGGCTCAAGTGATCCTCCTGCCTTGGCCTCCTAAAGTGCTGGGATTACAGAAGTGAGCCGCTGTGCCCAGCTGGGATTTTTTTTTTTTTTTTGAGATGAAGTCTCCCTCTTGTCCCCAGGCTAGAGTGCAGTGGCGCAATCTTGGCTCACTGCAACCTCCGCCTCCTGGGTTCAACCGATTCTCTAGCCTCAGCCTCCCGAGTAATCCTGAGCTAGGATTACAGGTGCCTACCACCACGCCCAGTTAACTTTTGTATTTTTAGTAGAGATGGGGTTTCACCATGTTGGCCAGGCTGGTCTCGAACTCCTGACCTCAGGTGATCCACCCGCCTTGGGCTCCCAAAGTGCTGGGATCACAGGTGTGAGCCACCGCGACCAGCCTGGGATGTTCTGAAATGCCTGGTAGTGCACACTTGAAAAAGGAAGAAAAGCAGACTGGGAACATAGCACTTAGGGAGCTGAGAAAGCAGCCAGCTCAGGCCTGACAGGTAAGTGTGAAATCTTGCAGACTTTCTCCCTGTGAGGAAGTCAGAGTTCTGGCTAAGTCATCTGCTACAATATGATCAGGAGAAAGTCATTGAGTCTTCTTGGGTCTCATCTGCAAAGTTGTTAGAATGCTCCATTTTTTTTCCCTCCGTGAAGCCTTCAACAACTTTTCAAGAAACTATAGTATTGTTGTTAAGAGTTTAGAATTGGAGGCCGGGTGCAGTGGCTCATGCTTGTAATCCCAGCACTTTGGGAAGCCAAGGCGGGTGGATCACTGGAGGCCAGGAGATCAAGGCCAGCCTGGCCAACATGGCAAAACCCCATCTCTAATAAAAATATAAAAATTAAGGCCGGGTGCAGTGGCTCATGCCTGTAATCCCAGCACTTTGGGAGCCTGAGGCGGGCAGATGATCTGAGGTCTGGAATTTGAGACCAGCCTGGCCAACATGTTGAAACCTTGTTTCTATTAAAAATACAAAAAACTATCTCGGTGTGGTGGCACGTGCCTGTAATCCCAGCTATTTGGGAGGCTAAGGCACGAGAATCACTTGAACCTGGGAGCTGGAGACTGCAGTGAGCTGAGATTGCGCCACTGCACTCCAGACTGGCCAACAGAATCAGACAAAAAATTAGCTAGTTGTTGTGGCACATGCCTGTAATCCTAGCCACTTGGGAGGCCAAGGCACAAGAATTGAACAAGGTTTGAACTTGGGAGGTGAAGGTTGCAGTGAGCAGAGATAGTGGCACTGCACTCCAGCCTGGGTGACAGAGTAAGACTCTGGCCCGAAAAATAAATTAACAAAGAATTTAGACTTGGAGCTAGACTTCCTGAGTTCAACTTCTAGTTCCATCACTTATTACCTGTGTGACTTTGAGCAACTTATTCAACCTCTCTGAGCCTCAATTTTCACATCTGTAATATAGGCATAATTACAGTACATAGCTCATAGAGTTGTCATAAAATTGTTAATTAGTTAAAACATGGTTGGGCCTTTAGAGCAGTCCCAGCATAAAGTGATCTTTTTTTTTTTTTTTTCTTTTGAGATCTTCTGTCTGTCGTCTAGGCTGGAGTGCAGTGGCGCAATCTCCGTTCACTGTAGTCCCCTCTTCTTGGGCTCAAGAGATACTCTCAACTCAGCCTTCCGAGTAGCTGGAACTACAAGTACATGCCACCACGCCTGGCTAATTTTTGTATATTTTTTTTGGTAGAGATGGGGTTTTGCCATGTTGCCCAGGCTGGTATCGAACTCCTTGGCTCAAGCGATCTGCCTGCCTCAGCTTCCCAAAGTGCTGGGATAACAGGAACGAGCCGCTGTGCCTGGCCCAGTGAACATTATATAAATTTTAGCTATTATTGGCTGGGCACGGTGGCTCACGCCTATCCCAGCACTTGGGGAGGCCAAGGCGGGAGGATCACAAGGTCAGGGGTTCAAGACCAGCCTGGGCAAGATGAGTTTTCAGTGAGCTGAGATCGCACCACTGCACTCTGGCCTGGGCAATGGAGTGAGACTCCGTCTTGGGAAAAAAAAAAAGAGAGAGAGAGAGCAAGAGAGAGAGAGAGAAAGACACCCCAGTGAAGTGAAAAGAGCAAAGTCTTTAGATTCTCATCTGCTTAAAGTCCCAGCTCTTCCACTTATCAGCTAAGATCTGAACCCGAGACGGGAATCCAAATTACACAGCCTCTCTAAATCTCTTAGTTTTATCATTCATAAAGTAGAGACAATACTTATTTATGTGGTTGGGATGGAAGAGTGAAAAAAGAACCTGTGTGAAAGTATCTAGCACTGTGTATGTATGTAATAAGTCTTACAAAATGAAGCGGCCCATCTCTGCAAAGGGGAGTGGAATACAGAGTGGTGGGGTGAGATTTTTGTCAACTTGAGGGAGGGAGCTTTACCTTTCTGTCCTGGGATTCTCTTGCTCGCTTTGGAC:['T']\"]"
      ]
     },
     "execution_count": 25,
     "metadata": {},
     "output_type": "execute_result"
    }
   ],
   "source": [
    "list(set(df_plugin_predictionsMax.index) - set(df_python_predictionsMax.index))"
   ]
  },
  {
   "cell_type": "code",
   "execution_count": 26,
   "metadata": {},
   "outputs": [
    {
     "data": {
      "text/plain": [
       "[\"17:41201156:TGAAAGCTCCTTCACCACAGAAGCACCACACAGCTGTACCATCCATTCCAGTTGATCTAAAATGGACATTTAGATGTAAAATCACTGCAGTAATCTGCATACTTAACCCAGGCCCTCTACCCTACACTCTCCGGATGAAGGCTTATAGCAAGACCTCTCAATGGGAGAGTCTGTCTCTCTGCTCCAAAGGACAATGGTCTTAAAATAGTAGGGGTATGGATTTTAAGTCAATTTGCCACTGATATGCCATGTAC:['T']\",\n",
       " \"17:41219281:TTTTTTTTTTGAGACGGAGCCTTGCTCTGTCGCCAGGCTGGAATGCAGTGGCATGATCTCGGCTCACTGCAACCTCCATCTCCCCGGTTCAAGTGATTCTCCTGCCTCAGCCTCACGAGTAGCTGGGACTACAGGCGCACGCGACCACACCCAGCTAATTTTTTTATTTTTTAGTAGAGACGGGGTTTCACCATGCTGGCCAGGATGGTCTCGATCTCCTAATCTCGTGATCTGCCCGCCTCGGCCTCCCAAAGTGCTGCGATTACAGGCATGCGCCACCGTGCCTCGCCTCATGTGGTTTTATGCAGCAGATGCAAGGTATTCTGTAAAGGTTCTTGGTATACCTGTTTTCATAACAACATGAGTAGTCTCTTCAGTAATTAGATTAGTTAAAGTGATGTGGTGTTTTCTGGCAAACTTGTACACGAGCATCTGAAATTAAATCAAATATTCCATTATCATGAGTTACCTCTAGCACACAGCTCAGAATACTAGTTATTCCACCATGGCATATGTTTACCTATGTAGCAATCCTGCACGTTCTACACGTGTCCTGGAACTATTTAAAGTGAATTTTTTTTTTTTTTTTTTTAGACAGAGTCTTGCTCTGTCACCCAGGCTGGAGGTAAAAAAAAAAAAAAAAAAAAAATAGAATACCAGTTATCCTAGCTTTAAGTCTCTGTTTTTCTCAGAAAGGGTACATTTAAAAAATTCTAAGACACCTGAAGTCTCGGCTGGGCGCGGTGGCTCACGCCTGTAATCTCAGCACTTTGGGAGGCTGAGGCGGGCAGATCACAAGGTCAGGAGATCGAGACCATCCTGGCTAACACGGTGAAACCCTGTCTCTACTAAAAATACAAAAAATTAGCCAGGCGTGGTGGCGGGCACCTGTAGTCTCAGCTACTCAGGAGGCTGAGGCAGGAGAATGGCGTGAACCCAGGAAGCAGAGCTTGCAGTAAGCCGAGATGGCGCCACTGCACTCTAGCCTGGGCGAGAGTGCGAGACTCCG:['T']\",\n",
       " \"17:41246646:TTTTCTACATTCATTCTGTCTTTAGTGAGTAATAAACTGCTGTTCTCATGCTGTAATGAGCTGGCATGAGTATTTGTGCCACATGGCTCCACATGCAAGTTTGAAACAGAACTACCCTGATACTTTTCTGGATGCCTCTCAGCTGCACGCTTCTCAGTGGTGTTCAAATCATTATTACTGGGTTGATGATGTTCAGTATTTGTTACATCCGTCTCAGAAAATTCACAAGCAGCTGAAAATATACAAAAATAACAAGGTACTCAAAAACTGAATTGTCATTAAAAAAATACATACTTCATACACCTTGGAGGTGGAAATCAACCAACTGGCTATATTAGAGAAACTAACCTCATAAACTACCAAGTATACTGAAGATGTAGCTCATACTCTTTCATTTAATTCCTATTTACCTAGATTATTTCCACTTAGGATCCATTAAATTTTTAA:['T']\",\n",
       " \"17:41219540:CGATTACAGGCATGCGCCACCGTGCCTCGCCTCATGTGGTTTTATGCAGCAGATGCAAGGTATTCTGTAAAGGTTCTTGGTATACCTGTTTTCATAACAACATGAGTAGTCTCTTCAGTAATTAGATTAGTTAAAGTGATGTGGTGTTTTCTGGCAAACTTGTACACGAGCATCTGAAATTAAATCAAATATTCCATTATCATGAGTTACCTCTAGCACACAGCTCAGAATACTAGTTATTCCACCATGGCATATGTTTACCTATGTAGCAATCCTGCACGTTCTACACGTGTCCTGGAACTATTTAAAGTGAATTTTTTTTTTTTTTTTTTTAGACAGAGTCTTGCTCTGTCACCCAGGCTGGAGGTAAAAAAAAAAAAAAAAAAAAAATAGAATACCAGTTATCCTAGCTTTAAGTCTCTGTTTTTCTCAGAAAGGGTACATTTAAAAAATTCTAAGACACCTGAAGTCTCGGCTGGGCGCGGTGGCTCACGCCTGTAATCTCAGCACTTTGGGAGGCTGAGGCGGGCAGATCACAAGGTCAGGAGATCGAGACCATCCTGGCTAACACGGTGAAACCCTGTCTCTACTAAAAATACAAAAAATTAGCCAGGCGTGGTGGCGGGCACCTGTAGTCTCAGCTACTCAGGAGGCTGAGGCAGGAGAATGGCGTGAACCCAGGAAGCAGAGCTTGCAGTAAGCCGAGATGGCGCCACTGCACTCTAGCCTGGGCGAGAGTGCGAGACTCCGTCTCAAAAAAAAAAAAAAGATACCTGAAGTCTCAAATAAATAGTTTAATAAAAATTATGTACACATCAGCAGACATAAAATTACAACTAAGGATTCAAAATAATATTATAAACCTACTACGTACCACAAAACTTAAAACTTAAAAAATATATACTGGGCCAGACACGGCAGCTCATGCCTATAATCCCAGCACTTTGGGAAGCTGAGGTGGGAGGACTGCTTGAGCTCAAGAGTCTGAGACCAAGACCAGCCTGGGCAATACAGTGAGATTTCATGTCTTTAAAAAAAAAAAAAAGTAAAAAGAAAAAATATATATTAATTTTGCTTTAATAGCAGATATCATTCGATTCCCTAAGATCGTTTCTTTGCATAGTGACACTCTACTGTACTATAAATTTATCAGCCTACACTTTATAAGCTGAGAGGTAACTAGCCTACACAGAAAGTTATGCTACAGATATACATGGCTTAAAACCAAGACTCAACCCTCTGATAGTTACAAAACACTGAAATCAGGATGTTACTAAAGGTCAGTGCAAAAGCGATCAATTCTCTCGTAAGAAGGCTTAGAAGGGGTTCATGTTCTTCCCCAAAGAAATTTAGAGTCCTCTAGCTATTATCTATCAACCAAATAAAAATCAATAGGCAGCAAAAGAAATTAACCAGATCAATTATGGGCACAGTTGACCTAGCTGGTAGGTATTGTCTGATAAATAACTTTGTTTACCAAGGGCCATCATTTACTAGCCATAGCCACAGCCACTCACACCAGTATTTACGTGTTGCACAATACTGCCATGAAGGTCAGGCCATCTTTCTTTCATGTTGCCTCACTCCATACTGCCACAGGGCACTGAAAAAAGGCAGGCTAGAGAAGCTAATGACATCCTCCCCCTTTTGCTACCACCCTCCGCCAGGATCATTAGCAATTCTGAACTGATTAATTGCTGAAATCCCAGCCTTGAAACTGTTCAGTTAGAAGAGCAATGCTGAACTGCTGAAAAGATCATCTTAATATGGGCTTCAGAATTAATCATGTGTAATACAGTCAGTAGCTTTCATCATAAATTTACCACACTTCACCAAGTCTGAATAGAGCTCAAAGTTTTCCTCTTCGCTTGTTTAAAGACAACATGTACCCAAGCCACTTGTAGTCTAATCTGCAGCTCAGAATTGCCTTTGCCAAGAAAGATTAGACCATTTTAGCCATCTCTAAAAAGCTGAACTTGCAAAACAAAGGGATAAAGAACGCTAATTTTCAATGAATAAATAAGGAATTCTGGACGTGCAGGCAAGTGATCAAGAGCCATTGAAACAGACACAGGTAAGAGCTTTCAGAGCAAATTGCTGGTCTGGACATGGGATTATGAGATGAAAACATTTATAGCCATCACTGTGCACTTACTCATTGTATCTACCAGGGCAGCCACAGCTTACTTTGCCCTTTTAGTAGTGGGATACATCTGGCCACAGAGATGTTATGCTAAGTAACTACCTATGGAGAAGTTAGGATGAAAAATCCTAGGAAGGATATATTAATAAAGATATTTCAGAATGACTTGGTCATCTCTCAGTGTGCAATAAATGGCACACCCACTACTGAATCCATTTGATAATCTGGTATGTTATCTCATCATAGTTTTAAAGAAATATTCACGCAATTCTTCTTCTTATTATTGAGACAGAGTTTCGCTCTTGTTGCCCAGGCTGGAGTGCAATGGTGCAATCTCGGCTCACCGCAACCTCCGCCTCCCGGGTTCAAGCAATTCTCCTGCCTCAGCCTCCTGAGTAGCTGGGATTATAGGCATGCGCCACCACGCCCGGCTAATTGTGTATTTTTAGTAAAGATGGGGTTTCTTCATGTTGGTCAGGCTGGTCTTGATCTCCTGACCTTAGGTGATCTGACCACCTCAGCCTCCCAAAGTGCTGGG:['C']\"]"
      ]
     },
     "execution_count": 26,
     "metadata": {},
     "output_type": "execute_result"
    }
   ],
   "source": [
    "list(set(df_python_predictionsMax.index) - set(df_plugin_predictionsMax.index))"
   ]
  }
 ],
 "metadata": {
  "kernelspec": {
   "display_name": "mmsplice",
   "language": "python",
   "name": "mmsplice"
  },
  "language_info": {
   "codemirror_mode": {
    "name": "ipython",
    "version": 3
   },
   "file_extension": ".py",
   "mimetype": "text/x-python",
   "name": "python",
   "nbconvert_exporter": "python",
   "pygments_lexer": "ipython3",
   "version": "3.5.2"
  }
 },
 "nbformat": 4,
 "nbformat_minor": 2
}
