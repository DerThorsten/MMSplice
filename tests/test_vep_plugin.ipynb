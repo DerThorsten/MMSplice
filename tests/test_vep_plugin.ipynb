{
 "cells": [
  {
   "cell_type": "markdown",
   "metadata": {},
   "source": [
    "# Comparison between plugin and python results"
   ]
  },
  {
   "cell_type": "code",
   "execution_count": 1,
   "metadata": {},
   "outputs": [
    {
     "name": "stderr",
     "output_type": "stream",
     "text": [
      "Using TensorFlow backend.\n",
      "/home/muhammedhasan/Projects/EIS/venv/lib/python3.5/site-packages/sklearn/base.py:251: UserWarning: Trying to unpickle estimator HuberRegressor from version 0.19.2 when using version 0.20.0. This might lead to breaking code or invalid results. Use at your own risk.\n",
      "  UserWarning)\n",
      "/home/muhammedhasan/Projects/EIS/venv/lib/python3.5/site-packages/sklearn/base.py:251: UserWarning: Trying to unpickle estimator StandardScaler from version 0.19.2 when using version 0.20.0. This might lead to breaking code or invalid results. Use at your own risk.\n",
      "  UserWarning)\n",
      "/home/muhammedhasan/Projects/EIS/venv/lib/python3.5/site-packages/sklearn/base.py:251: UserWarning: Trying to unpickle estimator LogisticRegression from version 0.19.2 when using version 0.20.0. This might lead to breaking code or invalid results. Use at your own risk.\n",
      "  UserWarning)\n",
      "/home/muhammedhasan/Projects/EIS/venv/lib/python3.5/site-packages/sklearn/base.py:251: UserWarning: Trying to unpickle estimator Pipeline from version 0.19.2 when using version 0.20.0. This might lead to breaking code or invalid results. Use at your own risk.\n",
      "  UserWarning)\n"
     ]
    }
   ],
   "source": [
    "from mmsplice.vcf_dataloader import SplicingVCFDataloader\n",
    "from mmsplice import MMSplice, predict_all_table\n",
    "\n",
    "from mmsplice.utils import max_varEff"
   ]
  },
  {
   "cell_type": "markdown",
   "metadata": {},
   "source": [
    "## mmsplice perl plugin results"
   ]
  },
  {
   "cell_type": "markdown",
   "metadata": {},
   "source": [
    "Run MMSplice and obtain `variant_effect_output.txt` file check VEP_plugin/README.md for more details. "
   ]
  },
  {
   "cell_type": "markdown",
   "metadata": {},
   "source": [
    "Parses `variant_effect_output.txt` file as dataframe"
   ]
  },
  {
   "cell_type": "code",
   "execution_count": 2,
   "metadata": {
    "scrolled": false
   },
   "outputs": [],
   "source": [
    "from cyvcf2 import VCF\n",
    "import pandas as pd\n",
    "from collections import defaultdict\n",
    "\n",
    "score_pred = []\n",
    "\n",
    "keys = [\n",
    "    'mmsplice_alt_acceptor',\n",
    "    'mmsplice_alt_acceptorIntron',\n",
    "    'mmsplice_alt_donor',\n",
    "    'mmsplice_alt_donorIntron',\n",
    "    'mmsplice_alt_exon',\n",
    "    'mmsplice_delta_logit_psi',\n",
    "    'mmsplice_pathogenicity',\n",
    "    'mmsplice_ref_acceptor',\n",
    "    'mmsplice_ref_acceptorIntron',\n",
    "    'mmsplice_ref_donor',\n",
    "    'mmsplice_ref_donorIntron',\n",
    "    'mmsplice_ref_exon'\n",
    "]\n",
    "\n",
    "alt_seqs = defaultdict(list)\n",
    "ref_seqs = defaultdict(list)\n",
    "\n",
    "for l in VCF('../variant_effect_output.txt'):\n",
    "    csq = l.INFO['CSQ'].split(',')\n",
    "    predictions = map(lambda x: tuple(x.split('|')[-len(keys):]), csq)\n",
    "    \n",
    "    for pred in predictions:\n",
    "        if pred != ('',) * len(keys):\n",
    "            x = dict(zip(keys, map(float, pred)))\n",
    "            x['ID'] = \"%s:%d:%s:%s\" % (l.CHROM, int(l.start) + 1, l.REF, l.ALT)\n",
    "            score_pred.append(x)\n",
    "            \n",
    "df_plugin = pd.DataFrame(score_pred)"
   ]
  },
  {
   "cell_type": "code",
   "execution_count": 3,
   "metadata": {},
   "outputs": [],
   "source": [
    "df_plugin_predictionsMax = max_varEff(df_plugin).set_index('ID')"
   ]
  },
  {
   "cell_type": "code",
   "execution_count": 4,
   "metadata": {},
   "outputs": [
    {
     "data": {
      "text/plain": [
       "(17513, 14)"
      ]
     },
     "execution_count": 4,
     "metadata": {},
     "output_type": "execute_result"
    }
   ],
   "source": [
    "df_plugin.shape"
   ]
  },
  {
   "cell_type": "code",
   "execution_count": 5,
   "metadata": {},
   "outputs": [
    {
     "data": {
      "text/html": [
       "<div>\n",
       "<style scoped>\n",
       "    .dataframe tbody tr th:only-of-type {\n",
       "        vertical-align: middle;\n",
       "    }\n",
       "\n",
       "    .dataframe tbody tr th {\n",
       "        vertical-align: top;\n",
       "    }\n",
       "\n",
       "    .dataframe thead th {\n",
       "        text-align: right;\n",
       "    }\n",
       "</style>\n",
       "<table border=\"1\" class=\"dataframe\">\n",
       "  <thead>\n",
       "    <tr style=\"text-align: right;\">\n",
       "      <th></th>\n",
       "      <th>mmsplice_dlogitPsi</th>\n",
       "      <th>mmsplice_alt_acceptor</th>\n",
       "      <th>mmsplice_alt_acceptorIntron</th>\n",
       "      <th>mmsplice_alt_donor</th>\n",
       "      <th>mmsplice_alt_donorIntron</th>\n",
       "      <th>mmsplice_alt_exon</th>\n",
       "      <th>mmsplice_delta_logit_psi</th>\n",
       "      <th>mmsplice_pathogenicity</th>\n",
       "      <th>mmsplice_ref_acceptor</th>\n",
       "      <th>mmsplice_ref_acceptorIntron</th>\n",
       "      <th>mmsplice_ref_donor</th>\n",
       "      <th>mmsplice_ref_donorIntron</th>\n",
       "      <th>mmsplice_ref_exon</th>\n",
       "    </tr>\n",
       "    <tr>\n",
       "      <th>ID</th>\n",
       "      <th></th>\n",
       "      <th></th>\n",
       "      <th></th>\n",
       "      <th></th>\n",
       "      <th></th>\n",
       "      <th></th>\n",
       "      <th></th>\n",
       "      <th></th>\n",
       "      <th></th>\n",
       "      <th></th>\n",
       "      <th></th>\n",
       "      <th></th>\n",
       "      <th></th>\n",
       "    </tr>\n",
       "  </thead>\n",
       "  <tbody>\n",
       "    <tr>\n",
       "      <th>17:41197805:ACATCTGCC:['A']</th>\n",
       "      <td>0.048545</td>\n",
       "      <td>5.068929</td>\n",
       "      <td>-2.924059</td>\n",
       "      <td>-4.232478</td>\n",
       "      <td>-0.068444</td>\n",
       "      <td>-3.663338</td>\n",
       "      <td>0.048545</td>\n",
       "      <td>0.942513</td>\n",
       "      <td>5.068929</td>\n",
       "      <td>-2.924059</td>\n",
       "      <td>-4.232478</td>\n",
       "      <td>-0.068444</td>\n",
       "      <td>-3.694287</td>\n",
       "    </tr>\n",
       "    <tr>\n",
       "      <th>17:41197809:CTGCCCAAT:['C']</th>\n",
       "      <td>-0.208980</td>\n",
       "      <td>4.766502</td>\n",
       "      <td>-2.924059</td>\n",
       "      <td>-3.931190</td>\n",
       "      <td>0.482525</td>\n",
       "      <td>-4.180473</td>\n",
       "      <td>-0.208980</td>\n",
       "      <td>0.982340</td>\n",
       "      <td>5.068929</td>\n",
       "      <td>-2.924059</td>\n",
       "      <td>-3.931190</td>\n",
       "      <td>0.482525</td>\n",
       "      <td>-4.191132</td>\n",
       "    </tr>\n",
       "    <tr>\n",
       "      <th>17:41197810:T:['A']</th>\n",
       "      <td>0.098853</td>\n",
       "      <td>5.068929</td>\n",
       "      <td>-2.924059</td>\n",
       "      <td>-2.570118</td>\n",
       "      <td>-0.261311</td>\n",
       "      <td>-3.897650</td>\n",
       "      <td>0.098853</td>\n",
       "      <td>0.872820</td>\n",
       "      <td>5.068929</td>\n",
       "      <td>-2.924059</td>\n",
       "      <td>-2.570118</td>\n",
       "      <td>-0.261311</td>\n",
       "      <td>-3.961106</td>\n",
       "    </tr>\n",
       "    <tr>\n",
       "      <th>17:41197811:G:['T']</th>\n",
       "      <td>0.325282</td>\n",
       "      <td>5.068929</td>\n",
       "      <td>-2.924059</td>\n",
       "      <td>-2.570118</td>\n",
       "      <td>-0.261311</td>\n",
       "      <td>-3.751340</td>\n",
       "      <td>0.325282</td>\n",
       "      <td>0.877968</td>\n",
       "      <td>5.068929</td>\n",
       "      <td>-2.924059</td>\n",
       "      <td>-2.570118</td>\n",
       "      <td>-0.261311</td>\n",
       "      <td>-3.961106</td>\n",
       "    </tr>\n",
       "    <tr>\n",
       "      <th>17:41197812:C:['A']</th>\n",
       "      <td>0.050051</td>\n",
       "      <td>5.068929</td>\n",
       "      <td>-2.924059</td>\n",
       "      <td>-2.570118</td>\n",
       "      <td>-0.261311</td>\n",
       "      <td>-3.929184</td>\n",
       "      <td>0.050051</td>\n",
       "      <td>0.871686</td>\n",
       "      <td>5.068929</td>\n",
       "      <td>-2.924059</td>\n",
       "      <td>-2.570118</td>\n",
       "      <td>-0.261311</td>\n",
       "      <td>-3.961106</td>\n",
       "    </tr>\n",
       "  </tbody>\n",
       "</table>\n",
       "</div>"
      ],
      "text/plain": [
       "                             mmsplice_dlogitPsi  mmsplice_alt_acceptor  \\\n",
       "ID                                                                       \n",
       "17:41197805:ACATCTGCC:['A']            0.048545               5.068929   \n",
       "17:41197809:CTGCCCAAT:['C']           -0.208980               4.766502   \n",
       "17:41197810:T:['A']                    0.098853               5.068929   \n",
       "17:41197811:G:['T']                    0.325282               5.068929   \n",
       "17:41197812:C:['A']                    0.050051               5.068929   \n",
       "\n",
       "                             mmsplice_alt_acceptorIntron  mmsplice_alt_donor  \\\n",
       "ID                                                                             \n",
       "17:41197805:ACATCTGCC:['A']                    -2.924059           -4.232478   \n",
       "17:41197809:CTGCCCAAT:['C']                    -2.924059           -3.931190   \n",
       "17:41197810:T:['A']                            -2.924059           -2.570118   \n",
       "17:41197811:G:['T']                            -2.924059           -2.570118   \n",
       "17:41197812:C:['A']                            -2.924059           -2.570118   \n",
       "\n",
       "                             mmsplice_alt_donorIntron  mmsplice_alt_exon  \\\n",
       "ID                                                                         \n",
       "17:41197805:ACATCTGCC:['A']                 -0.068444          -3.663338   \n",
       "17:41197809:CTGCCCAAT:['C']                  0.482525          -4.180473   \n",
       "17:41197810:T:['A']                         -0.261311          -3.897650   \n",
       "17:41197811:G:['T']                         -0.261311          -3.751340   \n",
       "17:41197812:C:['A']                         -0.261311          -3.929184   \n",
       "\n",
       "                             mmsplice_delta_logit_psi  mmsplice_pathogenicity  \\\n",
       "ID                                                                              \n",
       "17:41197805:ACATCTGCC:['A']                  0.048545                0.942513   \n",
       "17:41197809:CTGCCCAAT:['C']                 -0.208980                0.982340   \n",
       "17:41197810:T:['A']                          0.098853                0.872820   \n",
       "17:41197811:G:['T']                          0.325282                0.877968   \n",
       "17:41197812:C:['A']                          0.050051                0.871686   \n",
       "\n",
       "                             mmsplice_ref_acceptor  \\\n",
       "ID                                                   \n",
       "17:41197805:ACATCTGCC:['A']               5.068929   \n",
       "17:41197809:CTGCCCAAT:['C']               5.068929   \n",
       "17:41197810:T:['A']                       5.068929   \n",
       "17:41197811:G:['T']                       5.068929   \n",
       "17:41197812:C:['A']                       5.068929   \n",
       "\n",
       "                             mmsplice_ref_acceptorIntron  mmsplice_ref_donor  \\\n",
       "ID                                                                             \n",
       "17:41197805:ACATCTGCC:['A']                    -2.924059           -4.232478   \n",
       "17:41197809:CTGCCCAAT:['C']                    -2.924059           -3.931190   \n",
       "17:41197810:T:['A']                            -2.924059           -2.570118   \n",
       "17:41197811:G:['T']                            -2.924059           -2.570118   \n",
       "17:41197812:C:['A']                            -2.924059           -2.570118   \n",
       "\n",
       "                             mmsplice_ref_donorIntron  mmsplice_ref_exon  \n",
       "ID                                                                        \n",
       "17:41197805:ACATCTGCC:['A']                 -0.068444          -3.694287  \n",
       "17:41197809:CTGCCCAAT:['C']                  0.482525          -4.191132  \n",
       "17:41197810:T:['A']                         -0.261311          -3.961106  \n",
       "17:41197811:G:['T']                         -0.261311          -3.961106  \n",
       "17:41197812:C:['A']                         -0.261311          -3.961106  "
      ]
     },
     "execution_count": 5,
     "metadata": {},
     "output_type": "execute_result"
    }
   ],
   "source": [
    "df_plugin_predictionsMax.head()"
   ]
  },
  {
   "cell_type": "markdown",
   "metadata": {},
   "source": [
    "## mmsplice python api results"
   ]
  },
  {
   "cell_type": "code",
   "execution_count": 6,
   "metadata": {},
   "outputs": [],
   "source": [
    "gtf = '../tests/data/test.gtf'\n",
    "vcf = '../tests/data/test.vcf.gz'\n",
    "fasta = '../tests/data/hg19.nochr.chr17.fa'\n",
    "gtfIntervalTree = '../tests/data/test.pkl' # pickle exon interval Tree"
   ]
  },
  {
   "cell_type": "code",
   "execution_count": 7,
   "metadata": {},
   "outputs": [],
   "source": [
    "dl = SplicingVCFDataloader(gtfIntervalTree, \n",
    "                          fasta,\n",
    "                          vcf,\n",
    "                          out_file=gtfIntervalTree,\n",
    "                          split_seq=False, overhang=(100,100))"
   ]
  },
  {
   "cell_type": "code",
   "execution_count": 8,
   "metadata": {
    "scrolled": true
   },
   "outputs": [
    {
     "name": "stderr",
     "output_type": "stream",
     "text": [
      "/home/muhammedhasan/Projects/EIS/venv/lib/python3.5/site-packages/keras/engine/saving.py:292: UserWarning: No training configuration found in save file: the model was *not* compiled. Compile it manually.\n",
      "  warnings.warn('No training configuration found in save file: '\n"
     ]
    }
   ],
   "source": [
    "model = MMSplice(\n",
    "    exon_cut_l=0,\n",
    "    exon_cut_r=0,\n",
    "    acceptor_intron_cut=6,\n",
    "    donor_intron_cut=6,\n",
    "    acceptor_intron_len=50,\n",
    "    acceptor_exon_len=3,\n",
    "    donor_exon_len=5,\n",
    "    donor_intron_len=13)"
   ]
  },
  {
   "cell_type": "code",
   "execution_count": 9,
   "metadata": {
    "scrolled": true
   },
   "outputs": [
    {
     "name": "stderr",
     "output_type": "stream",
     "text": [
      "0it [00:00, ?it/s]/home/muhammedhasan/Projects/EIS/mmsplice/mmsplice.py:162: UserWarning: None GT donor\n",
      "  warnings.warn(\"None GT donor\", UserWarning)\n",
      "/home/muhammedhasan/Projects/EIS/mmsplice/mmsplice.py:164: UserWarning: None AG donor\n",
      "  warnings.warn(\"None AG donor\", UserWarning)\n",
      "3it [00:21,  7.51s/it]\n"
     ]
    }
   ],
   "source": [
    "df_python = predict_all_table(model, dl, batch_size=1024, split_seq=False, assembly=True, pathogenicity=True, splicing_efficiency=True)"
   ]
  },
  {
   "cell_type": "code",
   "execution_count": 10,
   "metadata": {
    "scrolled": true
   },
   "outputs": [
    {
     "data": {
      "text/html": [
       "<div>\n",
       "<style scoped>\n",
       "    .dataframe tbody tr th:only-of-type {\n",
       "        vertical-align: middle;\n",
       "    }\n",
       "\n",
       "    .dataframe tbody tr th {\n",
       "        vertical-align: top;\n",
       "    }\n",
       "\n",
       "    .dataframe thead th {\n",
       "        text-align: right;\n",
       "    }\n",
       "</style>\n",
       "<table border=\"1\" class=\"dataframe\">\n",
       "  <thead>\n",
       "    <tr style=\"text-align: right;\">\n",
       "      <th></th>\n",
       "      <th>ID</th>\n",
       "      <th>exons</th>\n",
       "      <th>mmsplice_pathogenicity</th>\n",
       "      <th>mmsplice_dse</th>\n",
       "      <th>mmsplice_dlogitPsi</th>\n",
       "    </tr>\n",
       "  </thead>\n",
       "  <tbody>\n",
       "    <tr>\n",
       "      <th>0</th>\n",
       "      <td>17:41197805:ACATCTGCC:['A']</td>\n",
       "      <td>17_41197695_41197819:-</td>\n",
       "      <td>0.871460</td>\n",
       "      <td>-0.024030</td>\n",
       "      <td>0.040370</td>\n",
       "    </tr>\n",
       "    <tr>\n",
       "      <th>1</th>\n",
       "      <td>17:41197805:ACATCTGCC:['A']</td>\n",
       "      <td>17_41196312_41197819:-</td>\n",
       "      <td>0.908687</td>\n",
       "      <td>-0.119514</td>\n",
       "      <td>0.001848</td>\n",
       "    </tr>\n",
       "    <tr>\n",
       "      <th>2</th>\n",
       "      <td>17:41197805:ACATCTGCC:['A']</td>\n",
       "      <td>17_41196313_41197819:-</td>\n",
       "      <td>0.949493</td>\n",
       "      <td>-0.119505</td>\n",
       "      <td>0.001852</td>\n",
       "    </tr>\n",
       "    <tr>\n",
       "      <th>3</th>\n",
       "      <td>17:41197805:ACATCTGCC:['A']</td>\n",
       "      <td>17_41196822_41197819:-</td>\n",
       "      <td>0.853564</td>\n",
       "      <td>-0.108007</td>\n",
       "      <td>0.006490</td>\n",
       "    </tr>\n",
       "    <tr>\n",
       "      <th>4</th>\n",
       "      <td>17:41197805:ACATCTGCC:['A']</td>\n",
       "      <td>17_41197580_41197819:-</td>\n",
       "      <td>0.941126</td>\n",
       "      <td>-0.012832</td>\n",
       "      <td>0.044888</td>\n",
       "    </tr>\n",
       "  </tbody>\n",
       "</table>\n",
       "</div>"
      ],
      "text/plain": [
       "                            ID                   exons  \\\n",
       "0  17:41197805:ACATCTGCC:['A']  17_41197695_41197819:-   \n",
       "1  17:41197805:ACATCTGCC:['A']  17_41196312_41197819:-   \n",
       "2  17:41197805:ACATCTGCC:['A']  17_41196313_41197819:-   \n",
       "3  17:41197805:ACATCTGCC:['A']  17_41196822_41197819:-   \n",
       "4  17:41197805:ACATCTGCC:['A']  17_41197580_41197819:-   \n",
       "\n",
       "   mmsplice_pathogenicity  mmsplice_dse  mmsplice_dlogitPsi  \n",
       "0                0.871460     -0.024030            0.040370  \n",
       "1                0.908687     -0.119514            0.001848  \n",
       "2                0.949493     -0.119505            0.001852  \n",
       "3                0.853564     -0.108007            0.006490  \n",
       "4                0.941126     -0.012832            0.044888  "
      ]
     },
     "execution_count": 10,
     "metadata": {},
     "output_type": "execute_result"
    }
   ],
   "source": [
    "df_python.head()"
   ]
  },
  {
   "cell_type": "code",
   "execution_count": 11,
   "metadata": {},
   "outputs": [
    {
     "data": {
      "text/plain": [
       "(2164, 5)"
      ]
     },
     "execution_count": 11,
     "metadata": {},
     "output_type": "execute_result"
    }
   ],
   "source": [
    "df_python.shape"
   ]
  },
  {
   "cell_type": "code",
   "execution_count": 12,
   "metadata": {},
   "outputs": [],
   "source": [
    "df_python_predictionsMax = max_varEff(df_python).set_index('ID')"
   ]
  },
  {
   "cell_type": "markdown",
   "metadata": {},
   "source": [
    "## Comparison"
   ]
  },
  {
   "cell_type": "code",
   "execution_count": 13,
   "metadata": {},
   "outputs": [],
   "source": [
    "indexes = list(set(df_plugin_predictionsMax.index) & set(df_python_predictionsMax.index))"
   ]
  },
  {
   "cell_type": "code",
   "execution_count": 14,
   "metadata": {},
   "outputs": [
    {
     "data": {
      "image/png": "[encoded data removed]",
      "text/plain": [
       "<Figure size 360x360 with 1 Axes>"
      ]
     },
     "metadata": {
      "needs_background": "light"
     },
     "output_type": "display_data"
    }
   ],
   "source": [
    "%matplotlib inline\n",
    "\n",
    "import matplotlib.pyplot as plt\n",
    "\n",
    "fig = plt.figure(figsize=(5, 5))\n",
    "ax = fig.add_subplot(111)\n",
    "ax.scatter(\n",
    "    df_plugin_predictionsMax.loc[indexes, 'mmsplice_dlogitPsi'],\n",
    "    df_python_predictionsMax.loc[indexes, 'mmsplice_dlogitPsi'])\n",
    "plt.show()"
   ]
  },
  {
   "cell_type": "code",
   "execution_count": 15,
   "metadata": {
    "scrolled": true
   },
   "outputs": [
    {
     "data": {
      "text/plain": [
       "4"
      ]
     },
     "execution_count": 15,
     "metadata": {},
     "output_type": "execute_result"
    }
   ],
   "source": [
    "sum(0 !=\n",
    "    df_plugin_predictionsMax.loc[indexes, 'mmsplice_dlogitPsi'] - \n",
    "    df_python_predictionsMax.loc[indexes, 'mmsplice_dlogitPsi'])"
   ]
  },
  {
   "cell_type": "code",
   "execution_count": 16,
   "metadata": {},
   "outputs": [],
   "source": [
    "diff_series = df_plugin_predictionsMax.loc[indexes, 'mmsplice_dlogitPsi'] - df_python_predictionsMax.loc[indexes, 'mmsplice_dlogitPsi']\n",
    "diff_series = diff_series[diff_series != 0]"
   ]
  },
  {
   "cell_type": "markdown",
   "metadata": {},
   "source": [
    "Following handled by plugin not python. This is fine due to extra exons."
   ]
  },
  {
   "cell_type": "code",
   "execution_count": 17,
   "metadata": {
    "scrolled": true
   },
   "outputs": [
    {
     "data": {
      "text/plain": [
       "12"
      ]
     },
     "execution_count": 17,
     "metadata": {},
     "output_type": "execute_result"
    }
   ],
   "source": [
    "len(set(df_plugin_predictionsMax.index) - set(df_python_predictionsMax.index))"
   ]
  },
  {
   "cell_type": "code",
   "execution_count": 18,
   "metadata": {},
   "outputs": [
    {
     "data": {
      "text/plain": [
       "[]"
      ]
     },
     "execution_count": 18,
     "metadata": {},
     "output_type": "execute_result"
    }
   ],
   "source": [
    "list(set(df_python_predictionsMax.index) - set(df_plugin_predictionsMax.index))"
   ]
  }
 ],
 "metadata": {
  "kernelspec": {
   "display_name": "mmsplice",
   "language": "python",
   "name": "mmsplice"
  },
  "language_info": {
   "codemirror_mode": {
    "name": "ipython",
    "version": 3
   },
   "file_extension": ".py",
   "mimetype": "text/x-python",
   "name": "python",
   "nbconvert_exporter": "python",
   "pygments_lexer": "ipython3",
   "version": "3.5.2"
  }
 },
 "nbformat": 4,
 "nbformat_minor": 2
}
